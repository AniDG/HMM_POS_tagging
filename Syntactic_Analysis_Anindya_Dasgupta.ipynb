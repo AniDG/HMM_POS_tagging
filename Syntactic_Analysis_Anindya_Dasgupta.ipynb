{
 "cells": [
  {
   "cell_type": "markdown",
   "metadata": {},
   "source": [
    "## Syntactic Analysis Assignment using Viterbi and Modifications of Viterbi Algorithm\n",
    "\n",
    "Submitted By:  Anindya Dasgupta\n",
    "\n",
    "As the execution of models/algorithms were taking considerable amount of time, so I have pickled all the related algorithms/models, just in case required. All the pickle files are attached with this notebook.\n",
    "\n",
    "Attached pickle files are:-\n",
    "- Vanilla_Viterbi_tagged_seq.sav\n",
    "- Viterbi_Mod1_Laplace_Smoothing_tagged_seq.sav\n",
    "- Viterbi_Mod2_Lexicon_tagged_seq.sav\n",
    "- Viterbi_Mod2_Rule_based_tagged_seq.sav"
   ]
  },
  {
   "cell_type": "markdown",
   "metadata": {},
   "source": [
    "### Data Preparation"
   ]
  },
  {
   "cell_type": "code",
   "execution_count": 1,
   "metadata": {},
   "outputs": [],
   "source": [
    "#Importing libraries\n",
    "import nltk, re, pprint\n",
    "import numpy as np\n",
    "import pandas as pd\n",
    "import requests\n",
    "import matplotlib.pyplot as plt\n",
    "import seaborn as sns\n",
    "import pprint, time\n",
    "import random\n",
    "from sklearn.model_selection import train_test_split\n",
    "from nltk.tokenize import word_tokenize"
   ]
  },
  {
   "cell_type": "code",
   "execution_count": 2,
   "metadata": {},
   "outputs": [
    {
     "name": "stderr",
     "output_type": "stream",
     "text": [
      "[nltk_data] Downloading package universal_tagset to\n",
      "[nltk_data]     C:\\Users\\af39578\\AppData\\Roaming\\nltk_data...\n",
      "[nltk_data]   Package universal_tagset is already up-to-date!\n"
     ]
    },
    {
     "data": {
      "text/plain": [
       "True"
      ]
     },
     "execution_count": 2,
     "metadata": {},
     "output_type": "execute_result"
    }
   ],
   "source": [
    "#downloading universal_tagset dataset\n",
    "nltk.download('universal_tagset')"
   ]
  },
  {
   "cell_type": "code",
   "execution_count": 3,
   "metadata": {},
   "outputs": [],
   "source": [
    "# reading the Treebank tagged sentences\n",
    "nltk_data = list(nltk.corpus.treebank.tagged_sents(tagset='universal'))"
   ]
  },
  {
   "cell_type": "code",
   "execution_count": 4,
   "metadata": {},
   "outputs": [
    {
     "name": "stdout",
     "output_type": "stream",
     "text": [
      "[[('Pierre', 'NOUN'), ('Vinken', 'NOUN'), (',', '.'), ('61', 'NUM'), ('years', 'NOUN'), ('old', 'ADJ'), (',', '.'), ('will', 'VERB'), ('join', 'VERB'), ('the', 'DET'), ('board', 'NOUN'), ('as', 'ADP'), ('a', 'DET'), ('nonexecutive', 'ADJ'), ('director', 'NOUN'), ('Nov.', 'NOUN'), ('29', 'NUM'), ('.', '.')], [('Mr.', 'NOUN'), ('Vinken', 'NOUN'), ('is', 'VERB'), ('chairman', 'NOUN'), ('of', 'ADP'), ('Elsevier', 'NOUN'), ('N.V.', 'NOUN'), (',', '.'), ('the', 'DET'), ('Dutch', 'NOUN'), ('publishing', 'VERB'), ('group', 'NOUN'), ('.', '.')], [('Rudolph', 'NOUN'), ('Agnew', 'NOUN'), (',', '.'), ('55', 'NUM'), ('years', 'NOUN'), ('old', 'ADJ'), ('and', 'CONJ'), ('former', 'ADJ'), ('chairman', 'NOUN'), ('of', 'ADP'), ('Consolidated', 'NOUN'), ('Gold', 'NOUN'), ('Fields', 'NOUN'), ('PLC', 'NOUN'), (',', '.'), ('was', 'VERB'), ('named', 'VERB'), ('*-1', 'X'), ('a', 'DET'), ('nonexecutive', 'ADJ'), ('director', 'NOUN'), ('of', 'ADP'), ('this', 'DET'), ('British', 'ADJ'), ('industrial', 'ADJ'), ('conglomerate', 'NOUN'), ('.', '.')], [('A', 'DET'), ('form', 'NOUN'), ('of', 'ADP'), ('asbestos', 'NOUN'), ('once', 'ADV'), ('used', 'VERB'), ('*', 'X'), ('*', 'X'), ('to', 'PRT'), ('make', 'VERB'), ('Kent', 'NOUN'), ('cigarette', 'NOUN'), ('filters', 'NOUN'), ('has', 'VERB'), ('caused', 'VERB'), ('a', 'DET'), ('high', 'ADJ'), ('percentage', 'NOUN'), ('of', 'ADP'), ('cancer', 'NOUN'), ('deaths', 'NOUN'), ('among', 'ADP'), ('a', 'DET'), ('group', 'NOUN'), ('of', 'ADP'), ('workers', 'NOUN'), ('exposed', 'VERB'), ('*', 'X'), ('to', 'PRT'), ('it', 'PRON'), ('more', 'ADV'), ('than', 'ADP'), ('30', 'NUM'), ('years', 'NOUN'), ('ago', 'ADP'), (',', '.'), ('researchers', 'NOUN'), ('reported', 'VERB'), ('0', 'X'), ('*T*-1', 'X'), ('.', '.')], [('The', 'DET'), ('asbestos', 'NOUN'), ('fiber', 'NOUN'), (',', '.'), ('crocidolite', 'NOUN'), (',', '.'), ('is', 'VERB'), ('unusually', 'ADV'), ('resilient', 'ADJ'), ('once', 'ADP'), ('it', 'PRON'), ('enters', 'VERB'), ('the', 'DET'), ('lungs', 'NOUN'), (',', '.'), ('with', 'ADP'), ('even', 'ADV'), ('brief', 'ADJ'), ('exposures', 'NOUN'), ('to', 'PRT'), ('it', 'PRON'), ('causing', 'VERB'), ('symptoms', 'NOUN'), ('that', 'DET'), ('*T*-1', 'X'), ('show', 'VERB'), ('up', 'PRT'), ('decades', 'NOUN'), ('later', 'ADJ'), (',', '.'), ('researchers', 'NOUN'), ('said', 'VERB'), ('0', 'X'), ('*T*-2', 'X'), ('.', '.')]]\n"
     ]
    }
   ],
   "source": [
    "#displaying first five sentences in TreeBank dataset\n",
    "print(nltk_data[:5])"
   ]
  },
  {
   "cell_type": "code",
   "execution_count": 5,
   "metadata": {},
   "outputs": [
    {
     "name": "stdout",
     "output_type": "stream",
     "text": [
      "Length of training dataset= 3718\n",
      "Length of testing dataset= 196\n"
     ]
    }
   ],
   "source": [
    "#Splitting dataset into train-test\n",
    "random.seed(42)\n",
    "train_set, test_set = train_test_split(nltk_data,test_size=0.05)\n",
    "\n",
    "print('Length of training dataset=',len(train_set))\n",
    "print('Length of testing dataset=',len(test_set))"
   ]
  },
  {
   "cell_type": "code",
   "execution_count": 6,
   "metadata": {},
   "outputs": [
    {
     "name": "stdout",
     "output_type": "stream",
     "text": [
      "[[('A', 'DET'), ('full', 'ADJ'), (',', '.'), ('four-color', 'ADJ'), ('page', 'NOUN'), ('in', 'ADP'), ('Newsweek', 'NOUN'), ('will', 'VERB'), ('cost', 'VERB'), ('$', '.'), ('100,980', 'NUM'), ('*U*', 'X'), ('.', '.')], [('In', 'ADP'), ('Arizona', 'NOUN'), (',', '.'), ('California', 'NOUN'), (',', '.'), ('Florida', 'NOUN'), (',', '.'), ('Louisiana', 'NOUN'), (',', '.'), ('Maryland', 'NOUN'), (',', '.'), ('New', 'NOUN'), ('Jersey', 'NOUN'), (',', '.'), ('South', 'NOUN'), ('Carolina', 'NOUN'), ('and', 'CONJ'), ('Texas', 'NOUN'), (',', '.'), ('educators', 'NOUN'), ('say', 'VERB'), ('0', 'X'), ('they', 'PRON'), ('are', 'VERB'), ('common', 'ADJ'), ('classroom', 'NOUN'), ('tools', 'NOUN'), ('.', '.')], [('The', 'DET'), ('Treasury', 'NOUN'), ('plans', 'VERB'), ('*-1', 'X'), ('to', 'PRT'), ('sell', 'VERB'), ('$', '.'), ('30', 'NUM'), ('billion', 'NUM'), ('*U*', 'X'), ('in', 'ADP'), ('notes', 'NOUN'), ('and', 'CONJ'), ('bonds', 'NOUN'), ('next', 'ADP'), ('week', 'NOUN'), ('but', 'CONJ'), ('will', 'VERB'), ('delay', 'VERB'), ('the', 'DET'), ('auction', 'NOUN'), ('unless', 'ADP'), ('Congress', 'NOUN'), ('quickly', 'ADV'), ('raises', 'VERB'), ('the', 'DET'), ('debt', 'NOUN'), ('ceiling', 'NOUN'), ('.', '.')], [('Attorneys', 'NOUN'), ('have', 'VERB'), ('argued', 'VERB'), ('since', 'ADP'), ('1985', 'NUM'), (',', '.'), ('when', 'ADV'), ('the', 'DET'), ('law', 'NOUN'), ('took', 'VERB'), ('effect', 'NOUN'), ('*T*-1', 'X'), (',', '.'), ('that', 'ADP'), ('they', 'PRON'), ('can', 'VERB'), ('not', 'ADV'), ('provide', 'VERB'), ('information', 'NOUN'), ('about', 'ADP'), ('clients', 'NOUN'), ('who', 'PRON'), ('*T*-127', 'X'), ('do', 'VERB'), (\"n't\", 'ADV'), ('wish', 'VERB'), ('their', 'PRON'), ('identities', 'NOUN'), ('to', 'PRT'), ('be', 'VERB'), ('known', 'VERB'), ('*-3', 'X'), ('.', '.')], [('Yields', 'NOUN'), ('on', 'ADP'), ('money-market', 'ADJ'), ('mutual', 'ADJ'), ('funds', 'NOUN'), ('continued', 'VERB'), ('*-1', 'X'), ('to', 'PRT'), ('slide', 'VERB'), (',', '.'), ('amid', 'ADP'), ('signs', 'NOUN'), ('that', 'ADP'), ('portfolio', 'NOUN'), ('managers', 'NOUN'), ('expect', 'VERB'), ('further', 'ADJ'), ('declines', 'NOUN'), ('in', 'ADP'), ('interest', 'NOUN'), ('rates', 'NOUN'), ('.', '.')], [('Ford', 'NOUN'), ('Chairman', 'NOUN'), ('Donald', 'NOUN'), ('E.', 'NOUN'), ('Petersen', 'NOUN'), ('said', 'VERB'), ('yesterday', 'NOUN'), ('that', 'ADP'), ('Mr.', 'NOUN'), ('Veraldi', 'NOUN'), ('has', 'VERB'), ('``', '.'), ('helped', 'VERB'), ('*-1', 'X'), ('to', 'PRT'), ('change', 'VERB'), ('the', 'DET'), ('world', 'NOUN'), (\"'s\", 'PRT'), ('perception', 'NOUN'), ('of', 'ADP'), ('American-made', 'ADJ'), ('cars', 'NOUN'), ('.', '.'), (\"''\", '.')], [('That', 'DET'), (\"'s\", 'VERB'), ('not', 'ADV'), ('*', 'X'), ('to', 'PRT'), ('say', 'VERB'), ('that', 'ADP'), ('the', 'DET'), ('nutty', 'ADJ'), ('plot', 'NOUN'), ('of', 'ADP'), ('``', '.'), ('A', 'DET'), ('Wild', 'NOUN'), ('Sheep', 'NOUN'), ('Chase', 'NOUN'), (\"''\", '.'), ('is', 'VERB'), ('rooted', 'VERB'), ('*-57', 'X'), ('in', 'ADP'), ('reality', 'NOUN'), ('.', '.')], [('Reasons', 'NOUN'), ('for', 'ADP'), ('the', 'DET'), ('walkout', 'NOUN'), (',', '.'), ('the', 'DET'), ('analyst', 'NOUN'), ('said', 'VERB'), ('0', 'X'), ('*T*-1', 'X'), (',', '.'), ('included', 'VERB'), ('a', 'DET'), ('number', 'NOUN'), ('of', 'ADP'), ('procedural', 'ADJ'), ('issues', 'NOUN'), (',', '.'), ('such', 'ADJ'), ('as', 'ADP'), ('a', 'DET'), ('right', 'NOUN'), ('*', 'X'), ('to', 'PRT'), ('strike', 'VERB'), ('.', '.')], [('In', 'ADP'), ('index', 'NOUN'), ('arbitrage', 'NOUN'), (',', '.'), ('the', 'DET'), ('widget', 'NOUN'), ('is', 'VERB'), ('the', 'DET'), ('S&P', 'NOUN'), ('500', 'NUM'), (',', '.'), ('and', 'CONJ'), ('its', 'PRON'), ('price', 'NOUN'), ('is', 'VERB'), ('constantly', 'ADV'), ('compared', 'VERB'), ('between', 'ADP'), ('the', 'DET'), ('futures', 'NOUN'), ('market', 'NOUN'), ('in', 'ADP'), ('Chicago', 'NOUN'), ('and', 'CONJ'), ('the', 'DET'), ('stock', 'NOUN'), ('markets', 'NOUN'), ('largely', 'ADV'), ('in', 'ADP'), ('New', 'NOUN'), ('York', 'NOUN'), ('.', '.')], [('Terms', 'NOUN'), ('were', 'VERB'), (\"n't\", 'ADV'), ('disclosed', 'VERB'), ('*-1', 'X'), ('.', '.')]]\n"
     ]
    }
   ],
   "source": [
    "#checking some training data\n",
    "print(train_set[:10])"
   ]
  },
  {
   "cell_type": "code",
   "execution_count": 7,
   "metadata": {},
   "outputs": [
    {
     "name": "stdout",
     "output_type": "stream",
     "text": [
      "Length of train POS tagged words= 95674\n"
     ]
    }
   ],
   "source": [
    "# Getting list of tagged words\n",
    "train_tagged_words = [tup for sent in train_set for tup in sent]\n",
    "print('Length of train POS tagged words=',len(train_tagged_words))"
   ]
  },
  {
   "cell_type": "code",
   "execution_count": 8,
   "metadata": {},
   "outputs": [
    {
     "data": {
      "text/plain": [
       "[('A', 'DET'),\n",
       " ('full', 'ADJ'),\n",
       " (',', '.'),\n",
       " ('four-color', 'ADJ'),\n",
       " ('page', 'NOUN'),\n",
       " ('in', 'ADP'),\n",
       " ('Newsweek', 'NOUN'),\n",
       " ('will', 'VERB'),\n",
       " ('cost', 'VERB'),\n",
       " ('$', '.')]"
      ]
     },
     "execution_count": 8,
     "metadata": {},
     "output_type": "execute_result"
    }
   ],
   "source": [
    "#checking out some training words with POS tagged\n",
    "train_tagged_words[:10]"
   ]
  },
  {
   "cell_type": "markdown",
   "metadata": {},
   "source": [
    "#### Creating Vocabulary Set"
   ]
  },
  {
   "cell_type": "code",
   "execution_count": 9,
   "metadata": {},
   "outputs": [
    {
     "name": "stdout",
     "output_type": "stream",
     "text": [
      "Total number of words prsent in the vocabulary= 95674\n",
      "__________________________________________________\n",
      "Displaying top ten tokens\n",
      "\n"
     ]
    },
    {
     "data": {
      "text/plain": [
       "['A', 'full', ',', 'four-color', 'page', 'in', 'Newsweek', 'will', 'cost', '$']"
      ]
     },
     "execution_count": 9,
     "metadata": {},
     "output_type": "execute_result"
    }
   ],
   "source": [
    "# Extracting tokens (or words) from the train_tagged_words list\n",
    "tokens = [pair[0] for pair in train_tagged_words]\n",
    "print('Total number of words prsent in the vocabulary=',len(tokens))\n",
    "print('_'*50)\n",
    "print('Displaying top ten tokens\\n')\n",
    "tokens[:10]"
   ]
  },
  {
   "cell_type": "code",
   "execution_count": 10,
   "metadata": {},
   "outputs": [
    {
     "name": "stdout",
     "output_type": "stream",
     "text": [
      "Count of unique words in the vocabulary = 12071\n"
     ]
    }
   ],
   "source": [
    "# creating vocabulary set\n",
    "vocab_set = set(tokens)\n",
    "vocab_set_len = len(vocab_set)\n",
    "print(\"Count of unique words in the vocabulary =\",vocab_set_len)"
   ]
  },
  {
   "cell_type": "markdown",
   "metadata": {},
   "source": [
    "#### Creating Tag Set"
   ]
  },
  {
   "cell_type": "code",
   "execution_count": 11,
   "metadata": {},
   "outputs": [
    {
     "name": "stdout",
     "output_type": "stream",
     "text": [
      "Total number of tags prsent in the dataset= 95674\n",
      "__________________________________________________\n",
      "Displaying top ten tags\n",
      "\n"
     ]
    },
    {
     "data": {
      "text/plain": [
       "['DET', 'ADJ', '.', 'ADJ', 'NOUN', 'ADP', 'NOUN', 'VERB', 'VERB', '.']"
      ]
     },
     "execution_count": 11,
     "metadata": {},
     "output_type": "execute_result"
    }
   ],
   "source": [
    "# Extracting tags from the train_tagged_words list\n",
    "tags = [pair[1] for pair in train_tagged_words]\n",
    "print('Total number of tags prsent in the dataset=',len(tags))\n",
    "print('_'*50)\n",
    "print('Displaying top ten tags\\n')\n",
    "tags[:10]"
   ]
  },
  {
   "cell_type": "code",
   "execution_count": 12,
   "metadata": {},
   "outputs": [
    {
     "name": "stdout",
     "output_type": "stream",
     "text": [
      "Count of unique tags in the vocabulary = 12\n",
      "\n",
      "Disctinct tags are:  {'PRON', 'NUM', 'VERB', 'CONJ', 'DET', 'ADP', '.', 'X', 'PRT', 'ADJ', 'NOUN', 'ADV'}\n"
     ]
    }
   ],
   "source": [
    "# creating tag set\n",
    "tag_set = set(tags)\n",
    "tag_set_len = len(tag_set)\n",
    "print(\"Count of unique tags in the vocabulary =\",tag_set_len)\n",
    "print(\"\\nDisctinct tags are: \",tag_set)"
   ]
  },
  {
   "cell_type": "markdown",
   "metadata": {},
   "source": [
    "### Emisssion Probability\n",
    "\n",
    "Emission prbability of a word 'W' for a tag 't' is given by:-\n",
    "\n",
    "**P(W|t) = *Number of times W has been tagged t / Number of times t appears***"
   ]
  },
  {
   "cell_type": "code",
   "execution_count": 13,
   "metadata": {},
   "outputs": [],
   "source": [
    "# computing P(w/t) and storing in T x V matrix\n",
    "w_given_t = np.zeros((tag_set_len, vocab_set_len))"
   ]
  },
  {
   "cell_type": "code",
   "execution_count": 14,
   "metadata": {},
   "outputs": [],
   "source": [
    "# compute word given tag: Emission Probability\n",
    "def word_given_tag(word, tag, train_bag = train_tagged_words):\n",
    "    tag_list = [pair for pair in train_bag if pair[1]==tag]\n",
    "    count_tag = len(tag_list)\n",
    "    w_given_tag_list = [pair[0] for pair in tag_list if pair[0]==word]\n",
    "    count_w_given_tag = len(w_given_tag_list)\n",
    "    \n",
    "    return (count_w_given_tag, count_tag)"
   ]
  },
  {
   "cell_type": "code",
   "execution_count": 15,
   "metadata": {},
   "outputs": [
    {
     "name": "stdout",
     "output_type": "stream",
     "text": [
      "\n",
      "Word -> He\n",
      "(70, 2614)\n",
      "(0, 27448)\n",
      "\n",
      "Wrord -> large\n",
      "(29, 6080)\n",
      "(0, 27448)\n"
     ]
    }
   ],
   "source": [
    "# Some examples of word_given_tag\n",
    "print(\"\\nWord ->\", \"He\")\n",
    "print(word_given_tag('He', 'PRON'))\n",
    "print(word_given_tag('He', 'NOUN'))\n",
    "\n",
    "print(\"\\nWrord ->\", \"large\")\n",
    "print(word_given_tag('large', 'ADJ'))\n",
    "print(word_given_tag('large', 'NOUN'))"
   ]
  },
  {
   "cell_type": "markdown",
   "metadata": {},
   "source": [
    "### Transition Probability\n",
    "\n",
    "Transition probability of a tag t1 followed by tag t2 is given by:\n",
    "\n",
    "**P(t2|t1) = *Number of times t1 is followed by t2 / Number of times t1 appears***"
   ]
  },
  {
   "cell_type": "code",
   "execution_count": 16,
   "metadata": {},
   "outputs": [],
   "source": [
    "# compute tag given tag: tag2(t2) given tag1 (t1), i.e. Transition Probability\n",
    "\n",
    "def t2_given_t1(t2, t1, train_bag = train_tagged_words):\n",
    "    tags = [pair[1] for pair in train_bag]\n",
    "    count_t1 = len([t for t in tags if t==t1])\n",
    "    count_t2_t1 = 0\n",
    "    for index in range(len(tags)-1):\n",
    "        if tags[index]==t1 and tags[index+1] == t2:\n",
    "            count_t2_t1 += 1\n",
    "    return (count_t2_t1, count_t1)"
   ]
  },
  {
   "cell_type": "code",
   "execution_count": 17,
   "metadata": {},
   "outputs": [
    {
     "name": "stdout",
     "output_type": "stream",
     "text": [
      "(5286, 8282)\n",
      "(4244, 6080)\n"
     ]
    }
   ],
   "source": [
    "# Some examples of common POS tags followed by another POS tag\n",
    "print(t2_given_t1(t2='NOUN', t1='DET'))\n",
    "print(t2_given_t1('NOUN', 'ADJ'))"
   ]
  },
  {
   "cell_type": "code",
   "execution_count": 18,
   "metadata": {},
   "outputs": [],
   "source": [
    "# Creating transition matrix of tag_Set_len x tag_set len\n",
    "# row corresponds to t1, column corresponds to t2 and the cell represents P(tj|ti)\n",
    "\n",
    "transition_proba_matrix = np.zeros((tag_set_len, tag_set_len), dtype='float32')\n",
    "for i, t1 in enumerate(list(tag_set)):\n",
    "    for j, t2 in enumerate(list(tag_set)): \n",
    "        transition_proba_matrix[i, j] = t2_given_t1(t2, t1)[0]/t2_given_t1(t2, t1)[1]"
   ]
  },
  {
   "cell_type": "code",
   "execution_count": 19,
   "metadata": {},
   "outputs": [
    {
     "data": {
      "text/plain": [
       "array([[8.03366490e-03, 7.26855407e-03, 4.89288449e-01, 4.97322110e-03,\n",
       "        9.56388656e-03, 2.29533277e-02, 4.16985452e-02, 9.02830884e-02,\n",
       "        1.30068855e-02, 7.23029822e-02, 2.07345068e-01, 3.32823247e-02],\n",
       "       [1.48721004e-03, 1.85603812e-01, 1.66567527e-02, 1.36823319e-02,\n",
       "        3.27186193e-03, 3.48007120e-02, 1.16002381e-01, 2.11481258e-01,\n",
       "        2.76621059e-02, 3.36109474e-02, 3.52766216e-01, 2.97442009e-03],\n",
       "       [3.60660814e-02, 2.28030719e-02, 1.69161558e-01, 5.27417986e-03,\n",
       "        1.33638412e-01, 9.18327793e-02, 3.45148519e-02, 2.18568221e-01,\n",
       "        3.18777636e-02, 6.56945631e-02, 1.09439231e-01, 8.11292976e-02],\n",
       "       [5.76112419e-02, 3.93442623e-02, 1.55971900e-01, 4.68384067e-04,\n",
       "        1.18032783e-01, 5.57377040e-02, 3.41920368e-02, 8.43091309e-03,\n",
       "        4.68384055e-03, 1.18969552e-01, 3.50819677e-01, 5.57377040e-02],\n",
       "       [3.62231350e-03, 2.22168565e-02, 3.93624716e-02, 4.82975127e-04,\n",
       "        5.31272637e-03, 9.41801537e-03, 1.79908238e-02, 4.56411503e-02,\n",
       "        2.41487563e-04, 2.04539970e-01, 6.38251603e-01, 1.29195843e-02],\n",
       "       [6.86201379e-02, 6.29728287e-02, 8.73734709e-03, 8.52424069e-04,\n",
       "        3.22855622e-01, 1.66222695e-02, 3.99573781e-02, 3.42035145e-02,\n",
       "        1.49174209e-03, 1.06659561e-01, 3.23388398e-01, 1.36387851e-02],\n",
       "       [6.66187853e-02, 8.08044523e-02, 8.87053311e-02, 5.79996407e-02,\n",
       "        1.73909143e-01, 9.08601210e-02, 9.25659910e-02, 2.74735149e-02,\n",
       "        2.24456820e-03, 4.39037532e-02, 2.22391814e-01, 5.24331108e-02],\n",
       "       [5.65737039e-02, 2.86852592e-03, 2.04302788e-01, 1.01992032e-02,\n",
       "        5.43426313e-02, 1.45498008e-01, 1.63665339e-01, 7.39442259e-02,\n",
       "        1.84063748e-01, 1.67330671e-02, 6.24701194e-02, 2.53386460e-02],\n",
       "       [1.78978201e-02, 5.69476075e-02, 3.97982419e-01, 1.95248937e-03,\n",
       "        1.02831110e-01, 2.01757234e-02, 4.36055958e-02, 1.20403515e-02,\n",
       "        1.62707455e-03, 8.52587074e-02, 2.49918640e-01, 9.76244733e-03],\n",
       "       [6.57894765e-04, 1.99013166e-02, 1.20065790e-02, 1.71052627e-02,\n",
       "        5.09868423e-03, 7.96052665e-02, 6.54605255e-02, 2.12171059e-02,\n",
       "        1.10197365e-02, 6.51315823e-02, 6.98026299e-01, 4.76973690e-03],\n",
       "       [4.66336356e-03, 9.36315954e-03, 1.47223845e-01, 4.20795679e-02,\n",
       "        1.32250069e-02, 1.76442727e-01, 2.40454674e-01, 2.87452638e-02,\n",
       "        4.42655198e-02, 1.21320318e-02, 2.64536589e-01, 1.68682598e-02],\n",
       "       [1.40515221e-02, 3.17832045e-02, 3.44262302e-01, 6.69120112e-03,\n",
       "        6.95884898e-02, 1.19437940e-01, 1.36165947e-01, 2.27500834e-02,\n",
       "        1.40515221e-02, 1.32820338e-01, 3.24523263e-02, 7.59451315e-02]],\n",
       "      dtype=float32)"
      ]
     },
     "execution_count": 19,
     "metadata": {},
     "output_type": "execute_result"
    }
   ],
   "source": [
    "transition_proba_matrix"
   ]
  },
  {
   "cell_type": "code",
   "execution_count": 20,
   "metadata": {},
   "outputs": [
    {
     "data": {
      "text/html": [
       "<div>\n",
       "<style scoped>\n",
       "    .dataframe tbody tr th:only-of-type {\n",
       "        vertical-align: middle;\n",
       "    }\n",
       "\n",
       "    .dataframe tbody tr th {\n",
       "        vertical-align: top;\n",
       "    }\n",
       "\n",
       "    .dataframe thead th {\n",
       "        text-align: right;\n",
       "    }\n",
       "</style>\n",
       "<table border=\"1\" class=\"dataframe\">\n",
       "  <thead>\n",
       "    <tr style=\"text-align: right;\">\n",
       "      <th></th>\n",
       "      <th>PRON</th>\n",
       "      <th>NUM</th>\n",
       "      <th>VERB</th>\n",
       "      <th>CONJ</th>\n",
       "      <th>DET</th>\n",
       "      <th>ADP</th>\n",
       "      <th>.</th>\n",
       "      <th>X</th>\n",
       "      <th>PRT</th>\n",
       "      <th>ADJ</th>\n",
       "      <th>NOUN</th>\n",
       "      <th>ADV</th>\n",
       "    </tr>\n",
       "  </thead>\n",
       "  <tbody>\n",
       "    <tr>\n",
       "      <td>PRON</td>\n",
       "      <td>0.008034</td>\n",
       "      <td>0.007269</td>\n",
       "      <td>0.489288</td>\n",
       "      <td>0.004973</td>\n",
       "      <td>0.009564</td>\n",
       "      <td>0.022953</td>\n",
       "      <td>0.041699</td>\n",
       "      <td>0.090283</td>\n",
       "      <td>0.013007</td>\n",
       "      <td>0.072303</td>\n",
       "      <td>0.207345</td>\n",
       "      <td>0.033282</td>\n",
       "    </tr>\n",
       "    <tr>\n",
       "      <td>NUM</td>\n",
       "      <td>0.001487</td>\n",
       "      <td>0.185604</td>\n",
       "      <td>0.016657</td>\n",
       "      <td>0.013682</td>\n",
       "      <td>0.003272</td>\n",
       "      <td>0.034801</td>\n",
       "      <td>0.116002</td>\n",
       "      <td>0.211481</td>\n",
       "      <td>0.027662</td>\n",
       "      <td>0.033611</td>\n",
       "      <td>0.352766</td>\n",
       "      <td>0.002974</td>\n",
       "    </tr>\n",
       "    <tr>\n",
       "      <td>VERB</td>\n",
       "      <td>0.036066</td>\n",
       "      <td>0.022803</td>\n",
       "      <td>0.169162</td>\n",
       "      <td>0.005274</td>\n",
       "      <td>0.133638</td>\n",
       "      <td>0.091833</td>\n",
       "      <td>0.034515</td>\n",
       "      <td>0.218568</td>\n",
       "      <td>0.031878</td>\n",
       "      <td>0.065695</td>\n",
       "      <td>0.109439</td>\n",
       "      <td>0.081129</td>\n",
       "    </tr>\n",
       "    <tr>\n",
       "      <td>CONJ</td>\n",
       "      <td>0.057611</td>\n",
       "      <td>0.039344</td>\n",
       "      <td>0.155972</td>\n",
       "      <td>0.000468</td>\n",
       "      <td>0.118033</td>\n",
       "      <td>0.055738</td>\n",
       "      <td>0.034192</td>\n",
       "      <td>0.008431</td>\n",
       "      <td>0.004684</td>\n",
       "      <td>0.118970</td>\n",
       "      <td>0.350820</td>\n",
       "      <td>0.055738</td>\n",
       "    </tr>\n",
       "    <tr>\n",
       "      <td>DET</td>\n",
       "      <td>0.003622</td>\n",
       "      <td>0.022217</td>\n",
       "      <td>0.039362</td>\n",
       "      <td>0.000483</td>\n",
       "      <td>0.005313</td>\n",
       "      <td>0.009418</td>\n",
       "      <td>0.017991</td>\n",
       "      <td>0.045641</td>\n",
       "      <td>0.000241</td>\n",
       "      <td>0.204540</td>\n",
       "      <td>0.638252</td>\n",
       "      <td>0.012920</td>\n",
       "    </tr>\n",
       "    <tr>\n",
       "      <td>ADP</td>\n",
       "      <td>0.068620</td>\n",
       "      <td>0.062973</td>\n",
       "      <td>0.008737</td>\n",
       "      <td>0.000852</td>\n",
       "      <td>0.322856</td>\n",
       "      <td>0.016622</td>\n",
       "      <td>0.039957</td>\n",
       "      <td>0.034204</td>\n",
       "      <td>0.001492</td>\n",
       "      <td>0.106660</td>\n",
       "      <td>0.323388</td>\n",
       "      <td>0.013639</td>\n",
       "    </tr>\n",
       "    <tr>\n",
       "      <td>.</td>\n",
       "      <td>0.066619</td>\n",
       "      <td>0.080804</td>\n",
       "      <td>0.088705</td>\n",
       "      <td>0.058000</td>\n",
       "      <td>0.173909</td>\n",
       "      <td>0.090860</td>\n",
       "      <td>0.092566</td>\n",
       "      <td>0.027474</td>\n",
       "      <td>0.002245</td>\n",
       "      <td>0.043904</td>\n",
       "      <td>0.222392</td>\n",
       "      <td>0.052433</td>\n",
       "    </tr>\n",
       "    <tr>\n",
       "      <td>X</td>\n",
       "      <td>0.056574</td>\n",
       "      <td>0.002869</td>\n",
       "      <td>0.204303</td>\n",
       "      <td>0.010199</td>\n",
       "      <td>0.054343</td>\n",
       "      <td>0.145498</td>\n",
       "      <td>0.163665</td>\n",
       "      <td>0.073944</td>\n",
       "      <td>0.184064</td>\n",
       "      <td>0.016733</td>\n",
       "      <td>0.062470</td>\n",
       "      <td>0.025339</td>\n",
       "    </tr>\n",
       "    <tr>\n",
       "      <td>PRT</td>\n",
       "      <td>0.017898</td>\n",
       "      <td>0.056948</td>\n",
       "      <td>0.397982</td>\n",
       "      <td>0.001952</td>\n",
       "      <td>0.102831</td>\n",
       "      <td>0.020176</td>\n",
       "      <td>0.043606</td>\n",
       "      <td>0.012040</td>\n",
       "      <td>0.001627</td>\n",
       "      <td>0.085259</td>\n",
       "      <td>0.249919</td>\n",
       "      <td>0.009762</td>\n",
       "    </tr>\n",
       "    <tr>\n",
       "      <td>ADJ</td>\n",
       "      <td>0.000658</td>\n",
       "      <td>0.019901</td>\n",
       "      <td>0.012007</td>\n",
       "      <td>0.017105</td>\n",
       "      <td>0.005099</td>\n",
       "      <td>0.079605</td>\n",
       "      <td>0.065461</td>\n",
       "      <td>0.021217</td>\n",
       "      <td>0.011020</td>\n",
       "      <td>0.065132</td>\n",
       "      <td>0.698026</td>\n",
       "      <td>0.004770</td>\n",
       "    </tr>\n",
       "    <tr>\n",
       "      <td>NOUN</td>\n",
       "      <td>0.004663</td>\n",
       "      <td>0.009363</td>\n",
       "      <td>0.147224</td>\n",
       "      <td>0.042080</td>\n",
       "      <td>0.013225</td>\n",
       "      <td>0.176443</td>\n",
       "      <td>0.240455</td>\n",
       "      <td>0.028745</td>\n",
       "      <td>0.044266</td>\n",
       "      <td>0.012132</td>\n",
       "      <td>0.264537</td>\n",
       "      <td>0.016868</td>\n",
       "    </tr>\n",
       "    <tr>\n",
       "      <td>ADV</td>\n",
       "      <td>0.014052</td>\n",
       "      <td>0.031783</td>\n",
       "      <td>0.344262</td>\n",
       "      <td>0.006691</td>\n",
       "      <td>0.069588</td>\n",
       "      <td>0.119438</td>\n",
       "      <td>0.136166</td>\n",
       "      <td>0.022750</td>\n",
       "      <td>0.014052</td>\n",
       "      <td>0.132820</td>\n",
       "      <td>0.032452</td>\n",
       "      <td>0.075945</td>\n",
       "    </tr>\n",
       "  </tbody>\n",
       "</table>\n",
       "</div>"
      ],
      "text/plain": [
       "          PRON       NUM      VERB      CONJ       DET       ADP         .  \\\n",
       "PRON  0.008034  0.007269  0.489288  0.004973  0.009564  0.022953  0.041699   \n",
       "NUM   0.001487  0.185604  0.016657  0.013682  0.003272  0.034801  0.116002   \n",
       "VERB  0.036066  0.022803  0.169162  0.005274  0.133638  0.091833  0.034515   \n",
       "CONJ  0.057611  0.039344  0.155972  0.000468  0.118033  0.055738  0.034192   \n",
       "DET   0.003622  0.022217  0.039362  0.000483  0.005313  0.009418  0.017991   \n",
       "ADP   0.068620  0.062973  0.008737  0.000852  0.322856  0.016622  0.039957   \n",
       ".     0.066619  0.080804  0.088705  0.058000  0.173909  0.090860  0.092566   \n",
       "X     0.056574  0.002869  0.204303  0.010199  0.054343  0.145498  0.163665   \n",
       "PRT   0.017898  0.056948  0.397982  0.001952  0.102831  0.020176  0.043606   \n",
       "ADJ   0.000658  0.019901  0.012007  0.017105  0.005099  0.079605  0.065461   \n",
       "NOUN  0.004663  0.009363  0.147224  0.042080  0.013225  0.176443  0.240455   \n",
       "ADV   0.014052  0.031783  0.344262  0.006691  0.069588  0.119438  0.136166   \n",
       "\n",
       "             X       PRT       ADJ      NOUN       ADV  \n",
       "PRON  0.090283  0.013007  0.072303  0.207345  0.033282  \n",
       "NUM   0.211481  0.027662  0.033611  0.352766  0.002974  \n",
       "VERB  0.218568  0.031878  0.065695  0.109439  0.081129  \n",
       "CONJ  0.008431  0.004684  0.118970  0.350820  0.055738  \n",
       "DET   0.045641  0.000241  0.204540  0.638252  0.012920  \n",
       "ADP   0.034204  0.001492  0.106660  0.323388  0.013639  \n",
       ".     0.027474  0.002245  0.043904  0.222392  0.052433  \n",
       "X     0.073944  0.184064  0.016733  0.062470  0.025339  \n",
       "PRT   0.012040  0.001627  0.085259  0.249919  0.009762  \n",
       "ADJ   0.021217  0.011020  0.065132  0.698026  0.004770  \n",
       "NOUN  0.028745  0.044266  0.012132  0.264537  0.016868  \n",
       "ADV   0.022750  0.014052  0.132820  0.032452  0.075945  "
      ]
     },
     "execution_count": 20,
     "metadata": {},
     "output_type": "execute_result"
    }
   ],
   "source": [
    "# Creating a datframe using the above transition_proba_matrix\n",
    "# row = t1, column = t2\n",
    "\n",
    "tags_df = pd.DataFrame(transition_proba_matrix, columns = list(tag_set), index=list(tag_set))\n",
    "tags_df"
   ]
  },
  {
   "cell_type": "markdown",
   "metadata": {},
   "source": [
    "#### EDA"
   ]
  },
  {
   "cell_type": "code",
   "execution_count": 21,
   "metadata": {},
   "outputs": [
    {
     "data": {
      "text/plain": [
       "(12.0, 0.0)"
      ]
     },
     "execution_count": 21,
     "metadata": {},
     "output_type": "execute_result"
    },
    {
     "data": {
      "image/png": "[encoded data removed]",
      "text/plain": [
       "<Figure size 1296x864 with 2 Axes>"
      ]
     },
     "metadata": {
      "needs_background": "light"
     },
     "output_type": "display_data"
    }
   ],
   "source": [
    "# heatmap of tags matrix\n",
    "# T(i, j) means P(tag j given tag i)\n",
    "\n",
    "plt.figure(figsize=(18, 12))\n",
    "ax = sns.heatmap(tags_df,annot=True)\n",
    "top, bottom = ax.get_ylim()\n",
    "ax.set_ylim(top+0.5, bottom-0.5)"
   ]
  },
  {
   "cell_type": "code",
   "execution_count": 22,
   "metadata": {},
   "outputs": [
    {
     "data": {
      "text/plain": [
       "(12.0, 0.0)"
      ]
     },
     "execution_count": 22,
     "metadata": {},
     "output_type": "execute_result"
    },
    {
     "data": {
      "image/png": "[encoded data removed]",
      "text/plain": [
       "<Figure size 1296x864 with 2 Axes>"
      ]
     },
     "metadata": {
      "needs_background": "light"
     },
     "output_type": "display_data"
    }
   ],
   "source": [
    "# frequent tags\n",
    "# filter the df to get P(t2, t1) > 0.5\n",
    "tags_frequent = tags_df[tags_df>0.5]\n",
    "plt.figure(figsize=(18, 12))\n",
    "ax = sns.heatmap(tags_frequent, annot=True)\n",
    "ax.set_ylim(top+0.5, bottom-0.5)"
   ]
  },
  {
   "cell_type": "markdown",
   "metadata": {},
   "source": [
    "*DET followed by NOUN and ADJ followed by NOUN has the highest transition probabilities and are most frequent*"
   ]
  },
  {
   "cell_type": "markdown",
   "metadata": {},
   "source": [
    "### Build the vanilla Viterbi based POS tagger\n",
    "\n",
    "Function: Vanilla_Viterbi"
   ]
  },
  {
   "cell_type": "code",
   "execution_count": 23,
   "metadata": {},
   "outputs": [],
   "source": [
    "# Viterbi Heuristic\n",
    "def Vanilla_Viterbi(words, train_bag = train_tagged_words):\n",
    "    state = []\n",
    "    T = list(set([pair[1] for pair in train_bag]))\n",
    "    \n",
    "    for key, word in enumerate(words):\n",
    "        #initialise list of probability column for a given observation\n",
    "        p = [] \n",
    "        for tag in T:\n",
    "            if key == 0:\n",
    "                transition_p = tags_df.loc['.', tag]\n",
    "            else:\n",
    "                transition_p = tags_df.loc[state[-1], tag]\n",
    "                \n",
    "            # compute emission and state probabilities\n",
    "            emission_p = word_given_tag(words[key], tag)[0]/word_given_tag(words[key], tag)[1]\n",
    "            state_probability = emission_p * transition_p    \n",
    "            p.append(state_probability)\n",
    "            \n",
    "        pmax = max(p)\n",
    "        state_max = T[p.index(pmax)] \n",
    "        state.append(state_max)\n",
    "    return list(zip(words, state))"
   ]
  },
  {
   "cell_type": "markdown",
   "metadata": {},
   "source": [
    "#### Evaluating on Validation Set"
   ]
  },
  {
   "cell_type": "code",
   "execution_count": 24,
   "metadata": {},
   "outputs": [],
   "source": [
    "# list of tagged words\n",
    "\n",
    "random.seed(42)\n",
    "test_set_tag_words_pair = [tup for sent in test_set for tup in sent]\n",
    "\n",
    "# list of untagged words\n",
    "test_set_words = [tup[0] for sent in test_set for tup in sent]"
   ]
  },
  {
   "cell_type": "code",
   "execution_count": 25,
   "metadata": {},
   "outputs": [
    {
     "data": {
      "text/plain": [
       "[('OSHA', 'NOUN'),\n",
       " ('said', 'VERB'),\n",
       " ('0', 'X'),\n",
       " ('there', 'DET'),\n",
       " ('have', 'VERB'),\n",
       " ('been', 'VERB'),\n",
       " ('three', 'NUM'),\n",
       " ('worker', 'NOUN'),\n",
       " ('fatalities', 'NOUN'),\n",
       " ('at', 'ADP')]"
      ]
     },
     "execution_count": 25,
     "metadata": {},
     "output_type": "execute_result"
    }
   ],
   "source": [
    "test_set_tag_words_pair[:10]"
   ]
  },
  {
   "cell_type": "code",
   "execution_count": 26,
   "metadata": {},
   "outputs": [
    {
     "data": {
      "text/plain": [
       "['OSHA',\n",
       " 'said',\n",
       " '0',\n",
       " 'there',\n",
       " 'have',\n",
       " 'been',\n",
       " 'three',\n",
       " 'worker',\n",
       " 'fatalities',\n",
       " 'at']"
      ]
     },
     "execution_count": 26,
     "metadata": {},
     "output_type": "execute_result"
    }
   ],
   "source": [
    "test_set_words[:10]"
   ]
  },
  {
   "cell_type": "code",
   "execution_count": 27,
   "metadata": {},
   "outputs": [
    {
     "name": "stdout",
     "output_type": "stream",
     "text": [
      "Time taken for Vanilla Viterbi Heuristic 714.050226688385\n"
     ]
    }
   ],
   "source": [
    "# tagging the test sentences\n",
    "\n",
    "start = time.time()\n",
    "#commenting tagged_seq as we'll pcikle this object\n",
    "#Vanilla_Viterbi_tagged_seq = Vanilla_Viterbi(test_set_words)\n",
    "end = time.time()\n",
    "difference = end-start\n",
    "\n",
    "print('Time taken for Vanilla Viterbi Heuristic', difference)"
   ]
  },
  {
   "cell_type": "code",
   "execution_count": 28,
   "metadata": {},
   "outputs": [
    {
     "data": {
      "text/plain": [
       "['Vanilla_Viterbi_tagged_seq.sav']"
      ]
     },
     "execution_count": 28,
     "metadata": {},
     "output_type": "execute_result"
    }
   ],
   "source": [
    "#Saving Vanilla Viterbi tagged seq in local\n",
    "import joblib\n",
    "filename_Vanilla_viterbi = 'Vanilla_Viterbi_tagged_seq.sav'\n",
    "joblib.dump(Vanilla_Viterbi_tagged_seq, filename_Vanilla_viterbi)"
   ]
  },
  {
   "cell_type": "code",
   "execution_count": 29,
   "metadata": {},
   "outputs": [],
   "source": [
    "#load back tagged_seq\n",
    "Vanilla_Viterbi_tagged_seq = joblib.load(filename_Vanilla_viterbi)"
   ]
  },
  {
   "cell_type": "code",
   "execution_count": 30,
   "metadata": {},
   "outputs": [
    {
     "data": {
      "text/plain": [
       "[('OSHA', 'NOUN'),\n",
       " ('said', 'VERB'),\n",
       " ('0', 'X'),\n",
       " ('there', 'DET'),\n",
       " ('have', 'VERB'),\n",
       " ('been', 'VERB'),\n",
       " ('three', 'NUM'),\n",
       " ('worker', 'NOUN'),\n",
       " ('fatalities', 'NOUN'),\n",
       " ('at', 'ADP')]"
      ]
     },
     "execution_count": 30,
     "metadata": {},
     "output_type": "execute_result"
    }
   ],
   "source": [
    "Vanilla_Viterbi_tagged_seq[:10]"
   ]
  },
  {
   "cell_type": "code",
   "execution_count": 31,
   "metadata": {},
   "outputs": [],
   "source": [
    "# accuracy\n",
    "check = [i for i, j in zip(Vanilla_Viterbi_tagged_seq, test_set_tag_words_pair) if i == j]"
   ]
  },
  {
   "cell_type": "code",
   "execution_count": 32,
   "metadata": {},
   "outputs": [
    {
     "name": "stdout",
     "output_type": "stream",
     "text": [
      "Accuracy of Vanilla Viterbi Technique is =  0.9070371851259497\n"
     ]
    }
   ],
   "source": [
    "vanilla_viterbi_accuracy = len(check)/len(Vanilla_Viterbi_tagged_seq)\n",
    "print('Accuracy of Vanilla Viterbi Technique is = ',vanilla_viterbi_accuracy)"
   ]
  },
  {
   "cell_type": "code",
   "execution_count": 33,
   "metadata": {},
   "outputs": [],
   "source": [
    "#incorrect tag sequences\n",
    "incorrect_tagged_cases = [[test_set_tag_words_pair[i-1],j] for i, j in enumerate(zip(Vanilla_Viterbi_tagged_seq, test_set_tag_words_pair)) if j[0]!=j[1]]"
   ]
  },
  {
   "cell_type": "code",
   "execution_count": 34,
   "metadata": {},
   "outputs": [
    {
     "name": "stdout",
     "output_type": "stream",
     "text": [
      "Count of incorrectly tagged words are= 465\n"
     ]
    }
   ],
   "source": [
    "print('Count of incorrectly tagged words are=',(len(incorrect_tagged_cases)))"
   ]
  },
  {
   "cell_type": "code",
   "execution_count": 35,
   "metadata": {
    "scrolled": true
   },
   "outputs": [
    {
     "data": {
      "text/plain": [
       "[[('In', 'ADP'), (('lieu', 'PRON'), ('lieu', 'NOUN'))],\n",
       " [('grandfather', 'NOUN'), (('clock', 'PRON'), ('clock', 'NOUN'))],\n",
       " [('a', 'DET'), (('stereo', 'PRON'), ('stereo', 'NOUN'))],\n",
       " [('videocassette', 'NOUN'), (('recorder', 'PRON'), ('recorder', 'NOUN'))],\n",
       " [('print', 'VERB'), (('hither', 'PRON'), ('hither', 'ADV'))],\n",
       " [('to', 'PRT'), (('yon', 'PRON'), ('yon', 'ADV'))],\n",
       " [('almost', 'ADV'), (('single-handed', 'PRON'), ('single-handed', 'ADJ'))],\n",
       " [('way', 'NOUN'), (('sanctions', 'NOUN'), ('sanctions', 'VERB'))],\n",
       " [('the', 'DET'), (('dismal', 'PRON'), ('dismal', 'ADJ'))],\n",
       " [('*-1', 'X'), (('unwilling', 'PRON'), ('unwilling', 'ADJ'))],\n",
       " [('and', 'CONJ'), (('manpower', 'PRON'), ('manpower', 'NOUN'))],\n",
       " [('*', 'X'), (('removing', 'PRON'), ('removing', 'VERB'))],\n",
       " [('*', 'X'), (('safeguarding', 'PRON'), ('safeguarding', 'VERB'))],\n",
       " [('Linda', 'NOUN'), (('Anku', 'PRON'), ('Anku', 'NOUN'))],\n",
       " [('*T*-1', 'X'), (('co-founded', 'PRON'), ('co-founded', 'VERB'))],\n",
       " [(',', '.'), (('Mo.-based', 'PRON'), ('Mo.-based', 'ADJ'))],\n",
       " [('a', 'DET'), (('five-year', 'PRON'), ('five-year', 'ADJ'))],\n",
       " [('backers', 'NOUN'), (('fielded', 'PRON'), ('fielded', 'VERB'))],\n",
       " [('The', 'DET'), (('preferred', 'ADJ'), ('preferred', 'VERB'))],\n",
       " [('each', 'DET'), (('preferred', 'ADJ'), ('preferred', 'VERB'))],\n",
       " [('could', 'VERB'), (('intimidate', 'PRON'), ('intimidate', 'VERB'))],\n",
       " [('*-1', 'X'), (('uttering', 'PRON'), ('uttering', 'VERB'))],\n",
       " [('``', '.'), (('Provided', 'PRON'), ('Provided', 'VERB'))],\n",
       " [(',', '.'), (('that', 'DET'), ('that', 'ADP'))],\n",
       " [('that', 'ADP'), (('no', 'ADV'), ('no', 'DET'))],\n",
       " [('``', '.'), (('evolved', 'PRON'), ('evolved', 'VERB'))],\n",
       " [('evolved', 'VERB'), (('out', 'PRT'), ('out', 'ADP'))],\n",
       " [('with', 'ADP'), (('Si', 'PRON'), ('Si', 'NOUN'))],\n",
       " [('ad', 'NOUN'), (('charges', 'NOUN'), ('charges', 'VERB'))],\n",
       " [('to', 'PRT'), (('report', 'NOUN'), ('report', 'VERB'))],\n",
       " [('campaign', 'NOUN'),\n",
       "  (('contributions', 'PRON'), ('contributions', 'NOUN'))],\n",
       " [('contributions', 'NOUN'), (('accurately', 'PRON'), ('accurately', 'ADV'))],\n",
       " [(',', '.'), (('hid', 'PRON'), ('hid', 'VERB'))],\n",
       " [('convicted', 'VERB'), (('kidnapper', 'PRON'), ('kidnapper', 'NOUN'))],\n",
       " [('a', 'DET'), (('phony', 'PRON'), ('phony', 'ADJ'))],\n",
       " [('``', '.'), (('Funny', 'NOUN'), ('Funny', 'ADJ'))],\n",
       " [('of', 'ADP'), (('worries', 'VERB'), ('worries', 'NOUN'))],\n",
       " [('keeping', 'VERB'), (('closer', 'ADV'), ('closer', 'ADJ'))],\n",
       " [('closer', 'ADJ'), (('track', 'PRON'), ('track', 'NOUN'))],\n",
       " [('of', 'ADP'), (('achievement-test', 'PRON'), ('achievement-test', 'NOUN'))],\n",
       " [('booklets', 'NOUN'), (('next', 'ADP'), ('next', 'ADJ'))],\n",
       " [('.', '.'), (('NEW', 'PRON'), ('NEW', 'NOUN'))],\n",
       " [('NEW', 'NOUN'), (('ACCOUNT', 'PRON'), ('ACCOUNT', 'NOUN'))],\n",
       " [(':', '.'), (('Against', 'PRON'), ('Against', 'ADP'))],\n",
       " [('of', 'ADP'), (('Monticello', 'PRON'), ('Monticello', 'NOUN'))],\n",
       " [('Monticello', 'NOUN'),\n",
       "  (('superimposed', 'PRON'), ('superimposed', 'VERB'))],\n",
       " [('announcer', 'NOUN'), (('talks', 'NOUN'), ('talks', 'VERB'))],\n",
       " [('individual', 'ADJ'), (('liberty', 'PRON'), ('liberty', 'NOUN'))],\n",
       " [(\"''\", '.'), (('that', 'DET'), ('that', 'ADP'))],\n",
       " [('that', 'ADP'), (('Virginians', 'PRON'), ('Virginians', 'NOUN'))],\n",
       " [('have', 'VERB'), (('nurtured', 'PRON'), ('nurtured', 'VERB'))],\n",
       " [('for', 'ADP'), (('generations', 'PRON'), ('generations', 'NOUN'))],\n",
       " [('.', '.'), (('Shipments', 'PRON'), ('Shipments', 'NOUN'))],\n",
       " [('relatively', 'ADV'), (('level', 'NOUN'), ('level', 'ADJ'))],\n",
       " [('to', 'PRT'), (('halve', 'PRON'), ('halve', 'VERB'))],\n",
       " [('the', 'DET'), (('third-highest', 'PRON'), ('third-highest', 'ADJ'))],\n",
       " [('the', 'DET'), (('receipt', 'PRON'), ('receipt', 'NOUN'))],\n",
       " [('a', 'DET'), (('Johnson-era', 'PRON'), ('Johnson-era', 'NOUN'))],\n",
       " [('creation', 'NOUN'), (('that', 'ADP'), ('that', 'DET'))],\n",
       " [('*T*-2', 'X'), (('mandates', 'PRON'), ('mandates', 'VERB'))],\n",
       " [('*-1', 'X'), (('noncompetitively', 'PRON'), ('noncompetitively', 'ADV'))],\n",
       " [('``', '.'), (('The', 'DET'), ('The', 'NOUN'))],\n",
       " [('The', 'NOUN'), (('Ill', 'PRON'), ('Ill', 'NOUN'))],\n",
       " [('Ill', 'NOUN'), (('Homeless', 'ADJ'), ('Homeless', 'NOUN'))],\n",
       " [('colleagues', 'NOUN'), (('that', 'ADP'), ('that', 'DET'))],\n",
       " [('the', 'DET'), (('American', 'ADJ'), ('American', 'NOUN'))],\n",
       " [('.', '.'), (('Tray', 'PRON'), ('Tray', 'NOUN'))],\n",
       " [('Tray', 'NOUN'), (('Bon', 'PRON'), ('Bon', 'NOUN'))],\n",
       " [('passion', 'NOUN'), (('that', 'ADP'), ('that', 'DET'))],\n",
       " [('that', 'DET'), (('*T*-227', 'PRON'), ('*T*-227', 'X'))],\n",
       " [('usually', 'ADV'), (('stays', 'PRON'), ('stays', 'VERB'))],\n",
       " [('generally', 'ADV'), (('applaud', 'PRON'), ('applaud', 'VERB'))],\n",
       " [('The', 'DET'), (('loudest', 'PRON'), ('loudest', 'ADJ'))],\n",
       " [('who', 'PRON'), (('*T*-77', 'PRON'), ('*T*-77', 'X'))],\n",
       " [('*T*-77', 'X'), (('cater', 'PRON'), ('cater', 'VERB'))],\n",
       " [('initial', 'ADJ'), (('public', 'NOUN'), ('public', 'ADJ'))],\n",
       " [('*', 'X'), (('prosecuting', 'PRON'), ('prosecuting', 'VERB'))],\n",
       " [('0', 'X'), (('administrators', 'PRON'), ('administrators', 'NOUN'))],\n",
       " [(\"n't\", 'ADV'), (('enough', 'ADV'), ('enough', 'ADJ'))],\n",
       " [('ring', 'VERB'), (('more', 'ADV'), ('more', 'ADJ'))],\n",
       " [(\"'s\", 'PRT'), (('face', 'VERB'), ('face', 'NOUN'))],\n",
       " [('death', 'NOUN'), (('knell', 'PRON'), ('knell', 'NOUN'))],\n",
       " [('--', '.'), (('in', 'ADP'), ('in', 'NOUN'))],\n",
       " [(',', '.'), (('1933', 'PRON'), ('1933', 'NUM'))],\n",
       " [(',', '.'), (('1961', 'PRON'), ('1961', 'NUM'))],\n",
       " [(',', '.'), (('1968', 'PRON'), ('1968', 'NUM'))],\n",
       " [('to', 'PRT'), (('contest', 'PRON'), ('contest', 'VERB'))],\n",
       " [('Health', 'NOUN'), (('Review', 'PRON'), ('Review', 'NOUN'))],\n",
       " [('to', 'PRT'), (('mend', 'PRON'), ('mend', 'VERB'))],\n",
       " [('which', 'DET'), (('*T*-244', 'PRON'), ('*T*-244', 'X'))],\n",
       " [('have', 'VERB'), (('deteriorated', 'PRON'), ('deteriorated', 'VERB'))],\n",
       " [('in', 'ADP'), (('Chinese-American', 'PRON'), ('Chinese-American', 'NOUN'))],\n",
       " [('been', 'VERB'), (('quietly', 'PRON'), ('quietly', 'ADV'))],\n",
       " [('to', 'PRT'), (('tinker', 'PRON'), ('tinker', 'VERB'))],\n",
       " [(',', '.'), (('traced', 'PRON'), ('traced', 'VERB'))],\n",
       " [('another', 'DET'), (('wave', 'PRON'), ('wave', 'NOUN'))],\n",
       " [('in', 'ADP'), (('equities', 'PRON'), ('equities', 'NOUN'))],\n",
       " [('benefit', 'VERB'), (('agriculture', 'PRON'), ('agriculture', 'NOUN'))],\n",
       " [('.', '.'), (('Fourteen', 'PRON'), ('Fourteen', 'NUM'))],\n",
       " [('with', 'ADP'), (('jurisdiction', 'PRON'), ('jurisdiction', 'NOUN'))],\n",
       " [('the', 'DET'), (('EEOC', 'PRON'), ('EEOC', 'NOUN'))],\n",
       " [('his', 'PRON'), (('judgment', 'PRON'), ('judgment', 'NOUN'))],\n",
       " [('yield', 'VERB'), (('7.65', 'PRON'), ('7.65', 'NUM'))],\n",
       " [(',', '.'), (('old-style', 'PRON'), ('old-style', 'ADJ'))],\n",
       " [('funds', 'NOUN'), (('that', 'ADP'), ('that', 'DET'))],\n",
       " [('to', 'PRT'), (('juggle', 'PRON'), ('juggle', 'VERB'))],\n",
       " [('portfolios', 'NOUN'), (('so', 'ADV'), ('so', 'ADP'))],\n",
       " [('they', 'PRON'), (('mirror', 'NOUN'), ('mirror', 'VERB'))],\n",
       " [('two', 'NUM'), (('round-trip', 'PRON'), ('round-trip', 'ADJ'))],\n",
       " [('on', 'ADP'), (('Trans', 'PRON'), ('Trans', 'NOUN'))],\n",
       " [('without', 'ADP'), (('restraints', 'PRON'), ('restraints', 'NOUN'))],\n",
       " [('of', 'ADP'), (('0.54', 'PRON'), ('0.54', 'NUM'))],\n",
       " [('to', 'PRT'), (('14.26', 'PRON'), ('14.26', 'NUM'))],\n",
       " [('or', 'CONJ'), (('more', 'ADJ'), ('more', 'ADV'))],\n",
       " [('must', 'VERB'), (('notify', 'PRON'), ('notify', 'VERB'))],\n",
       " [('*-1', 'X'), (('completing', 'PRON'), ('completing', 'VERB'))],\n",
       " [('.', '.'), (('Note', 'PRON'), ('Note', 'VERB'))],\n",
       " [('All', 'DET'), (('per-share', 'PRON'), ('per-share', 'ADJ'))],\n",
       " [('The', 'DET'), (('Fairlawn', 'PRON'), ('Fairlawn', 'NOUN'))],\n",
       " [('said', 'VERB'), (('that', 'ADP'), ('that', 'DET'))],\n",
       " [('that', 'DET'), (('full-year', 'PRON'), ('full-year', 'ADJ'))],\n",
       " [('$', '.'), (('148', 'PRON'), ('148', 'NUM'))],\n",
       " [('this', 'DET'), (('one', 'NUM'), ('one', 'NOUN'))],\n",
       " [('How', 'ADV'), ((\"'s\", 'PRT'), (\"'s\", 'VERB'))],\n",
       " [('*-1', 'X'), (('Observing', 'PRON'), ('Observing', 'VERB'))],\n",
       " [('never', 'ADV'), (('exhibited', 'PRON'), ('exhibited', 'VERB'))],\n",
       " [('or', 'CONJ'), (('prejudice', 'PRON'), ('prejudice', 'NOUN'))],\n",
       " [('be', 'VERB'), (('impartial', 'PRON'), ('impartial', 'ADJ'))],\n",
       " [('a', 'DET'), (('homosexual', 'ADJ'), ('homosexual', 'NOUN'))],\n",
       " [('or', 'CONJ'), (('prostitute', 'PRON'), ('prostitute', 'NOUN'))],\n",
       " [('who', 'PRON'), (('*T*-242', 'PRON'), ('*T*-242', 'X'))],\n",
       " [('*', 'X'), (('ordering', 'PRON'), ('ordering', 'VERB'))],\n",
       " [('went', 'VERB'), (('down', 'ADV'), ('down', 'ADP'))],\n",
       " [('The', 'DET'), (('multilevel', 'PRON'), ('multilevel', 'ADJ'))],\n",
       " [('by', 'ADP'), (('Thrall', 'PRON'), ('Thrall', 'NOUN'))],\n",
       " [('held', 'VERB'), (('Duchossois', 'PRON'), ('Duchossois', 'NOUN'))],\n",
       " [(',', '.'), (('Elmhurst', 'PRON'), ('Elmhurst', 'NOUN'))],\n",
       " [(',', '.'), (('Ill', 'PRON'), ('Ill', 'NOUN'))],\n",
       " [('what', 'PRON'), (('exactly', 'PRON'), ('exactly', 'ADV'))],\n",
       " [('exactly', 'ADV'), (('*T*-188', 'PRON'), ('*T*-188', 'X'))],\n",
       " [('a', 'DET'), (('principal', 'NOUN'), ('principal', 'ADJ'))],\n",
       " [('he', 'PRON'), (('meets', 'PRON'), ('meets', 'VERB'))],\n",
       " [('a', 'DET'), (('solicitous', 'PRON'), ('solicitous', 'ADJ'))],\n",
       " [('solicitous', 'ADJ'), (('Christian', 'NOUN'), ('Christian', 'ADJ'))],\n",
       " [('Christian', 'ADJ'), (('chauffeur', 'PRON'), ('chauffeur', 'NOUN'))],\n",
       " [('hero', 'NOUN'), (('God', 'PRON'), ('God', 'NOUN'))],\n",
       " [('God', 'NOUN'), ((\"'s\", 'VERB'), (\"'s\", 'PRT'))],\n",
       " [(',', '.'), (('roughhewn', 'PRON'), ('roughhewn', 'ADJ'))],\n",
       " [('roughhewn', 'ADJ'), (('figure', 'VERB'), ('figure', 'NOUN'))],\n",
       " [('*T*-56', 'X'), (('wears', 'PRON'), ('wears', 'VERB'))],\n",
       " [('--', '.'), (('a', 'DET'), ('a', 'ADJ'))],\n",
       " [('a', 'ADJ'), (('sheepskin', 'PRON'), ('sheepskin', 'NOUN'))],\n",
       " [('.', '.'), (('W.N.', 'PRON'), ('W.N.', 'NOUN'))],\n",
       " [('of', 'ADP'), (('Georgetown', 'PRON'), ('Georgetown', 'NOUN'))],\n",
       " [('William', 'NOUN'), (('N.', 'PRON'), ('N.', 'NOUN'))],\n",
       " [('of', 'ADP'), (('Georgetown', 'PRON'), ('Georgetown', 'NOUN'))],\n",
       " [('transacting', 'VERB'), (('principal', 'NOUN'), ('principal', 'ADJ'))],\n",
       " [('D.', 'NOUN'), (('Carney', 'PRON'), ('Carney', 'NOUN'))],\n",
       " [('has', 'VERB'), (('hunted', 'PRON'), ('hunted', 'VERB'))],\n",
       " [('other', 'ADJ'), (('bargains', 'PRON'), ('bargains', 'NOUN'))],\n",
       " [('.', '.'), (('Average', 'NOUN'), ('Average', 'ADJ'))],\n",
       " [(':', '.'), (('83,206', 'PRON'), ('83,206', 'NUM'))],\n",
       " [('to', 'PRT'), (('swap', 'NOUN'), ('swap', 'VERB'))],\n",
       " [('and', 'CONJ'), (('Leningrad', 'PRON'), ('Leningrad', 'NOUN'))],\n",
       " [('Leningrad', 'NOUN'), ((\"'s\", 'VERB'), (\"'s\", 'PRT'))],\n",
       " [(\"'s\", 'PRT'), (('Mutchin', 'PRON'), ('Mutchin', 'NOUN'))],\n",
       " [('.', '.'), (('Voters', 'PRON'), ('Voters', 'NOUN'))],\n",
       " [('new', 'ADJ'), (('mega-stadium', 'PRON'), ('mega-stadium', 'NOUN'))],\n",
       " [('a', 'DET'), (('item', 'PRON'), ('item', 'NOUN'))],\n",
       " [('item', 'NOUN'), (('veto', 'VERB'), ('veto', 'NOUN'))],\n",
       " [('*-2', 'X'), (('exerting', 'PRON'), ('exerting', 'VERB'))],\n",
       " [('legislation', 'NOUN'), (('that', 'ADP'), ('that', 'DET'))],\n",
       " [('attorney', 'NOUN'), (('general', 'ADJ'), ('general', 'NOUN'))],\n",
       " [('Bob', 'NOUN'), (('Goodman', 'PRON'), ('Goodman', 'NOUN'))],\n",
       " [('to', 'PRT'), (('shake', 'PRON'), ('shake', 'VERB'))],\n",
       " [(\"'s\", 'PRT'), (('support', 'VERB'), ('support', 'NOUN'))],\n",
       " [('the', 'DET'), (('very', 'ADV'), ('very', 'ADJ'))],\n",
       " [('who', 'PRON'), (('*T*-77', 'PRON'), ('*T*-77', 'X'))],\n",
       " [('``', '.'), (('Crime', 'PRON'), ('Crime', 'NOUN'))],\n",
       " [('was', 'VERB'), (('awful', 'PRON'), ('awful', 'ADJ'))],\n",
       " [('no', 'DET'), (('enrollment', 'PRON'), ('enrollment', 'NOUN'))],\n",
       " [('in', 'ADP'), (('honors', 'PRON'), ('honors', 'NOUN'))],\n",
       " [('widely', 'ADV'), (('used', 'VERB'), ('used', 'ADJ'))],\n",
       " [('the', 'DET'), (('Roman', 'PRON'), ('Roman', 'ADJ'))],\n",
       " [('Roman', 'ADJ'), (('numeral', 'PRON'), ('numeral', 'NOUN'))],\n",
       " [('numeral', 'NOUN'), (('IX', 'PRON'), ('IX', 'NUM'))],\n",
       " [('Mitsubishi', 'NOUN'), (('Pencil', 'PRON'), ('Pencil', 'NOUN'))],\n",
       " [('company', 'NOUN'), (('that', 'ADP'), ('that', 'DET'))],\n",
       " [('that', 'DET'), (('*T*-146', 'PRON'), ('*T*-146', 'X'))],\n",
       " [('Michael', 'NOUN'), (('Stark', 'PRON'), ('Stark', 'NOUN'))],\n",
       " [('at', 'ADP'), (('Robertson', 'PRON'), ('Robertson', 'NOUN'))],\n",
       " [(',', '.'), (('Stephens', 'PRON'), ('Stephens', 'NOUN'))],\n",
       " [('which', 'DET'), (('*T*-134', 'PRON'), ('*T*-134', 'X'))],\n",
       " [('guild', 'NOUN'),\n",
       "  (('collective-bargaining', 'PRON'), ('collective-bargaining', 'ADJ'))],\n",
       " [('questions', 'NOUN'), (('range', 'NOUN'), ('range', 'VERB'))],\n",
       " [('a', 'DET'), (('Maine', 'PRON'), ('Maine', 'NOUN'))],\n",
       " [('Maine', 'NOUN'), (('initiative', 'PRON'), ('initiative', 'NOUN'))],\n",
       " [('Cruise', 'NOUN'), (('missiles', 'PRON'), ('missiles', 'NOUN'))],\n",
       " [('North', 'NOUN'), (('Dakota', 'PRON'), ('Dakota', 'NOUN'))],\n",
       " [('divisions', 'NOUN'), (('that', 'ADP'), ('that', 'DET'))],\n",
       " [(\"n't\", 'ADV'), (('wish', 'VERB'), ('wish', 'NOUN'))],\n",
       " [('of', 'ADP'), (('index-options', 'PRON'), ('index-options', 'NOUN'))],\n",
       " [('the', 'DET'), (('underlying', 'ADJ'), ('underlying', 'VERB'))],\n",
       " [('to', 'PRT'), (('235', 'PRON'), ('235', 'NUM'))],\n",
       " [('$', '.'), (('113.2', 'PRON'), ('113.2', 'NUM'))],\n",
       " [('or', 'CONJ'), (('6.70', 'PRON'), ('6.70', 'NUM'))],\n",
       " [('from', 'ADP'), (('144', 'PRON'), ('144', 'NUM'))],\n",
       " [('or', 'CONJ'), (('4.10', 'PRON'), ('4.10', 'NUM'))],\n",
       " [('their', 'PRON'), (('views', 'VERB'), ('views', 'NOUN'))],\n",
       " [('*', 'X'), (('smothering', 'PRON'), ('smothering', 'VERB'))],\n",
       " [('unfocused', 'ADJ'), (('kindness', 'PRON'), ('kindness', 'NOUN'))],\n",
       " [('is', 'VERB'), (('heating', 'NOUN'), ('heating', 'VERB'))],\n",
       " [('several', 'ADJ'), (('legislators', 'PRON'), ('legislators', 'NOUN'))],\n",
       " [('.', '.'), (('9.82', 'PRON'), ('9.82', 'NUM'))],\n",
       " [('rate', 'NOUN'), (('capped', 'VERB'), ('capped', 'ADJ'))],\n",
       " [('would', 'VERB'), (('trail', 'PRON'), ('trail', 'VERB'))],\n",
       " [('the', 'DET'), (('heavy-truck', 'PRON'), ('heavy-truck', 'NOUN'))],\n",
       " [('and', 'CONJ'), (('passenger-car', 'PRON'), ('passenger-car', 'NOUN'))],\n",
       " [('.', '.'), (('Quant', 'PRON'), ('Quant', 'NOUN'))],\n",
       " [('--', '.'), (('Generally', 'PRON'), ('Generally', 'ADV'))],\n",
       " [('employs', 'VERB'), (('quantitive', 'PRON'), ('quantitive', 'ADJ'))],\n",
       " [('their', 'PRON'), (('discos', 'PRON'), ('discos', 'NOUN'))],\n",
       " [('their', 'PRON'), (('dances', 'PRON'), ('dances', 'NOUN'))],\n",
       " [('just', 'ADV'), (('drift', 'PRON'), ('drift', 'VERB'))],\n",
       " [('II', 'NOUN'), (('lend-lease', 'PRON'), ('lend-lease', 'ADJ'))],\n",
       " [('the', 'DET'), (('pre-1933', 'PRON'), ('pre-1933', 'ADJ'))],\n",
       " [('the', 'DET'), (('key', 'ADJ'), ('key', 'NOUN'))],\n",
       " [('*', 'X'), (('satisfying', 'PRON'), ('satisfying', 'VERB'))],\n",
       " [('public', 'ADJ'), (('muster', 'PRON'), ('muster', 'NOUN'))],\n",
       " [(',', '.'), (('yet', 'ADV'), ('yet', 'CONJ'))],\n",
       " [('yet', 'CONJ'), (('close', 'VERB'), ('close', 'ADV'))],\n",
       " [('family', 'NOUN'), (('visits', 'PRON'), ('visits', 'NOUN'))],\n",
       " [('their', 'PRON'), (('biannual', 'PRON'), ('biannual', 'ADJ'))],\n",
       " [('biannual', 'ADJ'), (('powwow', 'PRON'), ('powwow', 'NOUN'))],\n",
       " [('manufacturing', 'VERB'), (('titans', 'PRON'), ('titans', 'NOUN'))],\n",
       " [('typically', 'ADV'), (('jet', 'NOUN'), ('jet', 'VERB'))],\n",
       " [('the', 'DET'), (('sunny', 'PRON'), ('sunny', 'ADJ'))],\n",
       " [('sunny', 'ADJ'), (('confines', 'PRON'), ('confines', 'NOUN'))],\n",
       " [('and', 'CONJ'), (('Hot', 'ADJ'), ('Hot', 'NOUN'))],\n",
       " [('*EXP*-1', 'X'), ((\"'s\", 'PRT'), (\"'s\", 'VERB'))],\n",
       " [('a', 'DET'), (('17-year-old', 'PRON'), ('17-year-old', 'ADJ'))],\n",
       " [('are', 'VERB'), (('all', 'DET'), ('all', 'ADV'))],\n",
       " [('return', 'NOUN'), (('measures', 'NOUN'), ('measures', 'VERB'))],\n",
       " [(\"''\", '.'), (('evolve', 'PRON'), ('evolve', 'VERB'))],\n",
       " [('evil', 'ADJ'), (('creature', 'PRON'), ('creature', 'NOUN'))],\n",
       " [('creature', 'NOUN'), (('that', 'ADP'), ('that', 'DET'))],\n",
       " [('is', 'VERB'), (('evoking', 'PRON'), ('evoking', 'VERB'))],\n",
       " [('the', 'DET'), (('curses', 'PRON'), ('curses', 'NOUN'))],\n",
       " [(',', '.'), (('as', 'ADP'), ('as', 'ADV'))],\n",
       " [('as', 'ADV'), (('long', 'ADJ'), ('long', 'ADV'))],\n",
       " [('$', '.'), (('325,000', 'PRON'), ('325,000', 'NUM'))],\n",
       " [('$', '.'), (('340,000', 'PRON'), ('340,000', 'NUM'))],\n",
       " [('investors', 'NOUN'), (('spooked', 'PRON'), ('spooked', 'VERB'))],\n",
       " [('activity', 'NOUN'), (('varied', 'PRON'), ('varied', 'VERB'))],\n",
       " [('among', 'ADP'), (('industries', 'PRON'), ('industries', 'NOUN'))],\n",
       " [('.', '.'), (('So', 'ADV'), ('So', 'ADP'))],\n",
       " [('to', 'PRT'), (('entice', 'PRON'), ('entice', 'VERB'))],\n",
       " [('*', 'X'), (('negotiating', 'PRON'), ('negotiating', 'VERB'))],\n",
       " [('friendly', 'ADJ'), (('surrender', 'PRON'), ('surrender', 'NOUN'))],\n",
       " [('to', 'PRT'), (('acknowledge', 'PRON'), ('acknowledge', 'VERB'))],\n",
       " [('acknowledge', 'VERB'), (('that', 'ADP'), ('that', 'DET'))],\n",
       " [('and', 'CONJ'), (('welcome', 'PRON'), ('welcome', 'VERB'))],\n",
       " [('the', 'DET'), (('infusion', 'PRON'), ('infusion', 'NOUN'))],\n",
       " [('$', '.'), (('38.375', 'PRON'), ('38.375', 'NUM'))],\n",
       " [('daily', 'ADJ'), (('permissible', 'PRON'), ('permissible', 'ADJ'))],\n",
       " [('permissible', 'ADJ'), (('limit', 'VERB'), ('limit', 'NOUN'))],\n",
       " [('of', 'ADP'), (('0.50', 'PRON'), ('0.50', 'NUM'))],\n",
       " [('to', 'PRT'), (('14.00', 'PRON'), ('14.00', 'NUM'))],\n",
       " [('showed', 'VERB'), (('near-limit', 'PRON'), ('near-limit', 'ADJ'))],\n",
       " [('a', 'DET'), (('handful', 'PRON'), ('handful', 'NOUN'))],\n",
       " [('and', 'CONJ'), (('Adolph', 'PRON'), ('Adolph', 'NOUN'))],\n",
       " [('Adolph', 'NOUN'), (('Coors', 'PRON'), ('Coors', 'NOUN'))],\n",
       " [('and', 'CONJ'), (('Bumkins', 'PRON'), ('Bumkins', 'NOUN'))],\n",
       " [('firms', 'NOUN'), (('that', 'ADP'), ('that', 'DET'))],\n",
       " [('that', 'DET'), (('*T*-154', 'PRON'), ('*T*-154', 'X'))],\n",
       " [('spend', 'VERB'), (('much', 'ADV'), ('much', 'ADJ'))],\n",
       " [('be', 'VERB'), (('relied', 'PRON'), ('relied', 'VERB'))],\n",
       " [('under', 'ADP'), (('cultivation', 'PRON'), ('cultivation', 'NOUN'))],\n",
       " [(',', '.'), (('soybeans', 'PRON'), ('soybeans', 'NOUN'))],\n",
       " [('prices', 'NOUN'), (('that', 'ADP'), ('that', 'DET'))],\n",
       " [('partly', 'ADV'), (('cushioned', 'PRON'), ('cushioned', 'VERB'))],\n",
       " [('grain', 'NOUN'), (('buying', 'VERB'), ('buying', 'NOUN'))],\n",
       " [('$', '.'), (('89.9', 'PRON'), ('89.9', 'NUM'))],\n",
       " [('*U*', 'X'), (('charge', 'VERB'), ('charge', 'NOUN'))],\n",
       " [('$', '.'), (('70.7', 'PRON'), ('70.7', 'NUM'))],\n",
       " [('$', '.'), (('12.09', 'PRON'), ('12.09', 'NUM'))],\n",
       " [('.', '.'), (('Oshkosh', 'PRON'), ('Oshkosh', 'NOUN'))],\n",
       " [('Oshkosh', 'NOUN'), (('Truck', 'PRON'), ('Truck', 'NOUN'))],\n",
       " [(',', '.'), (('Oshkosh', 'PRON'), ('Oshkosh', 'NOUN'))],\n",
       " [(',', '.'), (('Wis.', 'PRON'), ('Wis.', 'NOUN'))],\n",
       " [('$', '.'), (('4.5', 'PRON'), ('4.5', 'NUM'))],\n",
       " [('bone', 'NOUN'), (('marrow', 'PRON'), ('marrow', 'NOUN'))],\n",
       " [('other', 'ADJ'), (('blood-cell', 'PRON'), ('blood-cell', 'NOUN'))],\n",
       " [('.', '.'), (('b', 'PRON'), ('b', 'X'))],\n",
       " [('financial', 'ADJ'), (('settlements', 'PRON'), ('settlements', 'NOUN'))],\n",
       " [('guilty', 'ADJ'), (('plea', 'PRON'), ('plea', 'NOUN'))],\n",
       " [('six', 'NUM'), (('felonies', 'PRON'), ('felonies', 'NOUN'))],\n",
       " [('big', 'ADJ'), (('insider-trading', 'PRON'), ('insider-trading', 'ADJ'))],\n",
       " [('China', 'NOUN'), (('pulled', 'PRON'), ('pulled', 'VERB'))],\n",
       " [('pulled', 'VERB'), (('out', 'PRT'), ('out', 'ADP'))],\n",
       " [('Ralston', 'NOUN'), (('Purina', 'PRON'), ('Purina', 'NOUN'))],\n",
       " [('costs', 'NOUN'), (('as', 'ADP'), ('as', 'ADV'))],\n",
       " [('a', 'DET'), (('more', 'ADJ'), ('more', 'ADV'))],\n",
       " [('.', '.'), (('Such', 'ADJ'), ('Such', 'DET'))],\n",
       " [('view', 'NOUN'), (('perpetuates', 'PRON'), ('perpetuates', 'VERB'))],\n",
       " [('an', 'DET'), (('insidious', 'PRON'), ('insidious', 'ADJ'))],\n",
       " [(',', '.'), (('stereotyped', 'PRON'), ('stereotyped', 'ADJ'))],\n",
       " [('stereotyped', 'ADJ'), (('perspective', 'PRON'), ('perspective', 'NOUN'))],\n",
       " [('in', 'ADP'), (('stock-index', 'ADJ'), ('stock-index', 'NOUN'))],\n",
       " [('keep', 'VERB'), (('up', 'ADV'), ('up', 'PRT'))],\n",
       " [('standard', 'ADJ'), (('benchmarks', 'PRON'), ('benchmarks', 'NOUN'))],\n",
       " [('benchmarks', 'NOUN'), (('like', 'VERB'), ('like', 'ADP'))],\n",
       " [('was', 'VERB'), (('untrained', 'PRON'), ('untrained', 'ADJ'))],\n",
       " [('one', 'NUM'), (('botched', 'PRON'), ('botched', 'ADJ'))],\n",
       " [('.', '.'), (('Policies', 'PRON'), ('Policies', 'NOUN'))],\n",
       " [('are', 'VERB'), (('akin', 'PRON'), ('akin', 'ADJ'))],\n",
       " [('``', '.'), (('Buyers', 'PRON'), ('Buyers', 'NOUN'))],\n",
       " [('Buyers', 'NOUN'), (('welcome', 'PRON'), ('welcome', 'VERB'))],\n",
       " [('sellers', 'NOUN'), (('please', 'PRON'), ('please', 'VERB'))],\n",
       " [(\"''\", '.'), (('Rekindled', 'PRON'), ('Rekindled', 'VERB'))],\n",
       " [('Rekindled', 'VERB'), (('hope', 'VERB'), ('hope', 'NOUN'))],\n",
       " [('in', 'ADP'), (('lackluster', 'PRON'), ('lackluster', 'ADJ'))],\n",
       " [('.', '.'), (('Test-preparation', 'PRON'), ('Test-preparation', 'ADJ'))],\n",
       " [('publishing', 'VERB'), (('subindustry', 'PRON'), ('subindustry', 'NOUN'))],\n",
       " [('the', 'DET'), (('Anti-Deficiency', 'PRON'), ('Anti-Deficiency', 'NOUN'))],\n",
       " [('prohibits', 'VERB'), (('voluntary', 'PRON'), ('voluntary', 'ADJ'))],\n",
       " [('certain', 'ADJ'), (('sectors', 'PRON'), ('sectors', 'NOUN'))],\n",
       " [('Kent', 'NOUN'), (('Calder', 'PRON'), ('Calder', 'NOUN'))],\n",
       " [('in', 'ADP'), (('East', 'NOUN'), ('East', 'ADJ'))],\n",
       " [('the', 'DET'), (('Woodrow', 'PRON'), ('Woodrow', 'NOUN'))],\n",
       " [('Woodrow', 'NOUN'), (('Wilson', 'PRON'), ('Wilson', 'NOUN'))],\n",
       " [('and', 'CONJ'), (('Internatonal', 'PRON'), ('Internatonal', 'NOUN'))],\n",
       " [('solid', 'ADJ'), (('382-37', 'PRON'), ('382-37', 'NUM'))],\n",
       " [('382-37', 'NUM'), (('vote', 'VERB'), ('vote', 'NOUN'))],\n",
       " [('third', 'ADJ'),\n",
       "  (('stock-manipulation', 'PRON'), ('stock-manipulation', 'ADJ'))],\n",
       " [('Johnson', 'NOUN'), (('Lowe', 'PRON'), ('Lowe', 'NOUN'))],\n",
       " [('$', '.'), (('21.9', 'PRON'), ('21.9', 'NUM'))],\n",
       " [('raised', 'VERB'), (('*-111', 'PRON'), ('*-111', 'X'))],\n",
       " [('and', 'CONJ'), (('five-year', 'PRON'), ('five-year', 'ADJ'))],\n",
       " [('the', 'DET'), (('dilemma', 'PRON'), ('dilemma', 'NOUN'))],\n",
       " [('for', 'ADP'),\n",
       "  (('computer-system-design', 'PRON'), ('computer-system-design', 'ADJ'))],\n",
       " [('chief', 'NOUN'), (('operating', 'NOUN'), ('operating', 'VERB'))],\n",
       " [('considered', 'VERB'), (('*-77', 'PRON'), ('*-77', 'X'))],\n",
       " [('pickers', 'NOUN'), (('scream', 'PRON'), ('scream', 'VERB'))],\n",
       " [('markets', 'NOUN'), (('decline', 'NOUN'), ('decline', 'VERB'))],\n",
       " [('*-3', 'X'), (('hailing', 'PRON'), ('hailing', 'VERB'))],\n",
       " [('still', 'ADV'), (('abounding', 'PRON'), ('abounding', 'VERB'))],\n",
       " [('great', 'ADJ'), (('reds', 'PRON'), ('reds', 'NOUN'))],\n",
       " [('the', 'DET'), (('Rhone', 'PRON'), ('Rhone', 'NOUN'))],\n",
       " [('price', 'NOUN'), (('as', 'ADP'), ('as', 'ADV'))],\n",
       " [('.', '.'), (('Beauty', 'PRON'), ('Beauty', 'NOUN'))],\n",
       " [('Beauty', 'NOUN'), (('Takes', 'PRON'), ('Takes', 'VERB'))],\n",
       " [('Takes', 'VERB'), (('Backseat', 'PRON'), ('Backseat', 'NOUN'))],\n",
       " [('on', 'ADP'), (('Bridges', 'PRON'), ('Bridges', 'NOUN'))],\n",
       " [('a', 'DET'), (('third-quarter', 'NOUN'), ('third-quarter', 'ADJ'))],\n",
       " [('$', '.'), (('70.7', 'PRON'), ('70.7', 'NUM'))],\n",
       " [('$', '.'), (('89.9', 'PRON'), ('89.9', 'NUM'))],\n",
       " [('*U*', 'X'), (('pretax', 'NOUN'), ('pretax', 'ADJ'))],\n",
       " [('mostly', 'ADV'), (('related', 'VERB'), ('related', 'ADJ'))],\n",
       " [('home', 'NOUN'), (('financing', 'NOUN'), ('financing', 'VERB'))],\n",
       " [('*', 'X'), (('trading', 'NOUN'), ('trading', 'VERB'))],\n",
       " [('receiving', 'VERB'), (('end', 'VERB'), ('end', 'NOUN'))],\n",
       " [('and', 'CONJ'), (('Maytag', 'PRON'), ('Maytag', 'NOUN'))],\n",
       " [('with', 'ADP'), (('lesser', 'PRON'), ('lesser', 'ADJ'))],\n",
       " [('lesser', 'ADJ'), (('knowns', 'PRON'), ('knowns', 'NOUN'))],\n",
       " [('knowns', 'NOUN'), (('like', 'VERB'), ('like', 'ADP'))],\n",
       " [('like', 'ADP'), (('Trojan', 'PRON'), ('Trojan', 'NOUN'))],\n",
       " [('Valley', 'NOUN'), (('Queen', 'PRON'), ('Queen', 'NOUN'))],\n",
       " [('Queen', 'NOUN'), (('Cheese', 'PRON'), ('Cheese', 'NOUN'))],\n",
       " [('.', '.'), (('PAPERS', 'PRON'), ('PAPERS', 'NOUN'))],\n",
       " [(':', '.'), (('MEDICINE', 'PRON'), ('MEDICINE', 'NOUN'))],\n",
       " [('MEDICINE', 'NOUN'), (('TRANSPLANT', 'PRON'), ('TRANSPLANT', 'NOUN'))],\n",
       " [('travel', 'NOUN'), (('prompts', 'PRON'), ('prompts', 'VERB'))],\n",
       " [('set', 'VERB'), (('up', 'ADV'), ('up', 'PRT'))],\n",
       " [('a', 'DET'), (('bilingual', 'PRON'), ('bilingual', 'ADJ'))],\n",
       " [('$', '.'), (('6.4', 'PRON'), ('6.4', 'NUM'))],\n",
       " [('year', 'NOUN'), (('earlier', 'ADV'), ('earlier', 'ADJ'))],\n",
       " [('yield', 'VERB'), (('7.422', 'PRON'), ('7.422', 'NUM'))],\n",
       " [('Chicago', 'NOUN'), (('accountant', 'PRON'), ('accountant', 'NOUN'))],\n",
       " [('Michael', 'NOUN'), (('Henderson', 'PRON'), ('Henderson', 'NOUN'))],\n",
       " [(',', '.'), (('51-year-old', 'PRON'), ('51-year-old', 'ADJ'))],\n",
       " [('succeeding', 'VERB'), (('Ian', 'PRON'), ('Ian', 'NOUN'))],\n",
       " [('who', 'PRON'), (('*T*-161', 'PRON'), ('*T*-161', 'X'))],\n",
       " [('is', 'VERB'), (('retiring', 'PRON'), ('retiring', 'VERB'))],\n",
       " [('$', '.'), (('422.5', 'PRON'), ('422.5', 'NUM'))],\n",
       " [('$', '.'), (('6.44', 'PRON'), ('6.44', 'NUM'))],\n",
       " [('$', '.'), (('387.8', 'PRON'), ('387.8', 'NUM'))],\n",
       " [('$', '.'), (('5.63', 'PRON'), ('5.63', 'NUM'))],\n",
       " [('100', 'NUM'), (('criminal', 'ADJ'), ('criminal', 'NOUN'))],\n",
       " [('an', 'DET'), (('outcry', 'PRON'), ('outcry', 'NOUN'))],\n",
       " [('the', 'DET'), (('organized', 'VERB'), ('organized', 'ADJ'))],\n",
       " [('organized', 'ADJ'), (('bar', 'VERB'), ('bar', 'NOUN'))],\n",
       " [('who', 'PRON'), (('*T*-125', 'PRON'), ('*T*-125', 'X'))],\n",
       " [('is', 'VERB'), (('protected', 'PRON'), ('protected', 'VERB'))],\n",
       " [('An', 'DET'), (('Egyptian', 'PRON'), ('Egyptian', 'ADJ'))],\n",
       " [('Egyptian', 'ADJ'), (('Pharaoh', 'PRON'), ('Pharaoh', 'NOUN'))],\n",
       " [('have', 'VERB'), (('justified', 'PRON'), ('justified', 'VERB'))],\n",
       " [('pyramids', 'NOUN'), (('any', 'DET'), ('any', 'ADV'))],\n",
       " [('any', 'ADV'), (('better', 'ADJ'), ('better', 'ADV'))],\n",
       " [('The', 'DET'), (('heated', 'VERB'), ('heated', 'ADJ'))],\n",
       " [('heated', 'ADJ'), (('talk', 'VERB'), ('talk', 'NOUN'))],\n",
       " [('talk', 'NOUN'), (('stirred', 'PRON'), ('stirred', 'VERB'))],\n",
       " [('covered', 'VERB'), (('*-116', 'PRON'), ('*-116', 'X'))],\n",
       " [('Structural', 'NOUN'), (('Impediments', 'PRON'), ('Impediments', 'NOUN'))],\n",
       " [('Impediments', 'NOUN'), (('Initiative', 'PRON'), ('Initiative', 'NOUN'))],\n",
       " [('the', 'DET'), (('heirs', 'PRON'), ('heirs', 'NOUN'))],\n",
       " [('and', 'CONJ'), (('struggled', 'PRON'), ('struggled', 'VERB'))],\n",
       " [('worked', 'VERB'), (('14-hour', 'PRON'), ('14-hour', 'ADJ'))],\n",
       " [('and', 'CONJ'), (('fast', 'ADJ'), ('fast', 'ADV'))],\n",
       " [('employs', 'VERB'), (('241', 'PRON'), ('241', 'NUM'))],\n",
       " [('to', 'PRT'), (('log', 'PRON'), ('log', 'VERB'))],\n",
       " [('$', '.'), (('2,099', 'PRON'), ('2,099', 'NUM'))],\n",
       " [('his', 'PRON'), (('doctorate', 'PRON'), ('doctorate', 'NOUN'))],\n",
       " [('.', '.'), (('Oshkosh', 'PRON'), ('Oshkosh', 'NOUN'))],\n",
       " [('Oshkosh', 'NOUN'), (('Truck', 'PRON'), ('Truck', 'NOUN'))],\n",
       " [('higher', 'ADJ'), (('start-up', 'NOUN'), ('start-up', 'ADJ'))],\n",
       " [('a', 'DET'), (('softer', 'PRON'), ('softer', 'ADJ'))],\n",
       " [('softer', 'ADJ'), (('motor-home', 'PRON'), ('motor-home', 'NOUN'))],\n",
       " [('.', '.'), (('Image', 'PRON'), ('Image', 'NOUN'))],\n",
       " [('what', 'PRON'), (('*T*-170', 'PRON'), ('*T*-170', 'X'))],\n",
       " [('what', 'PRON'), (('*T*-171', 'PRON'), ('*T*-171', 'X'))],\n",
       " [('forced', 'VERB'), (('*-100', 'PRON'), ('*-100', 'X'))],\n",
       " [('.', '.'), (('Junk', 'PRON'), ('Junk', 'NOUN'))],\n",
       " [('.', '.'), (('Periods', 'PRON'), ('Periods', 'NOUN'))],\n",
       " [('the', 'DET'), (('advent', 'PRON'), ('advent', 'NOUN'))],\n",
       " [('often', 'ADV'), (('more', 'ADJ'), ('more', 'ADV'))],\n",
       " [('were', 'VERB'), (('undergoing', 'PRON'), ('undergoing', 'VERB'))],\n",
       " [('undergoing', 'VERB'), (('change', 'VERB'), ('change', 'NOUN'))],\n",
       " [('-LRB-', '.'), (('1973-75', 'PRON'), ('1973-75', 'NUM'))],\n",
       " [(',', '.'), (('1937-40', 'PRON'), ('1937-40', 'NUM'))],\n",
       " [('and', 'CONJ'), (('1928-33', 'PRON'), ('1928-33', 'NUM'))],\n",
       " [('a', 'DET'), (('post-hearing', 'PRON'), ('post-hearing', 'ADJ'))],\n",
       " [('who', 'PRON'), (('*T*-214', 'PRON'), ('*T*-214', 'X'))],\n",
       " [('be', 'VERB'), (('comfortable', 'PRON'), ('comfortable', 'ADJ'))],\n",
       " [('be', 'VERB'), (('centralized', 'PRON'), ('centralized', 'VERB'))],\n",
       " [('to', 'PRT'), (('test', 'NOUN'), ('test', 'VERB'))],\n",
       " [('pegged', 'VERB'), (('*-164', 'PRON'), ('*-164', 'X'))],\n",
       " [('be', 'VERB'), (('less', 'ADV'), ('less', 'ADJ'))],\n",
       " [('factory', 'NOUN'), (('pay', 'VERB'), ('pay', 'NOUN'))],\n",
       " [('.', '.'), (('Barge', 'PRON'), ('Barge', 'NOUN'))],\n",
       " [('River', 'NOUN'), (('sank', 'PRON'), ('sank', 'VERB'))],\n",
       " [('temporarily', 'ADV'), (('alleviate', 'PRON'), ('alleviate', 'VERB'))],\n",
       " [('to', 'PRT'), (('offend', 'PRON'), ('offend', 'VERB'))],\n",
       " [('largest', 'ADJ'), (('lender', 'PRON'), ('lender', 'NOUN'))],\n",
       " [('Richard', 'NOUN'), (('Drobnick', 'PRON'), ('Drobnick', 'NOUN'))],\n",
       " [('of', 'ADP'), (('Lauderhill', 'PRON'), ('Lauderhill', 'NOUN'))],\n",
       " [('of', 'ADP'), (('Plantation', 'PRON'), ('Plantation', 'NOUN'))],\n",
       " [('Hahn', 'NOUN'), (('skipped', 'PRON'), ('skipped', 'VERB'))],\n",
       " [('his', 'PRON'), (('classmates', 'PRON'), ('classmates', 'NOUN'))],\n",
       " [('achieve', 'VERB'), (('near-record', 'PRON'), ('near-record', 'ADJ'))],\n",
       " [('For', 'ADP'), (('American', 'ADJ'), ('American', 'NOUN'))],\n",
       " [('to', 'PRT'), (('broaden', 'PRON'), ('broaden', 'VERB'))],\n",
       " [('men', 'NOUN'), (('exuded', 'PRON'), ('exuded', 'VERB'))],\n",
       " [('were', 'VERB'), (('delayed', 'PRON'), ('delayed', 'VERB'))],\n",
       " [('bureaucracy', 'NOUN'), (('as', 'ADP'), ('as', 'ADV'))],\n",
       " [(\"'s\", 'PRT'), (('tricky', 'PRON'), ('tricky', 'ADJ'))],\n",
       " [(',', '.'), (('unproven', 'PRON'), ('unproven', 'ADJ'))],\n",
       " [('Florio', 'NOUN'), ((\"'s\", 'PRT'), (\"'s\", 'VERB'))],\n",
       " [('goes', 'VERB'), (('on', 'ADP'), ('on', 'PRT'))],\n",
       " [(\"'s\", 'PRT'), (('land', 'VERB'), ('land', 'NOUN'))],\n",
       " [('was', 'VERB'), (('cleaned', 'PRON'), ('cleaned', 'VERB'))],\n",
       " [('no', 'DET'), (('pollution', 'PRON'), ('pollution', 'NOUN'))],\n",
       " [('a', 'DET'), (('civil', 'PRON'), ('civil', 'ADJ'))],\n",
       " [('internal', 'ADJ'),\n",
       "  (('contradictions', 'PRON'), ('contradictions', 'NOUN'))],\n",
       " [('and', 'CONJ'), (('pitting', 'PRON'), ('pitting', 'VERB'))]]"
      ]
     },
     "execution_count": 35,
     "metadata": {},
     "output_type": "execute_result"
    }
   ],
   "source": [
    "incorrect_tagged_cases"
   ]
  },
  {
   "cell_type": "code",
   "execution_count": 36,
   "metadata": {},
   "outputs": [
    {
     "name": "stdout",
     "output_type": "stream",
     "text": [
      "Count of Unknown words in test set : 337\n",
      "\n",
      "Unknown words in test data are listed below :\n",
      "**************************************************\n",
      "['knell', 'benchmarks', 'computer-system-design', 'Takes', '*-164', 'lender', 'item', 'Virginians', 'Anti-Deficiency', 'phony', 'near-limit', 'please', '1933', 'old-style', 'lend-lease', '38.375', 'accurately', 'delayed', 'botched', 'near-record', 'drift', 'kindness', 'co-founded', 'fielded', 'felonies', 'motor-home', 'Truck', '*T*-154', 'administrators', 'protected', 'hailing', 'log', 'evolve', 'Wilson', 'stereotyped', 'Johnson-era', 'TRANSPLANT', 'pollution', 'Purina', 'Woodrow', 'stereo', 'Calder', 'Junk', 'recorder', 'Tray', 'Henderson', 'bargains', 'exuded', 'Backseat', 'agriculture', '235', 'akin', 'Roman', 'tricky', 'full-year', 'titans', 'Mo.-based', 'W.N.', 'receipt', 'hither', 'abounding', 'pre-1933', 'quantitive', 'Goodman', 'blood-cell', 'evolved', '241', 'kidnapper', 'uttering', 'justified', 'Anku', 'Lowe', 'IX', '*T*-77', 'manpower', 'nurtured', 'outcry', '340,000', 'Beauty', 'biannual', '21.9', 'Duchossois', 'softer', 'intimidate', 'untrained', 'Fairlawn', 'safeguarding', 'judgment', 'halve', 'God', 'permissible', '9.82', 'broaden', 'Quant', '*T*-227', 'voluntary', 'mega-stadium', 'advent', 'Thrall', 'stays', '325,000', 'varied', 'Maine', 'heirs', 'Trojan', 'Leningrad', 'hunted', 'Observing', 'MEDICINE', 'dilemma', 'accountant', 'Elmhurst', 'creature', 'relied', 'noncompetitively', 'stock-manipulation', 'mend', '*-77', '14-hour', 'Bridges', 'civil', 'Against', 'EEOC', 'heavy-truck', 'cleaned', 'b', 'prosecuting', 'Policies', 'superimposed', '*T*-244', '6.4', '*T*-134', 'Oshkosh', 'clock', 'Periods', '7.422', 'Internatonal', 'struggled', 'trail', 'solicitous', 'doctorate', '*-111', 'Dakota', 'five-year', 'legislators', 'lieu', '6.70', 'Monticello', '422.5', 'Ian', '6.44', 'NEW', 'muster', 'initiative', 'PAPERS', 'hid', '1928-33', 'collective-bargaining', '113.2', 'perspective', 'equities', 'Maytag', 'visits', '1937-40', 'unwilling', 'missiles', '*T*-146', 'sank', 'pulled', 'retiring', '14.26', 'Rhone', '17-year-old', '83,206', '1968', 'cultivation', 'perpetuates', 'dances', 'lesser', 'prejudice', '387.8', 'marrow', 'Impediments', '4.10', 'prostitute', 'plea', 'soybeans', '7.65', 'Voters', '*-116', 'wears', 'liberty', '51-year-old', 'lackluster', 'roughhewn', 'tinker', 'Initiative', 'centralized', 'stirred', '144', '5.63', 'Trans', 'industries', '1961', 'Stephens', 'loudest', 'Bumkins', 'removing', 'negotiating', 'pitting', 'single-handed', 'awful', 'Shipments', 'wave', 'N.', 'Drobnick', 'Provided', 'achievement-test', 'sectors', 'offend', 'contest', '89.9', 'comfortable', 'dismal', 'sunny', 'Rekindled', 'index-options', 'per-share', 'meets', 'undergoing', 'impartial', 'Note', 'infusion', 'cater', 'Pencil', 'evoking', 'knowns', 'shake', 'generations', 'Crime', 'Buyers', 'Image', 'mandates', 'Wis.', 'acknowledge', 'multilevel', 'post-hearing', 'Adolph', 'Egyptian', 'Mutchin', 'applaud', 'spooked', 'contributions', 'ACCOUNT', 'Queen', '12.09', 'subindustry', 'entice', '382-37', 'skipped', 'yon', 'settlements', 'curses', 'round-trip', 'powwow', 'insidious', 'honors', 'scream', 'third-highest', 'traced', 'handful', '2,099', 'passenger-car', 'Si', 'surrender', 'track', '*T*-125', 'Carney', '*T*-242', 'juggle', 'Bon', 'exhibited', 'completing', 'enrollment', 'Georgetown', 'insider-trading', 'Barge', 'Ill', 'restraints', 'exactly', 'prompts', '1973-75', 'sheepskin', 'Lauderhill', 'smothering', '14.00', 'Stark', '*T*-171', 'chauffeur', 'Review', '*T*-188', 'Fourteen', '4.5', 'cushioned', 'Plantation', 'ordering', 'discos', 'reds', 'classmates', 'welcome', 'exerting', 'Chinese-American', '*T*-214', '*-100', 'satisfying', 'Coors', 'Robertson', 'quietly', 'alleviate', '0.54', 'Generally', 'deteriorated', 'Test-preparation', 'bilingual', '*T*-161', 'Cheese', '148', 'jurisdiction', '0.50', 'notify', 'contradictions', 'unproven', 'numeral', 'Pharaoh', 'confines', '*T*-170', '70.7']\n"
     ]
    }
   ],
   "source": [
    "# Unknown words \n",
    "\n",
    "train_vocab_set = vocab_set\n",
    "test_vocab_set = set([t for t in test_set_words])\n",
    "\n",
    "unknown_words_list = list(test_vocab_set - train_vocab_set)\n",
    "print(\"Count of Unknown words in test set :\", len(unknown_words_list))\n",
    "print(\"\\nUnknown words in test data are listed below :\")\n",
    "print(\"*\"*50)\n",
    "print(unknown_words_list)"
   ]
  },
  {
   "cell_type": "markdown",
   "metadata": {},
   "source": [
    "We have achieved an accuracy of ~90% on test data using Vanilla Viterbi.\n",
    "We are looosing out on 10% as because of the unknown words in the test data which are getting incorrectly tagged using Vanilla Viterbi.\n",
    "\n",
    "Let's now explore how to modify the Vanilla Viterbi Algorithm such that the unknown words are also handled"
   ]
  },
  {
   "cell_type": "markdown",
   "metadata": {},
   "source": [
    "## Solve the problem of unknown words"
   ]
  },
  {
   "cell_type": "markdown",
   "metadata": {},
   "source": [
    "# Modification #1: Modifying Viterbi Algorithm to handle Unknown Words by modifying state_probability expression\n",
    "\n",
    "As we have seen there are around 320 unknown words in the test set, which are unhandled by the Vanilla Viterbi.\n",
    "For example, *'earning', 'Mindy', 'heavy-duty', 'diplomatic', 'ordeal', '49.9', 'Being', 'traveled'* etc.\n",
    "\n",
    "*The state_probablities of these unknown words is calculated to be transition_p * emission_p, since emission_p is equal to 0 as the word itself is not present in the vocabulary resultant state_probabiility results in 0.*\n",
    "\n",
    "So in order handle this we will tweak the Vanilla Viterbi Algorithm -\n",
    "\n",
    "*We will consider the state_probability of unknown words to be-*\n",
    "\n",
    "**state_probability = transition_probability * 0.001** *(Laplace Smoothing factor)*\n",
    "\n",
    "Function: Viterbi_to_handle_Unknown_Words()"
   ]
  },
  {
   "cell_type": "code",
   "execution_count": 37,
   "metadata": {},
   "outputs": [],
   "source": [
    "# Viterbi Heuristic\n",
    "def Viterbi_to_handle_Unknown_Words(words, train_bag = train_tagged_words):\n",
    "    state = []\n",
    "    T = list(set([pair[1] for pair in train_bag]))\n",
    "    \n",
    "    for key, word in enumerate(words):\n",
    "        #initialise list of probability column for a given observation\n",
    "        p = [] \n",
    "        for tag in T:\n",
    "            if key == 0:\n",
    "                transition_p = tags_df.loc['.', tag]\n",
    "            else:\n",
    "                transition_p = tags_df.loc[state[-1], tag]\n",
    "                \n",
    "            # compute emission and state probabilities\n",
    "            emission_p = word_given_tag(words[key], tag)[0]/word_given_tag(words[key], tag)[1]\n",
    "            \n",
    "            # Modification 1: modifying state_probability to handle unknown words\n",
    "            if word not in train_vocab_set:\n",
    "                state_probability = transition_p * 0.001 #laplace smoothing factor  \n",
    "            else:\n",
    "                state_probability = emission_p * transition_p\n",
    "            \n",
    "            p.append(state_probability)\n",
    "            \n",
    "        pmax = max(p)\n",
    "        state_max = T[p.index(pmax)] \n",
    "        state.append(state_max)\n",
    "    return list(zip(words, state))"
   ]
  },
  {
   "cell_type": "markdown",
   "metadata": {},
   "source": [
    "### Evaluating Viterbi Modification #1 on validation set"
   ]
  },
  {
   "cell_type": "code",
   "execution_count": 38,
   "metadata": {},
   "outputs": [
    {
     "name": "stdout",
     "output_type": "stream",
     "text": [
      "Time taken for Viterbi_to_handle_Unknown_Words 708.6133785247803\n"
     ]
    }
   ],
   "source": [
    "# tagging the test sentences\n",
    "\n",
    "start = time.time()\n",
    "#Commenting Viterbi_Mod1_tagged_seq as we'll pickle this object\n",
    "#Viterbi_Mod1_Laplace_Smoothing_tagged_seq = Viterbi_to_handle_Unknown_Words(test_set_words)\n",
    "end = time.time()\n",
    "difference = end-start\n",
    "\n",
    "print('Time taken for Viterbi_to_handle_Unknown_Words', difference)"
   ]
  },
  {
   "cell_type": "code",
   "execution_count": 39,
   "metadata": {},
   "outputs": [
    {
     "data": {
      "text/plain": [
       "['Viterbi_Mod1_Laplace_Smoothing_tagged_seq.sav']"
      ]
     },
     "execution_count": 39,
     "metadata": {},
     "output_type": "execute_result"
    }
   ],
   "source": [
    "#Saving Viterbi Mod 1 tagged seq in local\n",
    "import pickle\n",
    "filename_Viterbi_Mod1 = 'Viterbi_Mod1_Laplace_Smoothing_tagged_seq.sav'\n",
    "joblib.dump(Viterbi_Mod1_Laplace_Smoothing_tagged_seq, filename_Viterbi_Mod1)"
   ]
  },
  {
   "cell_type": "code",
   "execution_count": 40,
   "metadata": {},
   "outputs": [],
   "source": [
    "#load back Viterbi Mod 1\n",
    "Viterbi_Mod1_Laplace_Smoothing_tagged_seq = joblib.load(filename_Viterbi_Mod1)"
   ]
  },
  {
   "cell_type": "code",
   "execution_count": 41,
   "metadata": {},
   "outputs": [],
   "source": [
    "# accuracy\n",
    "check = [i for i, j in zip(Viterbi_Mod1_Laplace_Smoothing_tagged_seq, test_set_tag_words_pair) if i == j]"
   ]
  },
  {
   "cell_type": "code",
   "execution_count": 42,
   "metadata": {},
   "outputs": [
    {
     "name": "stdout",
     "output_type": "stream",
     "text": [
      "Accuracy of 1st Modified Viterbi Technique =  0.9440223910435825\n"
     ]
    }
   ],
   "source": [
    "laplace_smoothing_accuracy = len(check)/len(Viterbi_Mod1_Laplace_Smoothing_tagged_seq)\n",
    "print('Accuracy of 1st Modified Viterbi Technique = ',laplace_smoothing_accuracy)"
   ]
  },
  {
   "cell_type": "code",
   "execution_count": 43,
   "metadata": {},
   "outputs": [],
   "source": [
    "#incorrect tag sequences in 1st Modified Viterbi Algorithm\n",
    "\n",
    "incorrect_tagged_cases_Viterbi_Mod1 = [[test_set_tag_words_pair[i-1],j] for i, j in enumerate(zip(Viterbi_Mod1_Laplace_Smoothing_tagged_seq, test_set_tag_words_pair)) if j[0]!=j[1]]"
   ]
  },
  {
   "cell_type": "code",
   "execution_count": 44,
   "metadata": {},
   "outputs": [
    {
     "name": "stdout",
     "output_type": "stream",
     "text": [
      "Count of incorrectly tagged words are= 280\n"
     ]
    }
   ],
   "source": [
    "print('Count of incorrectly tagged words are=',(len(incorrect_tagged_cases_Viterbi_Mod1)))"
   ]
  },
  {
   "cell_type": "code",
   "execution_count": 45,
   "metadata": {
    "scrolled": true
   },
   "outputs": [
    {
     "data": {
      "text/plain": [
       "[[('print', 'VERB'), (('hither', 'X'), ('hither', 'ADV'))],\n",
       " [('to', 'PRT'), (('yon', 'VERB'), ('yon', 'ADV'))],\n",
       " [('almost', 'ADV'), (('single-handed', 'VERB'), ('single-handed', 'ADJ'))],\n",
       " [('way', 'NOUN'), (('sanctions', 'NOUN'), ('sanctions', 'VERB'))],\n",
       " [('the', 'DET'), (('dismal', 'NOUN'), ('dismal', 'ADJ'))],\n",
       " [('*-1', 'X'), (('unwilling', 'VERB'), ('unwilling', 'ADJ'))],\n",
       " [(',', '.'), (('Mo.-based', 'NOUN'), ('Mo.-based', 'ADJ'))],\n",
       " [('a', 'DET'), (('five-year', 'NOUN'), ('five-year', 'ADJ'))],\n",
       " [('backers', 'NOUN'), (('fielded', 'NOUN'), ('fielded', 'VERB'))],\n",
       " [('The', 'DET'), (('preferred', 'ADJ'), ('preferred', 'VERB'))],\n",
       " [('each', 'DET'), (('preferred', 'ADJ'), ('preferred', 'VERB'))],\n",
       " [('could', 'VERB'), (('intimidate', 'X'), ('intimidate', 'VERB'))],\n",
       " [('``', '.'), (('Provided', 'NOUN'), ('Provided', 'VERB'))],\n",
       " [(',', '.'), (('that', 'DET'), ('that', 'ADP'))],\n",
       " [('that', 'ADP'), (('no', 'ADV'), ('no', 'DET'))],\n",
       " [('``', '.'), (('evolved', 'NOUN'), ('evolved', 'VERB'))],\n",
       " [('evolved', 'VERB'), (('out', 'PRT'), ('out', 'ADP'))],\n",
       " [('ad', 'NOUN'), (('charges', 'NOUN'), ('charges', 'VERB'))],\n",
       " [('to', 'PRT'), (('report', 'NOUN'), ('report', 'VERB'))],\n",
       " [('contributions', 'NOUN'), (('accurately', 'NOUN'), ('accurately', 'ADV'))],\n",
       " [(',', '.'), (('hid', 'NOUN'), ('hid', 'VERB'))],\n",
       " [('convicted', 'VERB'), (('kidnapper', 'X'), ('kidnapper', 'NOUN'))],\n",
       " [('a', 'DET'), (('phony', 'NOUN'), ('phony', 'ADJ'))],\n",
       " [('``', '.'), (('Funny', 'NOUN'), ('Funny', 'ADJ'))],\n",
       " [('of', 'ADP'), (('worries', 'VERB'), ('worries', 'NOUN'))],\n",
       " [('keeping', 'VERB'), (('closer', 'ADV'), ('closer', 'ADJ'))],\n",
       " [('closer', 'ADJ'), (('track', 'VERB'), ('track', 'NOUN'))],\n",
       " [('booklets', 'NOUN'), (('next', 'ADP'), ('next', 'ADJ'))],\n",
       " [(':', '.'), (('Against', 'NOUN'), ('Against', 'ADP'))],\n",
       " [('Monticello', 'NOUN'),\n",
       "  (('superimposed', 'NOUN'), ('superimposed', 'VERB'))],\n",
       " [('announcer', 'NOUN'), (('talks', 'NOUN'), ('talks', 'VERB'))],\n",
       " [(\"''\", '.'), (('that', 'DET'), ('that', 'ADP'))],\n",
       " [('have', 'VERB'), (('nurtured', 'X'), ('nurtured', 'VERB'))],\n",
       " [('relatively', 'ADV'), (('level', 'NOUN'), ('level', 'ADJ'))],\n",
       " [('the', 'DET'), (('third-highest', 'NOUN'), ('third-highest', 'ADJ'))],\n",
       " [('creation', 'NOUN'), (('that', 'ADP'), ('that', 'DET'))],\n",
       " [('*-1', 'X'), (('noncompetitively', 'VERB'), ('noncompetitively', 'ADV'))],\n",
       " [('``', '.'), (('The', 'DET'), ('The', 'NOUN'))],\n",
       " [('Ill', 'NOUN'), (('Homeless', 'ADJ'), ('Homeless', 'NOUN'))],\n",
       " [('colleagues', 'NOUN'), (('that', 'ADP'), ('that', 'DET'))],\n",
       " [('the', 'DET'), (('American', 'ADJ'), ('American', 'NOUN'))],\n",
       " [('passion', 'NOUN'), (('that', 'ADP'), ('that', 'DET'))],\n",
       " [('that', 'DET'), (('*T*-227', 'NOUN'), ('*T*-227', 'X'))],\n",
       " [('The', 'DET'), (('loudest', 'NOUN'), ('loudest', 'ADJ'))],\n",
       " [('who', 'PRON'), (('*T*-77', 'VERB'), ('*T*-77', 'X'))],\n",
       " [('*T*-77', 'X'), (('cater', 'X'), ('cater', 'VERB'))],\n",
       " [('initial', 'ADJ'), (('public', 'NOUN'), ('public', 'ADJ'))],\n",
       " [('0', 'X'), (('administrators', 'VERB'), ('administrators', 'NOUN'))],\n",
       " [(\"n't\", 'ADV'), (('enough', 'ADV'), ('enough', 'ADJ'))],\n",
       " [('ring', 'VERB'), (('more', 'ADV'), ('more', 'ADJ'))],\n",
       " [(\"'s\", 'PRT'), (('face', 'VERB'), ('face', 'NOUN'))],\n",
       " [('--', '.'), (('in', 'ADP'), ('in', 'NOUN'))],\n",
       " [(',', '.'), (('1933', 'NOUN'), ('1933', 'NUM'))],\n",
       " [(',', '.'), (('1961', 'NOUN'), ('1961', 'NUM'))],\n",
       " [(',', '.'), (('1968', 'NOUN'), ('1968', 'NUM'))],\n",
       " [('which', 'DET'), (('*T*-244', 'NOUN'), ('*T*-244', 'X'))],\n",
       " [('have', 'VERB'), (('deteriorated', 'X'), ('deteriorated', 'VERB'))],\n",
       " [('been', 'VERB'), (('quietly', 'X'), ('quietly', 'ADV'))],\n",
       " [(',', '.'), (('traced', 'NOUN'), ('traced', 'VERB'))],\n",
       " [('benefit', 'VERB'), (('agriculture', 'X'), ('agriculture', 'NOUN'))],\n",
       " [('.', '.'), (('Fourteen', 'NOUN'), ('Fourteen', 'NUM'))],\n",
       " [('his', 'PRON'), (('judgment', 'VERB'), ('judgment', 'NOUN'))],\n",
       " [('yield', 'VERB'), (('7.65', 'X'), ('7.65', 'NUM'))],\n",
       " [(',', '.'), (('old-style', 'NOUN'), ('old-style', 'ADJ'))],\n",
       " [('funds', 'NOUN'), (('that', 'ADP'), ('that', 'DET'))],\n",
       " [('portfolios', 'NOUN'), (('so', 'ADV'), ('so', 'ADP'))],\n",
       " [('they', 'PRON'), (('mirror', 'NOUN'), ('mirror', 'VERB'))],\n",
       " [('two', 'NUM'), (('round-trip', 'NOUN'), ('round-trip', 'ADJ'))],\n",
       " [('of', 'ADP'), (('0.54', 'NOUN'), ('0.54', 'NUM'))],\n",
       " [('to', 'PRT'), (('14.26', 'VERB'), ('14.26', 'NUM'))],\n",
       " [('or', 'CONJ'), (('more', 'ADJ'), ('more', 'ADV'))],\n",
       " [('must', 'VERB'), (('notify', 'X'), ('notify', 'VERB'))],\n",
       " [('.', '.'), (('Note', 'NOUN'), ('Note', 'VERB'))],\n",
       " [('All', 'DET'), (('per-share', 'NOUN'), ('per-share', 'ADJ'))],\n",
       " [('said', 'VERB'), (('that', 'ADP'), ('that', 'DET'))],\n",
       " [('that', 'DET'), (('full-year', 'NOUN'), ('full-year', 'ADJ'))],\n",
       " [('$', '.'), (('148', 'NOUN'), ('148', 'NUM'))],\n",
       " [('this', 'DET'), (('one', 'NUM'), ('one', 'NOUN'))],\n",
       " [('How', 'ADV'), ((\"'s\", 'PRT'), (\"'s\", 'VERB'))],\n",
       " [('be', 'VERB'), (('impartial', 'X'), ('impartial', 'ADJ'))],\n",
       " [('a', 'DET'), (('homosexual', 'ADJ'), ('homosexual', 'NOUN'))],\n",
       " [('who', 'PRON'), (('*T*-242', 'VERB'), ('*T*-242', 'X'))],\n",
       " [('went', 'VERB'), (('down', 'ADV'), ('down', 'ADP'))],\n",
       " [('The', 'DET'), (('multilevel', 'NOUN'), ('multilevel', 'ADJ'))],\n",
       " [('held', 'VERB'), (('Duchossois', 'X'), ('Duchossois', 'NOUN'))],\n",
       " [('what', 'PRON'), (('exactly', 'VERB'), ('exactly', 'ADV'))],\n",
       " [('a', 'DET'), (('principal', 'NOUN'), ('principal', 'ADJ'))],\n",
       " [('a', 'DET'), (('solicitous', 'NOUN'), ('solicitous', 'ADJ'))],\n",
       " [('solicitous', 'ADJ'), (('Christian', 'NOUN'), ('Christian', 'ADJ'))],\n",
       " [(',', '.'), (('roughhewn', 'NOUN'), ('roughhewn', 'ADJ'))],\n",
       " [('roughhewn', 'ADJ'), (('figure', 'VERB'), ('figure', 'NOUN'))],\n",
       " [('--', '.'), (('a', 'DET'), ('a', 'ADJ'))],\n",
       " [('transacting', 'VERB'), (('principal', 'NOUN'), ('principal', 'ADJ'))],\n",
       " [('has', 'VERB'), (('hunted', 'X'), ('hunted', 'VERB'))],\n",
       " [('.', '.'), (('Average', 'NOUN'), ('Average', 'ADJ'))],\n",
       " [(':', '.'), (('83,206', 'NOUN'), ('83,206', 'NUM'))],\n",
       " [('to', 'PRT'), (('swap', 'NOUN'), ('swap', 'VERB'))],\n",
       " [(\"'s\", 'PRT'), (('Mutchin', 'VERB'), ('Mutchin', 'NOUN'))],\n",
       " [('legislation', 'NOUN'), (('that', 'ADP'), ('that', 'DET'))],\n",
       " [('attorney', 'NOUN'), (('general', 'ADJ'), ('general', 'NOUN'))],\n",
       " [(\"'s\", 'PRT'), (('support', 'VERB'), ('support', 'NOUN'))],\n",
       " [('the', 'DET'), (('very', 'ADV'), ('very', 'ADJ'))],\n",
       " [('who', 'PRON'), (('*T*-77', 'VERB'), ('*T*-77', 'X'))],\n",
       " [('was', 'VERB'), (('awful', 'X'), ('awful', 'ADJ'))],\n",
       " [('widely', 'ADV'), (('used', 'VERB'), ('used', 'ADJ'))],\n",
       " [('the', 'DET'), (('Roman', 'NOUN'), ('Roman', 'ADJ'))],\n",
       " [('numeral', 'NOUN'), (('IX', 'NOUN'), ('IX', 'NUM'))],\n",
       " [('company', 'NOUN'), (('that', 'ADP'), ('that', 'DET'))],\n",
       " [('that', 'DET'), (('*T*-146', 'NOUN'), ('*T*-146', 'X'))],\n",
       " [('which', 'DET'), (('*T*-134', 'NOUN'), ('*T*-134', 'X'))],\n",
       " [('guild', 'NOUN'),\n",
       "  (('collective-bargaining', 'NOUN'), ('collective-bargaining', 'ADJ'))],\n",
       " [('questions', 'NOUN'), (('range', 'NOUN'), ('range', 'VERB'))],\n",
       " [('divisions', 'NOUN'), (('that', 'ADP'), ('that', 'DET'))],\n",
       " [(\"n't\", 'ADV'), (('wish', 'VERB'), ('wish', 'NOUN'))],\n",
       " [('the', 'DET'), (('underlying', 'ADJ'), ('underlying', 'VERB'))],\n",
       " [('to', 'PRT'), (('235', 'VERB'), ('235', 'NUM'))],\n",
       " [('$', '.'), (('113.2', 'NOUN'), ('113.2', 'NUM'))],\n",
       " [('or', 'CONJ'), (('6.70', 'NOUN'), ('6.70', 'NUM'))],\n",
       " [('from', 'ADP'), (('144', 'NOUN'), ('144', 'NUM'))],\n",
       " [('or', 'CONJ'), (('4.10', 'NOUN'), ('4.10', 'NUM'))],\n",
       " [('their', 'PRON'), (('views', 'VERB'), ('views', 'NOUN'))],\n",
       " [('is', 'VERB'), (('heating', 'NOUN'), ('heating', 'VERB'))],\n",
       " [('.', '.'), (('9.82', 'NOUN'), ('9.82', 'NUM'))],\n",
       " [('rate', 'NOUN'), (('capped', 'VERB'), ('capped', 'ADJ'))],\n",
       " [('would', 'VERB'), (('trail', 'X'), ('trail', 'VERB'))],\n",
       " [('--', '.'), (('Generally', 'NOUN'), ('Generally', 'ADV'))],\n",
       " [('employs', 'VERB'), (('quantitive', 'X'), ('quantitive', 'ADJ'))],\n",
       " [('their', 'PRON'), (('discos', 'VERB'), ('discos', 'NOUN'))],\n",
       " [('their', 'PRON'), (('dances', 'VERB'), ('dances', 'NOUN'))],\n",
       " [('II', 'NOUN'), (('lend-lease', 'NOUN'), ('lend-lease', 'ADJ'))],\n",
       " [('the', 'DET'), (('pre-1933', 'NOUN'), ('pre-1933', 'ADJ'))],\n",
       " [('the', 'DET'), (('key', 'ADJ'), ('key', 'NOUN'))],\n",
       " [(',', '.'), (('yet', 'ADV'), ('yet', 'CONJ'))],\n",
       " [('yet', 'CONJ'), (('close', 'VERB'), ('close', 'ADV'))],\n",
       " [('their', 'PRON'), (('biannual', 'VERB'), ('biannual', 'ADJ'))],\n",
       " [('biannual', 'ADJ'), (('powwow', 'X'), ('powwow', 'NOUN'))],\n",
       " [('manufacturing', 'VERB'), (('titans', 'X'), ('titans', 'NOUN'))],\n",
       " [('typically', 'ADV'), (('jet', 'NOUN'), ('jet', 'VERB'))],\n",
       " [('the', 'DET'), (('sunny', 'NOUN'), ('sunny', 'ADJ'))],\n",
       " [('and', 'CONJ'), (('Hot', 'ADJ'), ('Hot', 'NOUN'))],\n",
       " [('*EXP*-1', 'X'), ((\"'s\", 'PRT'), (\"'s\", 'VERB'))],\n",
       " [('a', 'DET'), (('17-year-old', 'NOUN'), ('17-year-old', 'ADJ'))],\n",
       " [('are', 'VERB'), (('all', 'DET'), ('all', 'ADV'))],\n",
       " [('return', 'NOUN'), (('measures', 'NOUN'), ('measures', 'VERB'))],\n",
       " [(\"''\", '.'), (('evolve', 'NOUN'), ('evolve', 'VERB'))],\n",
       " [('creature', 'NOUN'), (('that', 'ADP'), ('that', 'DET'))],\n",
       " [('is', 'VERB'), (('evoking', 'X'), ('evoking', 'VERB'))],\n",
       " [(',', '.'), (('as', 'ADP'), ('as', 'ADV'))],\n",
       " [('as', 'ADV'), (('long', 'ADJ'), ('long', 'ADV'))],\n",
       " [('$', '.'), (('325,000', 'NOUN'), ('325,000', 'NUM'))],\n",
       " [('$', '.'), (('340,000', 'NOUN'), ('340,000', 'NUM'))],\n",
       " [('investors', 'NOUN'), (('spooked', 'NOUN'), ('spooked', 'VERB'))],\n",
       " [('activity', 'NOUN'), (('varied', 'NOUN'), ('varied', 'VERB'))],\n",
       " [('.', '.'), (('So', 'ADV'), ('So', 'ADP'))],\n",
       " [('acknowledge', 'VERB'), (('that', 'ADP'), ('that', 'DET'))],\n",
       " [('and', 'CONJ'), (('welcome', 'NOUN'), ('welcome', 'VERB'))],\n",
       " [('$', '.'), (('38.375', 'NOUN'), ('38.375', 'NUM'))],\n",
       " [('daily', 'ADJ'), (('permissible', 'NOUN'), ('permissible', 'ADJ'))],\n",
       " [('of', 'ADP'), (('0.50', 'NOUN'), ('0.50', 'NUM'))],\n",
       " [('to', 'PRT'), (('14.00', 'VERB'), ('14.00', 'NUM'))],\n",
       " [('showed', 'VERB'), (('near-limit', 'X'), ('near-limit', 'ADJ'))],\n",
       " [('firms', 'NOUN'), (('that', 'ADP'), ('that', 'DET'))],\n",
       " [('that', 'DET'), (('*T*-154', 'NOUN'), ('*T*-154', 'X'))],\n",
       " [('spend', 'VERB'), (('much', 'ADV'), ('much', 'ADJ'))],\n",
       " [('be', 'VERB'), (('relied', 'X'), ('relied', 'VERB'))],\n",
       " [('prices', 'NOUN'), (('that', 'ADP'), ('that', 'DET'))],\n",
       " [('grain', 'NOUN'), (('buying', 'VERB'), ('buying', 'NOUN'))],\n",
       " [('$', '.'), (('89.9', 'NOUN'), ('89.9', 'NUM'))],\n",
       " [('*U*', 'X'), (('charge', 'VERB'), ('charge', 'NOUN'))],\n",
       " [('$', '.'), (('70.7', 'NOUN'), ('70.7', 'NUM'))],\n",
       " [('$', '.'), (('12.09', 'NOUN'), ('12.09', 'NUM'))],\n",
       " [('$', '.'), (('4.5', 'NOUN'), ('4.5', 'NUM'))],\n",
       " [('.', '.'), (('b', 'NOUN'), ('b', 'X'))],\n",
       " [('big', 'ADJ'), (('insider-trading', 'NOUN'), ('insider-trading', 'ADJ'))],\n",
       " [('China', 'NOUN'), (('pulled', 'NOUN'), ('pulled', 'VERB'))],\n",
       " [('pulled', 'VERB'), (('out', 'PRT'), ('out', 'ADP'))],\n",
       " [('costs', 'NOUN'), (('as', 'ADP'), ('as', 'ADV'))],\n",
       " [('a', 'DET'), (('more', 'ADJ'), ('more', 'ADV'))],\n",
       " [('.', '.'), (('Such', 'ADJ'), ('Such', 'DET'))],\n",
       " [('view', 'NOUN'), (('perpetuates', 'NOUN'), ('perpetuates', 'VERB'))],\n",
       " [('an', 'DET'), (('insidious', 'NOUN'), ('insidious', 'ADJ'))],\n",
       " [(',', '.'), (('stereotyped', 'NOUN'), ('stereotyped', 'ADJ'))],\n",
       " [('in', 'ADP'), (('stock-index', 'ADJ'), ('stock-index', 'NOUN'))],\n",
       " [('keep', 'VERB'), (('up', 'ADV'), ('up', 'PRT'))],\n",
       " [('was', 'VERB'), (('untrained', 'X'), ('untrained', 'ADJ'))],\n",
       " [('one', 'NUM'), (('botched', 'NOUN'), ('botched', 'ADJ'))],\n",
       " [('are', 'VERB'), (('akin', 'X'), ('akin', 'ADJ'))],\n",
       " [('Buyers', 'NOUN'), (('welcome', 'NOUN'), ('welcome', 'VERB'))],\n",
       " [('sellers', 'NOUN'), (('please', 'NOUN'), ('please', 'VERB'))],\n",
       " [(\"''\", '.'), (('Rekindled', 'NOUN'), ('Rekindled', 'VERB'))],\n",
       " [('Rekindled', 'VERB'), (('hope', 'VERB'), ('hope', 'NOUN'))],\n",
       " [('in', 'ADP'), (('lackluster', 'NOUN'), ('lackluster', 'ADJ'))],\n",
       " [('.', '.'), (('Test-preparation', 'NOUN'), ('Test-preparation', 'ADJ'))],\n",
       " [('publishing', 'VERB'), (('subindustry', 'X'), ('subindustry', 'NOUN'))],\n",
       " [('prohibits', 'VERB'), (('voluntary', 'X'), ('voluntary', 'ADJ'))],\n",
       " [('in', 'ADP'), (('East', 'NOUN'), ('East', 'ADJ'))],\n",
       " [('solid', 'ADJ'), (('382-37', 'NOUN'), ('382-37', 'NUM'))],\n",
       " [('third', 'ADJ'),\n",
       "  (('stock-manipulation', 'NOUN'), ('stock-manipulation', 'ADJ'))],\n",
       " [('$', '.'), (('21.9', 'NOUN'), ('21.9', 'NUM'))],\n",
       " [('and', 'CONJ'), (('five-year', 'NOUN'), ('five-year', 'ADJ'))],\n",
       " [('for', 'ADP'),\n",
       "  (('computer-system-design', 'NOUN'), ('computer-system-design', 'ADJ'))],\n",
       " [('chief', 'NOUN'), (('operating', 'NOUN'), ('operating', 'VERB'))],\n",
       " [('pickers', 'NOUN'), (('scream', 'NOUN'), ('scream', 'VERB'))],\n",
       " [('markets', 'NOUN'), (('decline', 'NOUN'), ('decline', 'VERB'))],\n",
       " [('price', 'NOUN'), (('as', 'ADP'), ('as', 'ADV'))],\n",
       " [('Beauty', 'NOUN'), (('Takes', 'NOUN'), ('Takes', 'VERB'))],\n",
       " [('a', 'DET'), (('third-quarter', 'NOUN'), ('third-quarter', 'ADJ'))],\n",
       " [('$', '.'), (('70.7', 'NOUN'), ('70.7', 'NUM'))],\n",
       " [('$', '.'), (('89.9', 'NOUN'), ('89.9', 'NUM'))],\n",
       " [('*U*', 'X'), (('pretax', 'NOUN'), ('pretax', 'ADJ'))],\n",
       " [('mostly', 'ADV'), (('related', 'VERB'), ('related', 'ADJ'))],\n",
       " [('home', 'NOUN'), (('financing', 'NOUN'), ('financing', 'VERB'))],\n",
       " [('*', 'X'), (('trading', 'NOUN'), ('trading', 'VERB'))],\n",
       " [('receiving', 'VERB'), (('end', 'VERB'), ('end', 'NOUN'))],\n",
       " [('with', 'ADP'), (('lesser', 'NOUN'), ('lesser', 'ADJ'))],\n",
       " [('travel', 'NOUN'), (('prompts', 'NOUN'), ('prompts', 'VERB'))],\n",
       " [('set', 'VERB'), (('up', 'ADV'), ('up', 'PRT'))],\n",
       " [('a', 'DET'), (('bilingual', 'NOUN'), ('bilingual', 'ADJ'))],\n",
       " [('$', '.'), (('6.4', 'NOUN'), ('6.4', 'NUM'))],\n",
       " [('year', 'NOUN'), (('earlier', 'ADV'), ('earlier', 'ADJ'))],\n",
       " [('yield', 'VERB'), (('7.422', 'X'), ('7.422', 'NUM'))],\n",
       " [(',', '.'), (('51-year-old', 'NOUN'), ('51-year-old', 'ADJ'))],\n",
       " [('succeeding', 'VERB'), (('Ian', 'X'), ('Ian', 'NOUN'))],\n",
       " [('who', 'PRON'), (('*T*-161', 'VERB'), ('*T*-161', 'X'))],\n",
       " [('is', 'VERB'), (('retiring', 'X'), ('retiring', 'VERB'))],\n",
       " [('$', '.'), (('422.5', 'NOUN'), ('422.5', 'NUM'))],\n",
       " [('$', '.'), (('6.44', 'NOUN'), ('6.44', 'NUM'))],\n",
       " [('$', '.'), (('387.8', 'NOUN'), ('387.8', 'NUM'))],\n",
       " [('$', '.'), (('5.63', 'NOUN'), ('5.63', 'NUM'))],\n",
       " [('100', 'NUM'), (('criminal', 'ADJ'), ('criminal', 'NOUN'))],\n",
       " [('the', 'DET'), (('organized', 'VERB'), ('organized', 'ADJ'))],\n",
       " [('organized', 'ADJ'), (('bar', 'VERB'), ('bar', 'NOUN'))],\n",
       " [('who', 'PRON'), (('*T*-125', 'VERB'), ('*T*-125', 'X'))],\n",
       " [('is', 'VERB'), (('protected', 'X'), ('protected', 'VERB'))],\n",
       " [('An', 'DET'), (('Egyptian', 'NOUN'), ('Egyptian', 'ADJ'))],\n",
       " [('have', 'VERB'), (('justified', 'X'), ('justified', 'VERB'))],\n",
       " [('pyramids', 'NOUN'), (('any', 'DET'), ('any', 'ADV'))],\n",
       " [('any', 'ADV'), (('better', 'ADJ'), ('better', 'ADV'))],\n",
       " [('The', 'DET'), (('heated', 'VERB'), ('heated', 'ADJ'))],\n",
       " [('heated', 'ADJ'), (('talk', 'VERB'), ('talk', 'NOUN'))],\n",
       " [('talk', 'NOUN'), (('stirred', 'X'), ('stirred', 'VERB'))],\n",
       " [('and', 'CONJ'), (('struggled', 'NOUN'), ('struggled', 'VERB'))],\n",
       " [('worked', 'VERB'), (('14-hour', 'X'), ('14-hour', 'ADJ'))],\n",
       " [('and', 'CONJ'), (('fast', 'ADJ'), ('fast', 'ADV'))],\n",
       " [('employs', 'VERB'), (('241', 'X'), ('241', 'NUM'))],\n",
       " [('$', '.'), (('2,099', 'NOUN'), ('2,099', 'NUM'))],\n",
       " [('his', 'PRON'), (('doctorate', 'VERB'), ('doctorate', 'NOUN'))],\n",
       " [('higher', 'ADJ'), (('start-up', 'NOUN'), ('start-up', 'ADJ'))],\n",
       " [('a', 'DET'), (('softer', 'NOUN'), ('softer', 'ADJ'))],\n",
       " [('what', 'PRON'), (('*T*-170', 'VERB'), ('*T*-170', 'X'))],\n",
       " [('what', 'PRON'), (('*T*-171', 'VERB'), ('*T*-171', 'X'))],\n",
       " [('often', 'ADV'), (('more', 'ADJ'), ('more', 'ADV'))],\n",
       " [('were', 'VERB'), (('undergoing', 'X'), ('undergoing', 'VERB'))],\n",
       " [('undergoing', 'VERB'), (('change', 'VERB'), ('change', 'NOUN'))],\n",
       " [('-LRB-', '.'), (('1973-75', 'NOUN'), ('1973-75', 'NUM'))],\n",
       " [(',', '.'), (('1937-40', 'NOUN'), ('1937-40', 'NUM'))],\n",
       " [('and', 'CONJ'), (('1928-33', 'NOUN'), ('1928-33', 'NUM'))],\n",
       " [('a', 'DET'), (('post-hearing', 'NOUN'), ('post-hearing', 'ADJ'))],\n",
       " [('who', 'PRON'), (('*T*-214', 'VERB'), ('*T*-214', 'X'))],\n",
       " [('be', 'VERB'), (('comfortable', 'X'), ('comfortable', 'ADJ'))],\n",
       " [('be', 'VERB'), (('centralized', 'X'), ('centralized', 'VERB'))],\n",
       " [('to', 'PRT'), (('test', 'NOUN'), ('test', 'VERB'))],\n",
       " [('be', 'VERB'), (('less', 'ADV'), ('less', 'ADJ'))],\n",
       " [('factory', 'NOUN'), (('pay', 'VERB'), ('pay', 'NOUN'))],\n",
       " [('River', 'NOUN'), (('sank', 'NOUN'), ('sank', 'VERB'))],\n",
       " [('Hahn', 'NOUN'), (('skipped', 'NOUN'), ('skipped', 'VERB'))],\n",
       " [('his', 'PRON'), (('classmates', 'VERB'), ('classmates', 'NOUN'))],\n",
       " [('achieve', 'VERB'), (('near-record', 'X'), ('near-record', 'ADJ'))],\n",
       " [('For', 'ADP'), (('American', 'ADJ'), ('American', 'NOUN'))],\n",
       " [('men', 'NOUN'), (('exuded', 'NOUN'), ('exuded', 'VERB'))],\n",
       " [('were', 'VERB'), (('delayed', 'X'), ('delayed', 'VERB'))],\n",
       " [('bureaucracy', 'NOUN'), (('as', 'ADP'), ('as', 'ADV'))],\n",
       " [(\"'s\", 'PRT'), (('tricky', 'VERB'), ('tricky', 'ADJ'))],\n",
       " [(',', '.'), (('unproven', 'NOUN'), ('unproven', 'ADJ'))],\n",
       " [('Florio', 'NOUN'), ((\"'s\", 'PRT'), (\"'s\", 'VERB'))],\n",
       " [('goes', 'VERB'), (('on', 'ADP'), ('on', 'PRT'))],\n",
       " [(\"'s\", 'PRT'), (('land', 'VERB'), ('land', 'NOUN'))],\n",
       " [('was', 'VERB'), (('cleaned', 'X'), ('cleaned', 'VERB'))],\n",
       " [('a', 'DET'), (('civil', 'NOUN'), ('civil', 'ADJ'))],\n",
       " [('and', 'CONJ'), (('pitting', 'NOUN'), ('pitting', 'VERB'))]]"
      ]
     },
     "execution_count": 45,
     "metadata": {},
     "output_type": "execute_result"
    }
   ],
   "source": [
    "incorrect_tagged_cases_Viterbi_Mod1"
   ]
  },
  {
   "cell_type": "markdown",
   "metadata": {},
   "source": [
    "Accuracy is improved a bit after modification 1 : ~94%\n",
    "\n",
    "Let's explore more for some other modifications using Lexicon and Rule Based tagging techniques"
   ]
  },
  {
   "cell_type": "markdown",
   "metadata": {},
   "source": [
    "# Modification #2: Modifying Viterbi Algorithm to handle Unknown Words coupled with Rule-based and Lexicon Taggers"
   ]
  },
  {
   "cell_type": "code",
   "execution_count": 46,
   "metadata": {},
   "outputs": [],
   "source": [
    "patterns = [\n",
    "    #Numbers to be tagged as NUM\n",
    "    (r'^-?[0-9]+(.[0-9]+)?$','NUM'),\n",
    "    #Alpha Numeric to be tagged as NOUN\n",
    "    (r'^[aA-zZ].*[0-9]+','NOUN'), \n",
    "    #(r'.*ness$', 'NOUN'),\n",
    "    #Possesive nouns to be tagged as NOUN\n",
    "    (r'.*\\'s$', 'NOUN'),\n",
    "    #Plural nouns to be tagged as NOUN\n",
    "    (r'.*s$', 'NOUN'), \n",
    "    #Regular nouns to be tagged as NOUN\n",
    "    (r'.*', 'NOUN'),\n",
    "    #Special characters to be tagged as X\n",
    "    (r'^(0|([*|-|$].*))','X'),\n",
    "    #for values like *T*-237 to be tagged to X\n",
    "    (r'\\*T?\\*?-[0-9]*$', 'X'),\n",
    "    #Adverbs to be tagged as ADV\n",
    "    (r'.*ly$', 'ADV'),\n",
    "    #Modal Verbs to be tagged as X\n",
    "    (r'.*ould$', 'X'),\n",
    "    #Articles to be tagged as DET\n",
    "    (r'(The|the|A|a|An|an)$', 'DET'),\n",
    "    #Word ending with 'like', 'ful', 'able', 'ical','less', 'ous' to be tagged as ADJ\n",
    "    (r'.*(like|ful|able|ical|less|ous)$', 'ADJ'),\n",
    "    #Words ending with es, ing, ed are to be tagged as VERB \n",
    "    (r'.*(es|ing|ed|)$', 'VERB')\n",
    "    ]"
   ]
  },
  {
   "cell_type": "markdown",
   "metadata": {},
   "source": [
    "#### Rule-based tagger"
   ]
  },
  {
   "cell_type": "code",
   "execution_count": 47,
   "metadata": {},
   "outputs": [
    {
     "name": "stdout",
     "output_type": "stream",
     "text": [
      "Rule based tagger accuracy =  0.3090763694522191\n"
     ]
    }
   ],
   "source": [
    "#rule based tagger\n",
    "rule_based_tagger = nltk.RegexpTagger(patterns)\n",
    "rule_based_accuracy = rule_based_tagger.evaluate(test_set)\n",
    "print(\"Rule based tagger accuracy = \",rule_based_accuracy)"
   ]
  },
  {
   "cell_type": "markdown",
   "metadata": {},
   "source": [
    "Rule based alone has very poor accuracy, let's now couple it with it lexicon tagger and use rule based as backoff"
   ]
  },
  {
   "cell_type": "markdown",
   "metadata": {},
   "source": [
    "#### Lexicon-based Tagger - Unigram Tagger"
   ]
  },
  {
   "cell_type": "code",
   "execution_count": 48,
   "metadata": {},
   "outputs": [
    {
     "name": "stdout",
     "output_type": "stream",
     "text": [
      "Accuracy of Unigram Tagger backed by Rule-based tagger = 0.9418232706917233\n"
     ]
    }
   ],
   "source": [
    "#lexicon based - Unigram Tagger with rule-based as backoff\n",
    "lexicon_unigram_tagger = nltk.UnigramTagger(train_set, backoff=rule_based_tagger)\n",
    "lexicon_unigram_accuracy = lexicon_unigram_tagger.evaluate(test_set)\n",
    "print(\"Accuracy of Unigram Tagger backed by Rule-based tagger =\",lexicon_unigram_accuracy)"
   ]
  },
  {
   "cell_type": "markdown",
   "metadata": {},
   "source": [
    "**NLTK Unigram tagger is able to produce accuracy of *94.2%* with rule based tagger as backoff.**\n",
    "\n",
    "Let's see how bigram lexicon tagger performs with backoff set to Unigram"
   ]
  },
  {
   "cell_type": "markdown",
   "metadata": {},
   "source": [
    "#### Lexicon-based Tagger -  Bigram Tagger"
   ]
  },
  {
   "cell_type": "code",
   "execution_count": 49,
   "metadata": {},
   "outputs": [
    {
     "name": "stdout",
     "output_type": "stream",
     "text": [
      "Accuracy of Bigram Tagger backed by rule-based tagger = 0.9094362255097961\n"
     ]
    }
   ],
   "source": [
    "#Bigram tagger with unigram as backoff\n",
    "lexicon_bigram_tagger = nltk.BigramTagger(train_set, backoff=rule_based_tagger)\n",
    "lexicon_bigram_acuuracy = lexicon_bigram_tagger.evaluate(test_set)\n",
    "print(\"Accuracy of Bigram Tagger backed by rule-based tagger =\",lexicon_bigram_acuuracy)"
   ]
  },
  {
   "cell_type": "markdown",
   "metadata": {},
   "source": [
    "Accuracy degrades after using Bigram Tagger instead of Unigram tagger. As Bigram tagger is focussed on pair of words, while Unigram is focussed on a single word. In our case, we need to deal with single words to identify their tags\n",
    "\n",
    "**NLTK Bigram tagger is able to produce accuracy of *90.5%* with rule-based as backoff.**\n",
    "\n",
    "So going forward, we will use Unigram tagger coupled with Rule based tagger. As we are dealing with single word Unigram tagger would be helful here\n",
    "\n",
    "But let's check for a sample word before proceeding with Unigram Tagger"
   ]
  },
  {
   "cell_type": "code",
   "execution_count": 50,
   "metadata": {},
   "outputs": [
    {
     "name": "stdout",
     "output_type": "stream",
     "text": [
      "Sample unknown word is:  ['ambiguity']\n",
      "Sample unknown tag is:  ['NOUN']\n"
     ]
    }
   ],
   "source": [
    "#Sample check\n",
    "unknown_word = [tup[0] for sent in lexicon_unigram_tagger.tag_sents([[('ambiguity')]]) for tup in sent]\n",
    "unknown_tag = [tup[1] for sent in lexicon_unigram_tagger.tag_sents([[('ambiguity')]]) for tup in sent]\n",
    "print(\"Sample unknown word is: \",unknown_word)\n",
    "print(\"Sample unknown tag is: \",unknown_tag)"
   ]
  },
  {
   "cell_type": "code",
   "execution_count": 51,
   "metadata": {},
   "outputs": [
    {
     "data": {
      "text/plain": [
       "[('ambiguity', 'NOUN')]"
      ]
     },
     "execution_count": 51,
     "metadata": {},
     "output_type": "execute_result"
    }
   ],
   "source": [
    "lexicon_unigram_tagger.tag(['ambiguity'])"
   ]
  },
  {
   "cell_type": "markdown",
   "metadata": {},
   "source": [
    "Works fine!"
   ]
  },
  {
   "cell_type": "markdown",
   "metadata": {},
   "source": [
    "#### Let's now couple rule-based and lexicon based tagger with modified Viterbi and see which gives better accuracies\n",
    "\n",
    "Functions-\n",
    "- Viterbi_coupled_with_lexicon_taggers()\n",
    "- Viterbi_coupled_with_rule_based_taggers()"
   ]
  },
  {
   "cell_type": "code",
   "execution_count": 52,
   "metadata": {},
   "outputs": [],
   "source": [
    "#Viterbi + Lexicon\n",
    "def Viterbi_coupled_with_lexicon_taggers(words, train_bag = train_tagged_words):\n",
    "    state = []\n",
    "    T = list(set([pair[1] for pair in train_bag]))\n",
    "    \n",
    "    for key, word in enumerate(words):\n",
    "        #initialise list of probability column for a given observation\n",
    "        p = [] \n",
    "        for tag in T:\n",
    "            if key == 0:\n",
    "                transition_p = tags_df.loc['.', tag]\n",
    "            else:\n",
    "                transition_p = tags_df.loc[state[-1], tag]\n",
    "                \n",
    "            # compute emission and state probabilities\n",
    "            emission_p = word_given_tag(words[key], tag)[0]/word_given_tag(words[key], tag)[1]\n",
    "            state_probability = emission_p * transition_p    \n",
    "            p.append(state_probability)\n",
    "            \n",
    "        pmax = max(p)\n",
    "        #assigning POS tags as rule based one\n",
    "        state_max = lexicon_unigram_tagger.tag([word])[0][1]       \n",
    "       \n",
    "        #for Other/Foreign words and words with state_proba= 0 assigning rule based tag\n",
    "        if((pmax==0) or (state_max=='X')):\n",
    "            state_max = lexicon_unigram_tagger.tag([word])[0][1] # assign based on rule based tagger\n",
    "        else:\n",
    "            state_max = T[p.index(pmax)]                \n",
    "            \n",
    "        \n",
    "        state.append(state_max)\n",
    "    return list(zip(words, state))"
   ]
  },
  {
   "cell_type": "markdown",
   "metadata": {},
   "source": [
    "### Evaluating Modified Viterbi + Lexicon based tagger on validation set"
   ]
  },
  {
   "cell_type": "code",
   "execution_count": 53,
   "metadata": {},
   "outputs": [
    {
     "name": "stdout",
     "output_type": "stream",
     "text": [
      "Time taken for Viterbi_coupled_with_lexicon_taggers 659.4022822380066\n"
     ]
    }
   ],
   "source": [
    "# tagging the test sentences\n",
    "\n",
    "start = time.time()\n",
    "#Commenting Viterbi_Mod2_tagged_seq as we'll pickle this object\n",
    "#Viterbi_Mod2_Lexicon_tagged_seq = Viterbi_coupled_with_lexicon_taggers(test_set_words)\n",
    "end = time.time()\n",
    "difference = end-start\n",
    "\n",
    "print('Time taken for Viterbi_coupled_with_lexicon_taggers', difference)"
   ]
  },
  {
   "cell_type": "code",
   "execution_count": 54,
   "metadata": {},
   "outputs": [
    {
     "data": {
      "text/plain": [
       "['Viterbi_Mod2_Lexicon_tagged_seq.sav']"
      ]
     },
     "execution_count": 54,
     "metadata": {},
     "output_type": "execute_result"
    }
   ],
   "source": [
    "#Saving Viterbi Mod 2 tagged seq in local\n",
    "import pickle\n",
    "filename_Viterbi_Lexicon = 'Viterbi_Mod2_Lexicon_tagged_seq.sav'\n",
    "joblib.dump(Viterbi_Mod2_Lexicon_tagged_seq, filename_Viterbi_Lexicon)"
   ]
  },
  {
   "cell_type": "code",
   "execution_count": 55,
   "metadata": {},
   "outputs": [],
   "source": [
    "#load back Viterbi Mod 1\n",
    "Viterbi_Mod2_Lexicon_tagged_seq = joblib.load(filename_Viterbi_Lexicon)"
   ]
  },
  {
   "cell_type": "code",
   "execution_count": 56,
   "metadata": {},
   "outputs": [],
   "source": [
    "# accuracy\n",
    "check = [i for i, j in zip(Viterbi_Mod2_Lexicon_tagged_seq, test_set_tag_words_pair) if i == j]"
   ]
  },
  {
   "cell_type": "code",
   "execution_count": 57,
   "metadata": {},
   "outputs": [
    {
     "name": "stdout",
     "output_type": "stream",
     "text": [
      "Accuracy of 2nd Modified Viterbi Technique =  0.9468212714914035\n"
     ]
    }
   ],
   "source": [
    "viterbi_lexicon_accuracy = len(check)/len(Viterbi_Mod2_Lexicon_tagged_seq)\n",
    "print('Accuracy of 2nd Modified Viterbi Technique = ',viterbi_lexicon_accuracy)"
   ]
  },
  {
   "cell_type": "code",
   "execution_count": 58,
   "metadata": {},
   "outputs": [],
   "source": [
    "#incorrect tag sequences in 1st Modified Viterbi Algorithm\n",
    "\n",
    "incorrect_tagged_cases_Viterbi_Mod2 = [[test_set_tag_words_pair[i-1],j] for i, j in enumerate(zip(Viterbi_Mod2_Lexicon_tagged_seq, test_set_tag_words_pair)) if j[0]!=j[1]]"
   ]
  },
  {
   "cell_type": "code",
   "execution_count": 59,
   "metadata": {},
   "outputs": [
    {
     "name": "stdout",
     "output_type": "stream",
     "text": [
      "Count of incorrectly tagged words are= 266\n"
     ]
    }
   ],
   "source": [
    "print('Count of incorrectly tagged words are=',(len(incorrect_tagged_cases_Viterbi_Mod2)))"
   ]
  },
  {
   "cell_type": "code",
   "execution_count": 60,
   "metadata": {
    "scrolled": true
   },
   "outputs": [
    {
     "data": {
      "text/plain": [
       "[[('print', 'VERB'), (('hither', 'NOUN'), ('hither', 'ADV'))],\n",
       " [('to', 'PRT'), (('yon', 'NOUN'), ('yon', 'ADV'))],\n",
       " [('almost', 'ADV'), (('single-handed', 'NOUN'), ('single-handed', 'ADJ'))],\n",
       " [('way', 'NOUN'), (('sanctions', 'NOUN'), ('sanctions', 'VERB'))],\n",
       " [('the', 'DET'), (('dismal', 'NOUN'), ('dismal', 'ADJ'))],\n",
       " [('*-1', 'X'), (('unwilling', 'NOUN'), ('unwilling', 'ADJ'))],\n",
       " [('*', 'X'), (('removing', 'NOUN'), ('removing', 'VERB'))],\n",
       " [('*', 'X'), (('safeguarding', 'NOUN'), ('safeguarding', 'VERB'))],\n",
       " [('*T*-1', 'X'), (('co-founded', 'NOUN'), ('co-founded', 'VERB'))],\n",
       " [(',', '.'), (('Mo.-based', 'NOUN'), ('Mo.-based', 'ADJ'))],\n",
       " [('a', 'DET'), (('five-year', 'NOUN'), ('five-year', 'ADJ'))],\n",
       " [('backers', 'NOUN'), (('fielded', 'NOUN'), ('fielded', 'VERB'))],\n",
       " [('The', 'DET'), (('preferred', 'ADJ'), ('preferred', 'VERB'))],\n",
       " [('each', 'DET'), (('preferred', 'ADJ'), ('preferred', 'VERB'))],\n",
       " [('could', 'VERB'), (('intimidate', 'NOUN'), ('intimidate', 'VERB'))],\n",
       " [('*-1', 'X'), (('uttering', 'NOUN'), ('uttering', 'VERB'))],\n",
       " [('``', '.'), (('Provided', 'NOUN'), ('Provided', 'VERB'))],\n",
       " [(',', '.'), (('that', 'DET'), ('that', 'ADP'))],\n",
       " [('that', 'ADP'), (('no', 'ADV'), ('no', 'DET'))],\n",
       " [('``', '.'), (('evolved', 'NOUN'), ('evolved', 'VERB'))],\n",
       " [('evolved', 'VERB'), (('out', 'PRT'), ('out', 'ADP'))],\n",
       " [('ad', 'NOUN'), (('charges', 'NOUN'), ('charges', 'VERB'))],\n",
       " [('to', 'PRT'), (('report', 'NOUN'), ('report', 'VERB'))],\n",
       " [('contributions', 'NOUN'), (('accurately', 'NOUN'), ('accurately', 'ADV'))],\n",
       " [(',', '.'), (('hid', 'NOUN'), ('hid', 'VERB'))],\n",
       " [('a', 'DET'), (('phony', 'NOUN'), ('phony', 'ADJ'))],\n",
       " [('``', '.'), (('Funny', 'NOUN'), ('Funny', 'ADJ'))],\n",
       " [('of', 'ADP'), (('worries', 'VERB'), ('worries', 'NOUN'))],\n",
       " [('keeping', 'VERB'), (('closer', 'ADV'), ('closer', 'ADJ'))],\n",
       " [('booklets', 'NOUN'), (('next', 'ADP'), ('next', 'ADJ'))],\n",
       " [(':', '.'), (('Against', 'NOUN'), ('Against', 'ADP'))],\n",
       " [('Monticello', 'NOUN'),\n",
       "  (('superimposed', 'NOUN'), ('superimposed', 'VERB'))],\n",
       " [('announcer', 'NOUN'), (('talks', 'NOUN'), ('talks', 'VERB'))],\n",
       " [(\"''\", '.'), (('that', 'DET'), ('that', 'ADP'))],\n",
       " [('have', 'VERB'), (('nurtured', 'NOUN'), ('nurtured', 'VERB'))],\n",
       " [('relatively', 'ADV'), (('level', 'NOUN'), ('level', 'ADJ'))],\n",
       " [('to', 'PRT'), (('halve', 'NOUN'), ('halve', 'VERB'))],\n",
       " [('the', 'DET'), (('third-highest', 'NOUN'), ('third-highest', 'ADJ'))],\n",
       " [('creation', 'NOUN'), (('that', 'ADP'), ('that', 'DET'))],\n",
       " [('*T*-2', 'X'), (('mandates', 'NOUN'), ('mandates', 'VERB'))],\n",
       " [('*-1', 'X'), (('noncompetitively', 'NOUN'), ('noncompetitively', 'ADV'))],\n",
       " [('``', '.'), (('The', 'DET'), ('The', 'NOUN'))],\n",
       " [('Ill', 'NOUN'), (('Homeless', 'ADJ'), ('Homeless', 'NOUN'))],\n",
       " [('colleagues', 'NOUN'), (('that', 'ADP'), ('that', 'DET'))],\n",
       " [('the', 'DET'), (('American', 'ADJ'), ('American', 'NOUN'))],\n",
       " [('passion', 'NOUN'), (('that', 'ADP'), ('that', 'DET'))],\n",
       " [('that', 'DET'), (('*T*-227', 'NOUN'), ('*T*-227', 'X'))],\n",
       " [('usually', 'ADV'), (('stays', 'NOUN'), ('stays', 'VERB'))],\n",
       " [('generally', 'ADV'), (('applaud', 'NOUN'), ('applaud', 'VERB'))],\n",
       " [('The', 'DET'), (('loudest', 'NOUN'), ('loudest', 'ADJ'))],\n",
       " [('who', 'PRON'), (('*T*-77', 'NOUN'), ('*T*-77', 'X'))],\n",
       " [('*T*-77', 'X'), (('cater', 'NOUN'), ('cater', 'VERB'))],\n",
       " [('initial', 'ADJ'), (('public', 'NOUN'), ('public', 'ADJ'))],\n",
       " [('*', 'X'), (('prosecuting', 'NOUN'), ('prosecuting', 'VERB'))],\n",
       " [(\"n't\", 'ADV'), (('enough', 'ADV'), ('enough', 'ADJ'))],\n",
       " [('ring', 'VERB'), (('more', 'ADV'), ('more', 'ADJ'))],\n",
       " [(\"'s\", 'PRT'), (('face', 'VERB'), ('face', 'NOUN'))],\n",
       " [('--', '.'), (('in', 'ADP'), ('in', 'NOUN'))],\n",
       " [('to', 'PRT'), (('contest', 'NOUN'), ('contest', 'VERB'))],\n",
       " [('to', 'PRT'), (('mend', 'NOUN'), ('mend', 'VERB'))],\n",
       " [('which', 'DET'), (('*T*-244', 'NOUN'), ('*T*-244', 'X'))],\n",
       " [('have', 'VERB'), (('deteriorated', 'NOUN'), ('deteriorated', 'VERB'))],\n",
       " [('been', 'VERB'), (('quietly', 'NOUN'), ('quietly', 'ADV'))],\n",
       " [('to', 'PRT'), (('tinker', 'NOUN'), ('tinker', 'VERB'))],\n",
       " [(',', '.'), (('traced', 'NOUN'), ('traced', 'VERB'))],\n",
       " [('.', '.'), (('Fourteen', 'NOUN'), ('Fourteen', 'NUM'))],\n",
       " [(',', '.'), (('old-style', 'NOUN'), ('old-style', 'ADJ'))],\n",
       " [('funds', 'NOUN'), (('that', 'ADP'), ('that', 'DET'))],\n",
       " [('to', 'PRT'), (('juggle', 'NOUN'), ('juggle', 'VERB'))],\n",
       " [('portfolios', 'NOUN'), (('so', 'ADV'), ('so', 'ADP'))],\n",
       " [('they', 'PRON'), (('mirror', 'NOUN'), ('mirror', 'VERB'))],\n",
       " [('two', 'NUM'), (('round-trip', 'NOUN'), ('round-trip', 'ADJ'))],\n",
       " [('or', 'CONJ'), (('more', 'ADJ'), ('more', 'ADV'))],\n",
       " [('must', 'VERB'), (('notify', 'NOUN'), ('notify', 'VERB'))],\n",
       " [('*-1', 'X'), (('completing', 'NOUN'), ('completing', 'VERB'))],\n",
       " [('.', '.'), (('Note', 'NOUN'), ('Note', 'VERB'))],\n",
       " [('All', 'DET'), (('per-share', 'NOUN'), ('per-share', 'ADJ'))],\n",
       " [('said', 'VERB'), (('that', 'ADP'), ('that', 'DET'))],\n",
       " [('that', 'DET'), (('full-year', 'NOUN'), ('full-year', 'ADJ'))],\n",
       " [('this', 'DET'), (('one', 'NUM'), ('one', 'NOUN'))],\n",
       " [('How', 'ADV'), ((\"'s\", 'PRT'), (\"'s\", 'VERB'))],\n",
       " [('*-1', 'X'), (('Observing', 'NOUN'), ('Observing', 'VERB'))],\n",
       " [('never', 'ADV'), (('exhibited', 'NOUN'), ('exhibited', 'VERB'))],\n",
       " [('be', 'VERB'), (('impartial', 'NOUN'), ('impartial', 'ADJ'))],\n",
       " [('a', 'DET'), (('homosexual', 'ADJ'), ('homosexual', 'NOUN'))],\n",
       " [('who', 'PRON'), (('*T*-242', 'NOUN'), ('*T*-242', 'X'))],\n",
       " [('*', 'X'), (('ordering', 'NOUN'), ('ordering', 'VERB'))],\n",
       " [('went', 'VERB'), (('down', 'ADV'), ('down', 'ADP'))],\n",
       " [('The', 'DET'), (('multilevel', 'NOUN'), ('multilevel', 'ADJ'))],\n",
       " [('what', 'PRON'), (('exactly', 'NOUN'), ('exactly', 'ADV'))],\n",
       " [('exactly', 'ADV'), (('*T*-188', 'NOUN'), ('*T*-188', 'X'))],\n",
       " [('a', 'DET'), (('principal', 'NOUN'), ('principal', 'ADJ'))],\n",
       " [('he', 'PRON'), (('meets', 'NOUN'), ('meets', 'VERB'))],\n",
       " [('a', 'DET'), (('solicitous', 'NOUN'), ('solicitous', 'ADJ'))],\n",
       " [('solicitous', 'ADJ'), (('Christian', 'NOUN'), ('Christian', 'ADJ'))],\n",
       " [(',', '.'), (('roughhewn', 'NOUN'), ('roughhewn', 'ADJ'))],\n",
       " [('roughhewn', 'ADJ'), (('figure', 'VERB'), ('figure', 'NOUN'))],\n",
       " [('*T*-56', 'X'), (('wears', 'NOUN'), ('wears', 'VERB'))],\n",
       " [('--', '.'), (('a', 'DET'), ('a', 'ADJ'))],\n",
       " [('transacting', 'VERB'), (('principal', 'NOUN'), ('principal', 'ADJ'))],\n",
       " [('has', 'VERB'), (('hunted', 'NOUN'), ('hunted', 'VERB'))],\n",
       " [('.', '.'), (('Average', 'NOUN'), ('Average', 'ADJ'))],\n",
       " [('to', 'PRT'), (('swap', 'NOUN'), ('swap', 'VERB'))],\n",
       " [('*-2', 'X'), (('exerting', 'NOUN'), ('exerting', 'VERB'))],\n",
       " [('legislation', 'NOUN'), (('that', 'ADP'), ('that', 'DET'))],\n",
       " [('attorney', 'NOUN'), (('general', 'ADJ'), ('general', 'NOUN'))],\n",
       " [('to', 'PRT'), (('shake', 'NOUN'), ('shake', 'VERB'))],\n",
       " [(\"'s\", 'PRT'), (('support', 'VERB'), ('support', 'NOUN'))],\n",
       " [('the', 'DET'), (('very', 'ADV'), ('very', 'ADJ'))],\n",
       " [('who', 'PRON'), (('*T*-77', 'NOUN'), ('*T*-77', 'X'))],\n",
       " [('was', 'VERB'), (('awful', 'NOUN'), ('awful', 'ADJ'))],\n",
       " [('widely', 'ADV'), (('used', 'VERB'), ('used', 'ADJ'))],\n",
       " [('the', 'DET'), (('Roman', 'NOUN'), ('Roman', 'ADJ'))],\n",
       " [('numeral', 'NOUN'), (('IX', 'NOUN'), ('IX', 'NUM'))],\n",
       " [('company', 'NOUN'), (('that', 'ADP'), ('that', 'DET'))],\n",
       " [('that', 'DET'), (('*T*-146', 'NOUN'), ('*T*-146', 'X'))],\n",
       " [('which', 'DET'), (('*T*-134', 'NOUN'), ('*T*-134', 'X'))],\n",
       " [('guild', 'NOUN'),\n",
       "  (('collective-bargaining', 'NOUN'), ('collective-bargaining', 'ADJ'))],\n",
       " [('questions', 'NOUN'), (('range', 'NOUN'), ('range', 'VERB'))],\n",
       " [('divisions', 'NOUN'), (('that', 'ADP'), ('that', 'DET'))],\n",
       " [(\"n't\", 'ADV'), (('wish', 'VERB'), ('wish', 'NOUN'))],\n",
       " [('the', 'DET'), (('underlying', 'ADJ'), ('underlying', 'VERB'))],\n",
       " [('their', 'PRON'), (('views', 'VERB'), ('views', 'NOUN'))],\n",
       " [('*', 'X'), (('smothering', 'NOUN'), ('smothering', 'VERB'))],\n",
       " [('is', 'VERB'), (('heating', 'NOUN'), ('heating', 'VERB'))],\n",
       " [('rate', 'NOUN'), (('capped', 'VERB'), ('capped', 'ADJ'))],\n",
       " [('would', 'VERB'), (('trail', 'NOUN'), ('trail', 'VERB'))],\n",
       " [('--', '.'), (('Generally', 'NOUN'), ('Generally', 'ADV'))],\n",
       " [('employs', 'VERB'), (('quantitive', 'NOUN'), ('quantitive', 'ADJ'))],\n",
       " [('just', 'ADV'), (('drift', 'NOUN'), ('drift', 'VERB'))],\n",
       " [('II', 'NOUN'), (('lend-lease', 'NOUN'), ('lend-lease', 'ADJ'))],\n",
       " [('the', 'DET'), (('pre-1933', 'NOUN'), ('pre-1933', 'ADJ'))],\n",
       " [('the', 'DET'), (('key', 'ADJ'), ('key', 'NOUN'))],\n",
       " [('*', 'X'), (('satisfying', 'NOUN'), ('satisfying', 'VERB'))],\n",
       " [(',', '.'), (('yet', 'ADV'), ('yet', 'CONJ'))],\n",
       " [('yet', 'CONJ'), (('close', 'VERB'), ('close', 'ADV'))],\n",
       " [('their', 'PRON'), (('biannual', 'NOUN'), ('biannual', 'ADJ'))],\n",
       " [('typically', 'ADV'), (('jet', 'NOUN'), ('jet', 'VERB'))],\n",
       " [('the', 'DET'), (('sunny', 'NOUN'), ('sunny', 'ADJ'))],\n",
       " [('and', 'CONJ'), (('Hot', 'ADJ'), ('Hot', 'NOUN'))],\n",
       " [('*EXP*-1', 'X'), ((\"'s\", 'PRT'), (\"'s\", 'VERB'))],\n",
       " [('a', 'DET'), (('17-year-old', 'NOUN'), ('17-year-old', 'ADJ'))],\n",
       " [('are', 'VERB'), (('all', 'DET'), ('all', 'ADV'))],\n",
       " [('return', 'NOUN'), (('measures', 'NOUN'), ('measures', 'VERB'))],\n",
       " [(\"''\", '.'), (('evolve', 'NOUN'), ('evolve', 'VERB'))],\n",
       " [('creature', 'NOUN'), (('that', 'ADP'), ('that', 'DET'))],\n",
       " [('is', 'VERB'), (('evoking', 'NOUN'), ('evoking', 'VERB'))],\n",
       " [(',', '.'), (('as', 'ADP'), ('as', 'ADV'))],\n",
       " [('as', 'ADV'), (('long', 'ADJ'), ('long', 'ADV'))],\n",
       " [('investors', 'NOUN'), (('spooked', 'NOUN'), ('spooked', 'VERB'))],\n",
       " [('activity', 'NOUN'), (('varied', 'NOUN'), ('varied', 'VERB'))],\n",
       " [('.', '.'), (('So', 'ADV'), ('So', 'ADP'))],\n",
       " [('to', 'PRT'), (('entice', 'NOUN'), ('entice', 'VERB'))],\n",
       " [('*', 'X'), (('negotiating', 'NOUN'), ('negotiating', 'VERB'))],\n",
       " [('to', 'PRT'), (('acknowledge', 'NOUN'), ('acknowledge', 'VERB'))],\n",
       " [('acknowledge', 'VERB'), (('that', 'ADP'), ('that', 'DET'))],\n",
       " [('and', 'CONJ'), (('welcome', 'NOUN'), ('welcome', 'VERB'))],\n",
       " [('daily', 'ADJ'), (('permissible', 'NOUN'), ('permissible', 'ADJ'))],\n",
       " [('showed', 'VERB'), (('near-limit', 'NOUN'), ('near-limit', 'ADJ'))],\n",
       " [('firms', 'NOUN'), (('that', 'ADP'), ('that', 'DET'))],\n",
       " [('that', 'DET'), (('*T*-154', 'NOUN'), ('*T*-154', 'X'))],\n",
       " [('spend', 'VERB'), (('much', 'ADV'), ('much', 'ADJ'))],\n",
       " [('be', 'VERB'), (('relied', 'NOUN'), ('relied', 'VERB'))],\n",
       " [('prices', 'NOUN'), (('that', 'ADP'), ('that', 'DET'))],\n",
       " [('partly', 'ADV'), (('cushioned', 'NOUN'), ('cushioned', 'VERB'))],\n",
       " [('grain', 'NOUN'), (('buying', 'VERB'), ('buying', 'NOUN'))],\n",
       " [('*U*', 'X'), (('charge', 'VERB'), ('charge', 'NOUN'))],\n",
       " [('.', '.'), (('b', 'NOUN'), ('b', 'X'))],\n",
       " [('big', 'ADJ'), (('insider-trading', 'NOUN'), ('insider-trading', 'ADJ'))],\n",
       " [('China', 'NOUN'), (('pulled', 'NOUN'), ('pulled', 'VERB'))],\n",
       " [('pulled', 'VERB'), (('out', 'PRT'), ('out', 'ADP'))],\n",
       " [('costs', 'NOUN'), (('as', 'ADP'), ('as', 'ADV'))],\n",
       " [('a', 'DET'), (('more', 'ADJ'), ('more', 'ADV'))],\n",
       " [('.', '.'), (('Such', 'ADJ'), ('Such', 'DET'))],\n",
       " [('view', 'NOUN'), (('perpetuates', 'NOUN'), ('perpetuates', 'VERB'))],\n",
       " [('an', 'DET'), (('insidious', 'NOUN'), ('insidious', 'ADJ'))],\n",
       " [(',', '.'), (('stereotyped', 'NOUN'), ('stereotyped', 'ADJ'))],\n",
       " [('in', 'ADP'), (('stock-index', 'ADJ'), ('stock-index', 'NOUN'))],\n",
       " [('keep', 'VERB'), (('up', 'ADV'), ('up', 'PRT'))],\n",
       " [('was', 'VERB'), (('untrained', 'NOUN'), ('untrained', 'ADJ'))],\n",
       " [('one', 'NUM'), (('botched', 'NOUN'), ('botched', 'ADJ'))],\n",
       " [('are', 'VERB'), (('akin', 'NOUN'), ('akin', 'ADJ'))],\n",
       " [('Buyers', 'NOUN'), (('welcome', 'NOUN'), ('welcome', 'VERB'))],\n",
       " [('sellers', 'NOUN'), (('please', 'NOUN'), ('please', 'VERB'))],\n",
       " [(\"''\", '.'), (('Rekindled', 'NOUN'), ('Rekindled', 'VERB'))],\n",
       " [('Rekindled', 'VERB'), (('hope', 'VERB'), ('hope', 'NOUN'))],\n",
       " [('in', 'ADP'), (('lackluster', 'NOUN'), ('lackluster', 'ADJ'))],\n",
       " [('.', '.'), (('Test-preparation', 'NOUN'), ('Test-preparation', 'ADJ'))],\n",
       " [('prohibits', 'VERB'), (('voluntary', 'NOUN'), ('voluntary', 'ADJ'))],\n",
       " [('in', 'ADP'), (('East', 'NOUN'), ('East', 'ADJ'))],\n",
       " [('third', 'ADJ'),\n",
       "  (('stock-manipulation', 'NOUN'), ('stock-manipulation', 'ADJ'))],\n",
       " [('raised', 'VERB'), (('*-111', 'NOUN'), ('*-111', 'X'))],\n",
       " [('and', 'CONJ'), (('five-year', 'NOUN'), ('five-year', 'ADJ'))],\n",
       " [('for', 'ADP'),\n",
       "  (('computer-system-design', 'NOUN'), ('computer-system-design', 'ADJ'))],\n",
       " [('chief', 'NOUN'), (('operating', 'NOUN'), ('operating', 'VERB'))],\n",
       " [('considered', 'VERB'), (('*-77', 'NOUN'), ('*-77', 'X'))],\n",
       " [('pickers', 'NOUN'), (('scream', 'NOUN'), ('scream', 'VERB'))],\n",
       " [('markets', 'NOUN'), (('decline', 'NOUN'), ('decline', 'VERB'))],\n",
       " [('*-3', 'X'), (('hailing', 'NOUN'), ('hailing', 'VERB'))],\n",
       " [('still', 'ADV'), (('abounding', 'NOUN'), ('abounding', 'VERB'))],\n",
       " [('price', 'NOUN'), (('as', 'ADP'), ('as', 'ADV'))],\n",
       " [('Beauty', 'NOUN'), (('Takes', 'NOUN'), ('Takes', 'VERB'))],\n",
       " [('a', 'DET'), (('third-quarter', 'NOUN'), ('third-quarter', 'ADJ'))],\n",
       " [('*U*', 'X'), (('pretax', 'NOUN'), ('pretax', 'ADJ'))],\n",
       " [('mostly', 'ADV'), (('related', 'VERB'), ('related', 'ADJ'))],\n",
       " [('home', 'NOUN'), (('financing', 'NOUN'), ('financing', 'VERB'))],\n",
       " [('*', 'X'), (('trading', 'NOUN'), ('trading', 'VERB'))],\n",
       " [('receiving', 'VERB'), (('end', 'VERB'), ('end', 'NOUN'))],\n",
       " [('with', 'ADP'), (('lesser', 'NOUN'), ('lesser', 'ADJ'))],\n",
       " [('travel', 'NOUN'), (('prompts', 'NOUN'), ('prompts', 'VERB'))],\n",
       " [('set', 'VERB'), (('up', 'ADV'), ('up', 'PRT'))],\n",
       " [('a', 'DET'), (('bilingual', 'NOUN'), ('bilingual', 'ADJ'))],\n",
       " [('year', 'NOUN'), (('earlier', 'ADV'), ('earlier', 'ADJ'))],\n",
       " [(',', '.'), (('51-year-old', 'NOUN'), ('51-year-old', 'ADJ'))],\n",
       " [('who', 'PRON'), (('*T*-161', 'NOUN'), ('*T*-161', 'X'))],\n",
       " [('is', 'VERB'), (('retiring', 'NOUN'), ('retiring', 'VERB'))],\n",
       " [('100', 'NUM'), (('criminal', 'ADJ'), ('criminal', 'NOUN'))],\n",
       " [('the', 'DET'), (('organized', 'VERB'), ('organized', 'ADJ'))],\n",
       " [('organized', 'ADJ'), (('bar', 'VERB'), ('bar', 'NOUN'))],\n",
       " [('who', 'PRON'), (('*T*-125', 'NOUN'), ('*T*-125', 'X'))],\n",
       " [('is', 'VERB'), (('protected', 'NOUN'), ('protected', 'VERB'))],\n",
       " [('An', 'DET'), (('Egyptian', 'NOUN'), ('Egyptian', 'ADJ'))],\n",
       " [('have', 'VERB'), (('justified', 'NOUN'), ('justified', 'VERB'))],\n",
       " [('pyramids', 'NOUN'), (('any', 'DET'), ('any', 'ADV'))],\n",
       " [('any', 'ADV'), (('better', 'ADJ'), ('better', 'ADV'))],\n",
       " [('The', 'DET'), (('heated', 'VERB'), ('heated', 'ADJ'))],\n",
       " [('heated', 'ADJ'), (('talk', 'VERB'), ('talk', 'NOUN'))],\n",
       " [('talk', 'NOUN'), (('stirred', 'NOUN'), ('stirred', 'VERB'))],\n",
       " [('covered', 'VERB'), (('*-116', 'NOUN'), ('*-116', 'X'))],\n",
       " [('and', 'CONJ'), (('struggled', 'NOUN'), ('struggled', 'VERB'))],\n",
       " [('worked', 'VERB'), (('14-hour', 'NOUN'), ('14-hour', 'ADJ'))],\n",
       " [('and', 'CONJ'), (('fast', 'ADJ'), ('fast', 'ADV'))],\n",
       " [('to', 'PRT'), (('log', 'NOUN'), ('log', 'VERB'))],\n",
       " [('higher', 'ADJ'), (('start-up', 'NOUN'), ('start-up', 'ADJ'))],\n",
       " [('a', 'DET'), (('softer', 'NOUN'), ('softer', 'ADJ'))],\n",
       " [('what', 'PRON'), (('*T*-170', 'NOUN'), ('*T*-170', 'X'))],\n",
       " [('what', 'PRON'), (('*T*-171', 'NOUN'), ('*T*-171', 'X'))],\n",
       " [('forced', 'VERB'), (('*-100', 'NOUN'), ('*-100', 'X'))],\n",
       " [('often', 'ADV'), (('more', 'ADJ'), ('more', 'ADV'))],\n",
       " [('were', 'VERB'), (('undergoing', 'NOUN'), ('undergoing', 'VERB'))],\n",
       " [('a', 'DET'), (('post-hearing', 'NOUN'), ('post-hearing', 'ADJ'))],\n",
       " [('who', 'PRON'), (('*T*-214', 'NOUN'), ('*T*-214', 'X'))],\n",
       " [('be', 'VERB'), (('comfortable', 'NOUN'), ('comfortable', 'ADJ'))],\n",
       " [('be', 'VERB'), (('centralized', 'NOUN'), ('centralized', 'VERB'))],\n",
       " [('to', 'PRT'), (('test', 'NOUN'), ('test', 'VERB'))],\n",
       " [('pegged', 'VERB'), (('*-164', 'NOUN'), ('*-164', 'X'))],\n",
       " [('be', 'VERB'), (('less', 'ADV'), ('less', 'ADJ'))],\n",
       " [('factory', 'NOUN'), (('pay', 'VERB'), ('pay', 'NOUN'))],\n",
       " [('River', 'NOUN'), (('sank', 'NOUN'), ('sank', 'VERB'))],\n",
       " [('temporarily', 'ADV'), (('alleviate', 'NOUN'), ('alleviate', 'VERB'))],\n",
       " [('to', 'PRT'), (('offend', 'NOUN'), ('offend', 'VERB'))],\n",
       " [('Hahn', 'NOUN'), (('skipped', 'NOUN'), ('skipped', 'VERB'))],\n",
       " [('achieve', 'VERB'), (('near-record', 'NOUN'), ('near-record', 'ADJ'))],\n",
       " [('For', 'ADP'), (('American', 'ADJ'), ('American', 'NOUN'))],\n",
       " [('to', 'PRT'), (('broaden', 'NOUN'), ('broaden', 'VERB'))],\n",
       " [('men', 'NOUN'), (('exuded', 'NOUN'), ('exuded', 'VERB'))],\n",
       " [('were', 'VERB'), (('delayed', 'NOUN'), ('delayed', 'VERB'))],\n",
       " [('bureaucracy', 'NOUN'), (('as', 'ADP'), ('as', 'ADV'))],\n",
       " [(\"'s\", 'PRT'), (('tricky', 'NOUN'), ('tricky', 'ADJ'))],\n",
       " [(',', '.'), (('unproven', 'NOUN'), ('unproven', 'ADJ'))],\n",
       " [('Florio', 'NOUN'), ((\"'s\", 'PRT'), (\"'s\", 'VERB'))],\n",
       " [('goes', 'VERB'), (('on', 'ADP'), ('on', 'PRT'))],\n",
       " [(\"'s\", 'PRT'), (('land', 'VERB'), ('land', 'NOUN'))],\n",
       " [('was', 'VERB'), (('cleaned', 'NOUN'), ('cleaned', 'VERB'))],\n",
       " [('a', 'DET'), (('civil', 'NOUN'), ('civil', 'ADJ'))],\n",
       " [('and', 'CONJ'), (('pitting', 'NOUN'), ('pitting', 'VERB'))]]"
      ]
     },
     "execution_count": 60,
     "metadata": {},
     "output_type": "execute_result"
    }
   ],
   "source": [
    "incorrect_tagged_cases_Viterbi_Mod2"
   ]
  },
  {
   "cell_type": "code",
   "execution_count": 61,
   "metadata": {},
   "outputs": [],
   "source": [
    "#Viterbi + Rule_based\n",
    "def Viterbi_coupled_with_rule_based_taggers(words, train_bag = train_tagged_words):\n",
    "    state = []\n",
    "    T = list(set([pair[1] for pair in train_bag]))\n",
    "    \n",
    "    for key, word in enumerate(words):\n",
    "        #initialise list of probability column for a given observation\n",
    "        p = [] \n",
    "        for tag in T:\n",
    "            if key == 0:\n",
    "                transition_p = tags_df.loc['.', tag]\n",
    "            else:\n",
    "                transition_p = tags_df.loc[state[-1], tag]\n",
    "                \n",
    "            # compute emission and state probabilities\n",
    "            emission_p = word_given_tag(words[key], tag)[0]/word_given_tag(words[key], tag)[1]\n",
    "            state_probability = emission_p * transition_p    \n",
    "            p.append(state_probability)\n",
    "            \n",
    "        pmax = max(p)\n",
    "        #assigning POS tags as rule based one\n",
    "        state_max = rule_based_tagger.tag([word])[0][1]       \n",
    "       \n",
    "        #for Other/Foreign words and words with state_proba= 0 assigning rule based tag\n",
    "        if((pmax==0) or (state_max=='X')):\n",
    "            state_max = rule_based_tagger.tag([word])[0][1] # assign based on rule based tagger\n",
    "        else:\n",
    "            state_max = T[p.index(pmax)]                \n",
    "            \n",
    "        \n",
    "        state.append(state_max)\n",
    "    return list(zip(words, state))"
   ]
  },
  {
   "cell_type": "markdown",
   "metadata": {},
   "source": [
    "### Evaluating Modified Viterbi + Rule based tagger on validation set"
   ]
  },
  {
   "cell_type": "code",
   "execution_count": 62,
   "metadata": {},
   "outputs": [
    {
     "name": "stdout",
     "output_type": "stream",
     "text": [
      "Time taken for Viterbi_coupled_with_rule_based_taggers 655.5344219207764\n"
     ]
    }
   ],
   "source": [
    "# tagging the test sentences\n",
    "\n",
    "start = time.time()\n",
    "#Commenting Viterbi_Mod2_tagged_seq as we'll pickle this object\n",
    "#Viterbi_Mod2_Rule_based_tagged_seq = Viterbi_coupled_with_rule_based_taggers(test_set_words)\n",
    "end = time.time()\n",
    "difference = end-start\n",
    "\n",
    "print('Time taken for Viterbi_coupled_with_rule_based_taggers', difference)"
   ]
  },
  {
   "cell_type": "code",
   "execution_count": 63,
   "metadata": {},
   "outputs": [
    {
     "data": {
      "text/plain": [
       "['Viterbi_Mod2_Rule_based_tagged_seq.sav']"
      ]
     },
     "execution_count": 63,
     "metadata": {},
     "output_type": "execute_result"
    }
   ],
   "source": [
    "#Saving Viterbi Mod 2 tagged seq in local\n",
    "import pickle\n",
    "filename_Viterbi_rule_based = 'Viterbi_Mod2_Rule_based_tagged_seq.sav'\n",
    "joblib.dump(Viterbi_Mod2_Rule_based_tagged_seq, filename_Viterbi_rule_based)"
   ]
  },
  {
   "cell_type": "code",
   "execution_count": 64,
   "metadata": {},
   "outputs": [],
   "source": [
    "#load back Viterbi Mod 1\n",
    "Viterbi_Mod2_Rule_based_tagged_seq = joblib.load(filename_Viterbi_rule_based)"
   ]
  },
  {
   "cell_type": "code",
   "execution_count": 65,
   "metadata": {},
   "outputs": [],
   "source": [
    "# accuracy\n",
    "check = [i for i, j in zip(Viterbi_Mod2_Rule_based_tagged_seq, test_set_tag_words_pair) if i == j]"
   ]
  },
  {
   "cell_type": "code",
   "execution_count": 66,
   "metadata": {},
   "outputs": [
    {
     "name": "stdout",
     "output_type": "stream",
     "text": [
      "Accuracy of 2nd Modified Viterbi Technique =  0.9468212714914035\n"
     ]
    }
   ],
   "source": [
    "viterbi_rule_based_accuracy = len(check)/len(Viterbi_Mod2_Rule_based_tagged_seq)\n",
    "print('Accuracy of 2nd Modified Viterbi Technique = ',viterbi_rule_based_accuracy)"
   ]
  },
  {
   "cell_type": "code",
   "execution_count": 67,
   "metadata": {},
   "outputs": [],
   "source": [
    "#incorrect tag sequences in 1st Modified Viterbi Algorithm\n",
    "\n",
    "incorrect_tagged_cases_Viterbi_Mod2_rule = [[test_set_tag_words_pair[i-1],j] for i, j in enumerate(zip(Viterbi_Mod2_Rule_based_tagged_seq, test_set_tag_words_pair)) if j[0]!=j[1]]"
   ]
  },
  {
   "cell_type": "code",
   "execution_count": 68,
   "metadata": {},
   "outputs": [
    {
     "name": "stdout",
     "output_type": "stream",
     "text": [
      "Count of incorrectly tagged words are= 266\n"
     ]
    }
   ],
   "source": [
    "print('Count of incorrectly tagged words are=',(len(incorrect_tagged_cases_Viterbi_Mod2_rule)))"
   ]
  },
  {
   "cell_type": "code",
   "execution_count": 69,
   "metadata": {
    "scrolled": true
   },
   "outputs": [
    {
     "data": {
      "text/plain": [
       "[[('print', 'VERB'), (('hither', 'NOUN'), ('hither', 'ADV'))],\n",
       " [('to', 'PRT'), (('yon', 'NOUN'), ('yon', 'ADV'))],\n",
       " [('almost', 'ADV'), (('single-handed', 'NOUN'), ('single-handed', 'ADJ'))],\n",
       " [('way', 'NOUN'), (('sanctions', 'NOUN'), ('sanctions', 'VERB'))],\n",
       " [('the', 'DET'), (('dismal', 'NOUN'), ('dismal', 'ADJ'))],\n",
       " [('*-1', 'X'), (('unwilling', 'NOUN'), ('unwilling', 'ADJ'))],\n",
       " [('*', 'X'), (('removing', 'NOUN'), ('removing', 'VERB'))],\n",
       " [('*', 'X'), (('safeguarding', 'NOUN'), ('safeguarding', 'VERB'))],\n",
       " [('*T*-1', 'X'), (('co-founded', 'NOUN'), ('co-founded', 'VERB'))],\n",
       " [(',', '.'), (('Mo.-based', 'NOUN'), ('Mo.-based', 'ADJ'))],\n",
       " [('a', 'DET'), (('five-year', 'NOUN'), ('five-year', 'ADJ'))],\n",
       " [('backers', 'NOUN'), (('fielded', 'NOUN'), ('fielded', 'VERB'))],\n",
       " [('The', 'DET'), (('preferred', 'ADJ'), ('preferred', 'VERB'))],\n",
       " [('each', 'DET'), (('preferred', 'ADJ'), ('preferred', 'VERB'))],\n",
       " [('could', 'VERB'), (('intimidate', 'NOUN'), ('intimidate', 'VERB'))],\n",
       " [('*-1', 'X'), (('uttering', 'NOUN'), ('uttering', 'VERB'))],\n",
       " [('``', '.'), (('Provided', 'NOUN'), ('Provided', 'VERB'))],\n",
       " [(',', '.'), (('that', 'DET'), ('that', 'ADP'))],\n",
       " [('that', 'ADP'), (('no', 'ADV'), ('no', 'DET'))],\n",
       " [('``', '.'), (('evolved', 'NOUN'), ('evolved', 'VERB'))],\n",
       " [('evolved', 'VERB'), (('out', 'PRT'), ('out', 'ADP'))],\n",
       " [('ad', 'NOUN'), (('charges', 'NOUN'), ('charges', 'VERB'))],\n",
       " [('to', 'PRT'), (('report', 'NOUN'), ('report', 'VERB'))],\n",
       " [('contributions', 'NOUN'), (('accurately', 'NOUN'), ('accurately', 'ADV'))],\n",
       " [(',', '.'), (('hid', 'NOUN'), ('hid', 'VERB'))],\n",
       " [('a', 'DET'), (('phony', 'NOUN'), ('phony', 'ADJ'))],\n",
       " [('``', '.'), (('Funny', 'NOUN'), ('Funny', 'ADJ'))],\n",
       " [('of', 'ADP'), (('worries', 'VERB'), ('worries', 'NOUN'))],\n",
       " [('keeping', 'VERB'), (('closer', 'ADV'), ('closer', 'ADJ'))],\n",
       " [('booklets', 'NOUN'), (('next', 'ADP'), ('next', 'ADJ'))],\n",
       " [(':', '.'), (('Against', 'NOUN'), ('Against', 'ADP'))],\n",
       " [('Monticello', 'NOUN'),\n",
       "  (('superimposed', 'NOUN'), ('superimposed', 'VERB'))],\n",
       " [('announcer', 'NOUN'), (('talks', 'NOUN'), ('talks', 'VERB'))],\n",
       " [(\"''\", '.'), (('that', 'DET'), ('that', 'ADP'))],\n",
       " [('have', 'VERB'), (('nurtured', 'NOUN'), ('nurtured', 'VERB'))],\n",
       " [('relatively', 'ADV'), (('level', 'NOUN'), ('level', 'ADJ'))],\n",
       " [('to', 'PRT'), (('halve', 'NOUN'), ('halve', 'VERB'))],\n",
       " [('the', 'DET'), (('third-highest', 'NOUN'), ('third-highest', 'ADJ'))],\n",
       " [('creation', 'NOUN'), (('that', 'ADP'), ('that', 'DET'))],\n",
       " [('*T*-2', 'X'), (('mandates', 'NOUN'), ('mandates', 'VERB'))],\n",
       " [('*-1', 'X'), (('noncompetitively', 'NOUN'), ('noncompetitively', 'ADV'))],\n",
       " [('``', '.'), (('The', 'DET'), ('The', 'NOUN'))],\n",
       " [('Ill', 'NOUN'), (('Homeless', 'ADJ'), ('Homeless', 'NOUN'))],\n",
       " [('colleagues', 'NOUN'), (('that', 'ADP'), ('that', 'DET'))],\n",
       " [('the', 'DET'), (('American', 'ADJ'), ('American', 'NOUN'))],\n",
       " [('passion', 'NOUN'), (('that', 'ADP'), ('that', 'DET'))],\n",
       " [('that', 'DET'), (('*T*-227', 'NOUN'), ('*T*-227', 'X'))],\n",
       " [('usually', 'ADV'), (('stays', 'NOUN'), ('stays', 'VERB'))],\n",
       " [('generally', 'ADV'), (('applaud', 'NOUN'), ('applaud', 'VERB'))],\n",
       " [('The', 'DET'), (('loudest', 'NOUN'), ('loudest', 'ADJ'))],\n",
       " [('who', 'PRON'), (('*T*-77', 'NOUN'), ('*T*-77', 'X'))],\n",
       " [('*T*-77', 'X'), (('cater', 'NOUN'), ('cater', 'VERB'))],\n",
       " [('initial', 'ADJ'), (('public', 'NOUN'), ('public', 'ADJ'))],\n",
       " [('*', 'X'), (('prosecuting', 'NOUN'), ('prosecuting', 'VERB'))],\n",
       " [(\"n't\", 'ADV'), (('enough', 'ADV'), ('enough', 'ADJ'))],\n",
       " [('ring', 'VERB'), (('more', 'ADV'), ('more', 'ADJ'))],\n",
       " [(\"'s\", 'PRT'), (('face', 'VERB'), ('face', 'NOUN'))],\n",
       " [('--', '.'), (('in', 'ADP'), ('in', 'NOUN'))],\n",
       " [('to', 'PRT'), (('contest', 'NOUN'), ('contest', 'VERB'))],\n",
       " [('to', 'PRT'), (('mend', 'NOUN'), ('mend', 'VERB'))],\n",
       " [('which', 'DET'), (('*T*-244', 'NOUN'), ('*T*-244', 'X'))],\n",
       " [('have', 'VERB'), (('deteriorated', 'NOUN'), ('deteriorated', 'VERB'))],\n",
       " [('been', 'VERB'), (('quietly', 'NOUN'), ('quietly', 'ADV'))],\n",
       " [('to', 'PRT'), (('tinker', 'NOUN'), ('tinker', 'VERB'))],\n",
       " [(',', '.'), (('traced', 'NOUN'), ('traced', 'VERB'))],\n",
       " [('.', '.'), (('Fourteen', 'NOUN'), ('Fourteen', 'NUM'))],\n",
       " [(',', '.'), (('old-style', 'NOUN'), ('old-style', 'ADJ'))],\n",
       " [('funds', 'NOUN'), (('that', 'ADP'), ('that', 'DET'))],\n",
       " [('to', 'PRT'), (('juggle', 'NOUN'), ('juggle', 'VERB'))],\n",
       " [('portfolios', 'NOUN'), (('so', 'ADV'), ('so', 'ADP'))],\n",
       " [('they', 'PRON'), (('mirror', 'NOUN'), ('mirror', 'VERB'))],\n",
       " [('two', 'NUM'), (('round-trip', 'NOUN'), ('round-trip', 'ADJ'))],\n",
       " [('or', 'CONJ'), (('more', 'ADJ'), ('more', 'ADV'))],\n",
       " [('must', 'VERB'), (('notify', 'NOUN'), ('notify', 'VERB'))],\n",
       " [('*-1', 'X'), (('completing', 'NOUN'), ('completing', 'VERB'))],\n",
       " [('.', '.'), (('Note', 'NOUN'), ('Note', 'VERB'))],\n",
       " [('All', 'DET'), (('per-share', 'NOUN'), ('per-share', 'ADJ'))],\n",
       " [('said', 'VERB'), (('that', 'ADP'), ('that', 'DET'))],\n",
       " [('that', 'DET'), (('full-year', 'NOUN'), ('full-year', 'ADJ'))],\n",
       " [('this', 'DET'), (('one', 'NUM'), ('one', 'NOUN'))],\n",
       " [('How', 'ADV'), ((\"'s\", 'PRT'), (\"'s\", 'VERB'))],\n",
       " [('*-1', 'X'), (('Observing', 'NOUN'), ('Observing', 'VERB'))],\n",
       " [('never', 'ADV'), (('exhibited', 'NOUN'), ('exhibited', 'VERB'))],\n",
       " [('be', 'VERB'), (('impartial', 'NOUN'), ('impartial', 'ADJ'))],\n",
       " [('a', 'DET'), (('homosexual', 'ADJ'), ('homosexual', 'NOUN'))],\n",
       " [('who', 'PRON'), (('*T*-242', 'NOUN'), ('*T*-242', 'X'))],\n",
       " [('*', 'X'), (('ordering', 'NOUN'), ('ordering', 'VERB'))],\n",
       " [('went', 'VERB'), (('down', 'ADV'), ('down', 'ADP'))],\n",
       " [('The', 'DET'), (('multilevel', 'NOUN'), ('multilevel', 'ADJ'))],\n",
       " [('what', 'PRON'), (('exactly', 'NOUN'), ('exactly', 'ADV'))],\n",
       " [('exactly', 'ADV'), (('*T*-188', 'NOUN'), ('*T*-188', 'X'))],\n",
       " [('a', 'DET'), (('principal', 'NOUN'), ('principal', 'ADJ'))],\n",
       " [('he', 'PRON'), (('meets', 'NOUN'), ('meets', 'VERB'))],\n",
       " [('a', 'DET'), (('solicitous', 'NOUN'), ('solicitous', 'ADJ'))],\n",
       " [('solicitous', 'ADJ'), (('Christian', 'NOUN'), ('Christian', 'ADJ'))],\n",
       " [(',', '.'), (('roughhewn', 'NOUN'), ('roughhewn', 'ADJ'))],\n",
       " [('roughhewn', 'ADJ'), (('figure', 'VERB'), ('figure', 'NOUN'))],\n",
       " [('*T*-56', 'X'), (('wears', 'NOUN'), ('wears', 'VERB'))],\n",
       " [('--', '.'), (('a', 'DET'), ('a', 'ADJ'))],\n",
       " [('transacting', 'VERB'), (('principal', 'NOUN'), ('principal', 'ADJ'))],\n",
       " [('has', 'VERB'), (('hunted', 'NOUN'), ('hunted', 'VERB'))],\n",
       " [('.', '.'), (('Average', 'NOUN'), ('Average', 'ADJ'))],\n",
       " [('to', 'PRT'), (('swap', 'NOUN'), ('swap', 'VERB'))],\n",
       " [('*-2', 'X'), (('exerting', 'NOUN'), ('exerting', 'VERB'))],\n",
       " [('legislation', 'NOUN'), (('that', 'ADP'), ('that', 'DET'))],\n",
       " [('attorney', 'NOUN'), (('general', 'ADJ'), ('general', 'NOUN'))],\n",
       " [('to', 'PRT'), (('shake', 'NOUN'), ('shake', 'VERB'))],\n",
       " [(\"'s\", 'PRT'), (('support', 'VERB'), ('support', 'NOUN'))],\n",
       " [('the', 'DET'), (('very', 'ADV'), ('very', 'ADJ'))],\n",
       " [('who', 'PRON'), (('*T*-77', 'NOUN'), ('*T*-77', 'X'))],\n",
       " [('was', 'VERB'), (('awful', 'NOUN'), ('awful', 'ADJ'))],\n",
       " [('widely', 'ADV'), (('used', 'VERB'), ('used', 'ADJ'))],\n",
       " [('the', 'DET'), (('Roman', 'NOUN'), ('Roman', 'ADJ'))],\n",
       " [('numeral', 'NOUN'), (('IX', 'NOUN'), ('IX', 'NUM'))],\n",
       " [('company', 'NOUN'), (('that', 'ADP'), ('that', 'DET'))],\n",
       " [('that', 'DET'), (('*T*-146', 'NOUN'), ('*T*-146', 'X'))],\n",
       " [('which', 'DET'), (('*T*-134', 'NOUN'), ('*T*-134', 'X'))],\n",
       " [('guild', 'NOUN'),\n",
       "  (('collective-bargaining', 'NOUN'), ('collective-bargaining', 'ADJ'))],\n",
       " [('questions', 'NOUN'), (('range', 'NOUN'), ('range', 'VERB'))],\n",
       " [('divisions', 'NOUN'), (('that', 'ADP'), ('that', 'DET'))],\n",
       " [(\"n't\", 'ADV'), (('wish', 'VERB'), ('wish', 'NOUN'))],\n",
       " [('the', 'DET'), (('underlying', 'ADJ'), ('underlying', 'VERB'))],\n",
       " [('their', 'PRON'), (('views', 'VERB'), ('views', 'NOUN'))],\n",
       " [('*', 'X'), (('smothering', 'NOUN'), ('smothering', 'VERB'))],\n",
       " [('is', 'VERB'), (('heating', 'NOUN'), ('heating', 'VERB'))],\n",
       " [('rate', 'NOUN'), (('capped', 'VERB'), ('capped', 'ADJ'))],\n",
       " [('would', 'VERB'), (('trail', 'NOUN'), ('trail', 'VERB'))],\n",
       " [('--', '.'), (('Generally', 'NOUN'), ('Generally', 'ADV'))],\n",
       " [('employs', 'VERB'), (('quantitive', 'NOUN'), ('quantitive', 'ADJ'))],\n",
       " [('just', 'ADV'), (('drift', 'NOUN'), ('drift', 'VERB'))],\n",
       " [('II', 'NOUN'), (('lend-lease', 'NOUN'), ('lend-lease', 'ADJ'))],\n",
       " [('the', 'DET'), (('pre-1933', 'NOUN'), ('pre-1933', 'ADJ'))],\n",
       " [('the', 'DET'), (('key', 'ADJ'), ('key', 'NOUN'))],\n",
       " [('*', 'X'), (('satisfying', 'NOUN'), ('satisfying', 'VERB'))],\n",
       " [(',', '.'), (('yet', 'ADV'), ('yet', 'CONJ'))],\n",
       " [('yet', 'CONJ'), (('close', 'VERB'), ('close', 'ADV'))],\n",
       " [('their', 'PRON'), (('biannual', 'NOUN'), ('biannual', 'ADJ'))],\n",
       " [('typically', 'ADV'), (('jet', 'NOUN'), ('jet', 'VERB'))],\n",
       " [('the', 'DET'), (('sunny', 'NOUN'), ('sunny', 'ADJ'))],\n",
       " [('and', 'CONJ'), (('Hot', 'ADJ'), ('Hot', 'NOUN'))],\n",
       " [('*EXP*-1', 'X'), ((\"'s\", 'PRT'), (\"'s\", 'VERB'))],\n",
       " [('a', 'DET'), (('17-year-old', 'NOUN'), ('17-year-old', 'ADJ'))],\n",
       " [('are', 'VERB'), (('all', 'DET'), ('all', 'ADV'))],\n",
       " [('return', 'NOUN'), (('measures', 'NOUN'), ('measures', 'VERB'))],\n",
       " [(\"''\", '.'), (('evolve', 'NOUN'), ('evolve', 'VERB'))],\n",
       " [('creature', 'NOUN'), (('that', 'ADP'), ('that', 'DET'))],\n",
       " [('is', 'VERB'), (('evoking', 'NOUN'), ('evoking', 'VERB'))],\n",
       " [(',', '.'), (('as', 'ADP'), ('as', 'ADV'))],\n",
       " [('as', 'ADV'), (('long', 'ADJ'), ('long', 'ADV'))],\n",
       " [('investors', 'NOUN'), (('spooked', 'NOUN'), ('spooked', 'VERB'))],\n",
       " [('activity', 'NOUN'), (('varied', 'NOUN'), ('varied', 'VERB'))],\n",
       " [('.', '.'), (('So', 'ADV'), ('So', 'ADP'))],\n",
       " [('to', 'PRT'), (('entice', 'NOUN'), ('entice', 'VERB'))],\n",
       " [('*', 'X'), (('negotiating', 'NOUN'), ('negotiating', 'VERB'))],\n",
       " [('to', 'PRT'), (('acknowledge', 'NOUN'), ('acknowledge', 'VERB'))],\n",
       " [('acknowledge', 'VERB'), (('that', 'ADP'), ('that', 'DET'))],\n",
       " [('and', 'CONJ'), (('welcome', 'NOUN'), ('welcome', 'VERB'))],\n",
       " [('daily', 'ADJ'), (('permissible', 'NOUN'), ('permissible', 'ADJ'))],\n",
       " [('showed', 'VERB'), (('near-limit', 'NOUN'), ('near-limit', 'ADJ'))],\n",
       " [('firms', 'NOUN'), (('that', 'ADP'), ('that', 'DET'))],\n",
       " [('that', 'DET'), (('*T*-154', 'NOUN'), ('*T*-154', 'X'))],\n",
       " [('spend', 'VERB'), (('much', 'ADV'), ('much', 'ADJ'))],\n",
       " [('be', 'VERB'), (('relied', 'NOUN'), ('relied', 'VERB'))],\n",
       " [('prices', 'NOUN'), (('that', 'ADP'), ('that', 'DET'))],\n",
       " [('partly', 'ADV'), (('cushioned', 'NOUN'), ('cushioned', 'VERB'))],\n",
       " [('grain', 'NOUN'), (('buying', 'VERB'), ('buying', 'NOUN'))],\n",
       " [('*U*', 'X'), (('charge', 'VERB'), ('charge', 'NOUN'))],\n",
       " [('.', '.'), (('b', 'NOUN'), ('b', 'X'))],\n",
       " [('big', 'ADJ'), (('insider-trading', 'NOUN'), ('insider-trading', 'ADJ'))],\n",
       " [('China', 'NOUN'), (('pulled', 'NOUN'), ('pulled', 'VERB'))],\n",
       " [('pulled', 'VERB'), (('out', 'PRT'), ('out', 'ADP'))],\n",
       " [('costs', 'NOUN'), (('as', 'ADP'), ('as', 'ADV'))],\n",
       " [('a', 'DET'), (('more', 'ADJ'), ('more', 'ADV'))],\n",
       " [('.', '.'), (('Such', 'ADJ'), ('Such', 'DET'))],\n",
       " [('view', 'NOUN'), (('perpetuates', 'NOUN'), ('perpetuates', 'VERB'))],\n",
       " [('an', 'DET'), (('insidious', 'NOUN'), ('insidious', 'ADJ'))],\n",
       " [(',', '.'), (('stereotyped', 'NOUN'), ('stereotyped', 'ADJ'))],\n",
       " [('in', 'ADP'), (('stock-index', 'ADJ'), ('stock-index', 'NOUN'))],\n",
       " [('keep', 'VERB'), (('up', 'ADV'), ('up', 'PRT'))],\n",
       " [('was', 'VERB'), (('untrained', 'NOUN'), ('untrained', 'ADJ'))],\n",
       " [('one', 'NUM'), (('botched', 'NOUN'), ('botched', 'ADJ'))],\n",
       " [('are', 'VERB'), (('akin', 'NOUN'), ('akin', 'ADJ'))],\n",
       " [('Buyers', 'NOUN'), (('welcome', 'NOUN'), ('welcome', 'VERB'))],\n",
       " [('sellers', 'NOUN'), (('please', 'NOUN'), ('please', 'VERB'))],\n",
       " [(\"''\", '.'), (('Rekindled', 'NOUN'), ('Rekindled', 'VERB'))],\n",
       " [('Rekindled', 'VERB'), (('hope', 'VERB'), ('hope', 'NOUN'))],\n",
       " [('in', 'ADP'), (('lackluster', 'NOUN'), ('lackluster', 'ADJ'))],\n",
       " [('.', '.'), (('Test-preparation', 'NOUN'), ('Test-preparation', 'ADJ'))],\n",
       " [('prohibits', 'VERB'), (('voluntary', 'NOUN'), ('voluntary', 'ADJ'))],\n",
       " [('in', 'ADP'), (('East', 'NOUN'), ('East', 'ADJ'))],\n",
       " [('third', 'ADJ'),\n",
       "  (('stock-manipulation', 'NOUN'), ('stock-manipulation', 'ADJ'))],\n",
       " [('raised', 'VERB'), (('*-111', 'NOUN'), ('*-111', 'X'))],\n",
       " [('and', 'CONJ'), (('five-year', 'NOUN'), ('five-year', 'ADJ'))],\n",
       " [('for', 'ADP'),\n",
       "  (('computer-system-design', 'NOUN'), ('computer-system-design', 'ADJ'))],\n",
       " [('chief', 'NOUN'), (('operating', 'NOUN'), ('operating', 'VERB'))],\n",
       " [('considered', 'VERB'), (('*-77', 'NOUN'), ('*-77', 'X'))],\n",
       " [('pickers', 'NOUN'), (('scream', 'NOUN'), ('scream', 'VERB'))],\n",
       " [('markets', 'NOUN'), (('decline', 'NOUN'), ('decline', 'VERB'))],\n",
       " [('*-3', 'X'), (('hailing', 'NOUN'), ('hailing', 'VERB'))],\n",
       " [('still', 'ADV'), (('abounding', 'NOUN'), ('abounding', 'VERB'))],\n",
       " [('price', 'NOUN'), (('as', 'ADP'), ('as', 'ADV'))],\n",
       " [('Beauty', 'NOUN'), (('Takes', 'NOUN'), ('Takes', 'VERB'))],\n",
       " [('a', 'DET'), (('third-quarter', 'NOUN'), ('third-quarter', 'ADJ'))],\n",
       " [('*U*', 'X'), (('pretax', 'NOUN'), ('pretax', 'ADJ'))],\n",
       " [('mostly', 'ADV'), (('related', 'VERB'), ('related', 'ADJ'))],\n",
       " [('home', 'NOUN'), (('financing', 'NOUN'), ('financing', 'VERB'))],\n",
       " [('*', 'X'), (('trading', 'NOUN'), ('trading', 'VERB'))],\n",
       " [('receiving', 'VERB'), (('end', 'VERB'), ('end', 'NOUN'))],\n",
       " [('with', 'ADP'), (('lesser', 'NOUN'), ('lesser', 'ADJ'))],\n",
       " [('travel', 'NOUN'), (('prompts', 'NOUN'), ('prompts', 'VERB'))],\n",
       " [('set', 'VERB'), (('up', 'ADV'), ('up', 'PRT'))],\n",
       " [('a', 'DET'), (('bilingual', 'NOUN'), ('bilingual', 'ADJ'))],\n",
       " [('year', 'NOUN'), (('earlier', 'ADV'), ('earlier', 'ADJ'))],\n",
       " [(',', '.'), (('51-year-old', 'NOUN'), ('51-year-old', 'ADJ'))],\n",
       " [('who', 'PRON'), (('*T*-161', 'NOUN'), ('*T*-161', 'X'))],\n",
       " [('is', 'VERB'), (('retiring', 'NOUN'), ('retiring', 'VERB'))],\n",
       " [('100', 'NUM'), (('criminal', 'ADJ'), ('criminal', 'NOUN'))],\n",
       " [('the', 'DET'), (('organized', 'VERB'), ('organized', 'ADJ'))],\n",
       " [('organized', 'ADJ'), (('bar', 'VERB'), ('bar', 'NOUN'))],\n",
       " [('who', 'PRON'), (('*T*-125', 'NOUN'), ('*T*-125', 'X'))],\n",
       " [('is', 'VERB'), (('protected', 'NOUN'), ('protected', 'VERB'))],\n",
       " [('An', 'DET'), (('Egyptian', 'NOUN'), ('Egyptian', 'ADJ'))],\n",
       " [('have', 'VERB'), (('justified', 'NOUN'), ('justified', 'VERB'))],\n",
       " [('pyramids', 'NOUN'), (('any', 'DET'), ('any', 'ADV'))],\n",
       " [('any', 'ADV'), (('better', 'ADJ'), ('better', 'ADV'))],\n",
       " [('The', 'DET'), (('heated', 'VERB'), ('heated', 'ADJ'))],\n",
       " [('heated', 'ADJ'), (('talk', 'VERB'), ('talk', 'NOUN'))],\n",
       " [('talk', 'NOUN'), (('stirred', 'NOUN'), ('stirred', 'VERB'))],\n",
       " [('covered', 'VERB'), (('*-116', 'NOUN'), ('*-116', 'X'))],\n",
       " [('and', 'CONJ'), (('struggled', 'NOUN'), ('struggled', 'VERB'))],\n",
       " [('worked', 'VERB'), (('14-hour', 'NOUN'), ('14-hour', 'ADJ'))],\n",
       " [('and', 'CONJ'), (('fast', 'ADJ'), ('fast', 'ADV'))],\n",
       " [('to', 'PRT'), (('log', 'NOUN'), ('log', 'VERB'))],\n",
       " [('higher', 'ADJ'), (('start-up', 'NOUN'), ('start-up', 'ADJ'))],\n",
       " [('a', 'DET'), (('softer', 'NOUN'), ('softer', 'ADJ'))],\n",
       " [('what', 'PRON'), (('*T*-170', 'NOUN'), ('*T*-170', 'X'))],\n",
       " [('what', 'PRON'), (('*T*-171', 'NOUN'), ('*T*-171', 'X'))],\n",
       " [('forced', 'VERB'), (('*-100', 'NOUN'), ('*-100', 'X'))],\n",
       " [('often', 'ADV'), (('more', 'ADJ'), ('more', 'ADV'))],\n",
       " [('were', 'VERB'), (('undergoing', 'NOUN'), ('undergoing', 'VERB'))],\n",
       " [('a', 'DET'), (('post-hearing', 'NOUN'), ('post-hearing', 'ADJ'))],\n",
       " [('who', 'PRON'), (('*T*-214', 'NOUN'), ('*T*-214', 'X'))],\n",
       " [('be', 'VERB'), (('comfortable', 'NOUN'), ('comfortable', 'ADJ'))],\n",
       " [('be', 'VERB'), (('centralized', 'NOUN'), ('centralized', 'VERB'))],\n",
       " [('to', 'PRT'), (('test', 'NOUN'), ('test', 'VERB'))],\n",
       " [('pegged', 'VERB'), (('*-164', 'NOUN'), ('*-164', 'X'))],\n",
       " [('be', 'VERB'), (('less', 'ADV'), ('less', 'ADJ'))],\n",
       " [('factory', 'NOUN'), (('pay', 'VERB'), ('pay', 'NOUN'))],\n",
       " [('River', 'NOUN'), (('sank', 'NOUN'), ('sank', 'VERB'))],\n",
       " [('temporarily', 'ADV'), (('alleviate', 'NOUN'), ('alleviate', 'VERB'))],\n",
       " [('to', 'PRT'), (('offend', 'NOUN'), ('offend', 'VERB'))],\n",
       " [('Hahn', 'NOUN'), (('skipped', 'NOUN'), ('skipped', 'VERB'))],\n",
       " [('achieve', 'VERB'), (('near-record', 'NOUN'), ('near-record', 'ADJ'))],\n",
       " [('For', 'ADP'), (('American', 'ADJ'), ('American', 'NOUN'))],\n",
       " [('to', 'PRT'), (('broaden', 'NOUN'), ('broaden', 'VERB'))],\n",
       " [('men', 'NOUN'), (('exuded', 'NOUN'), ('exuded', 'VERB'))],\n",
       " [('were', 'VERB'), (('delayed', 'NOUN'), ('delayed', 'VERB'))],\n",
       " [('bureaucracy', 'NOUN'), (('as', 'ADP'), ('as', 'ADV'))],\n",
       " [(\"'s\", 'PRT'), (('tricky', 'NOUN'), ('tricky', 'ADJ'))],\n",
       " [(',', '.'), (('unproven', 'NOUN'), ('unproven', 'ADJ'))],\n",
       " [('Florio', 'NOUN'), ((\"'s\", 'PRT'), (\"'s\", 'VERB'))],\n",
       " [('goes', 'VERB'), (('on', 'ADP'), ('on', 'PRT'))],\n",
       " [(\"'s\", 'PRT'), (('land', 'VERB'), ('land', 'NOUN'))],\n",
       " [('was', 'VERB'), (('cleaned', 'NOUN'), ('cleaned', 'VERB'))],\n",
       " [('a', 'DET'), (('civil', 'NOUN'), ('civil', 'ADJ'))],\n",
       " [('and', 'CONJ'), (('pitting', 'NOUN'), ('pitting', 'VERB'))]]"
      ]
     },
     "execution_count": 69,
     "metadata": {},
     "output_type": "execute_result"
    }
   ],
   "source": [
    "incorrect_tagged_cases_Viterbi_Mod2_rule"
   ]
  },
  {
   "cell_type": "markdown",
   "metadata": {},
   "source": [
    "#### Comparision of overall tagging accuracies on validation data (test_set after splitting the dataset) for all models"
   ]
  },
  {
   "cell_type": "code",
   "execution_count": 70,
   "metadata": {},
   "outputs": [
    {
     "data": {
      "text/html": [
       "<div>\n",
       "<style scoped>\n",
       "    .dataframe tbody tr th:only-of-type {\n",
       "        vertical-align: middle;\n",
       "    }\n",
       "\n",
       "    .dataframe tbody tr th {\n",
       "        vertical-align: top;\n",
       "    }\n",
       "\n",
       "    .dataframe thead th {\n",
       "        text-align: right;\n",
       "    }\n",
       "</style>\n",
       "<table border=\"1\" class=\"dataframe\">\n",
       "  <thead>\n",
       "    <tr style=\"text-align: right;\">\n",
       "      <th></th>\n",
       "      <th>Models</th>\n",
       "      <th>Accuracy</th>\n",
       "    </tr>\n",
       "  </thead>\n",
       "  <tbody>\n",
       "    <tr>\n",
       "      <td>0</td>\n",
       "      <td>Vanilla viterbi</td>\n",
       "      <td>0.907037</td>\n",
       "    </tr>\n",
       "    <tr>\n",
       "      <td>1</td>\n",
       "      <td>Viterbi_to_handle_Unknown_Words</td>\n",
       "      <td>0.944022</td>\n",
       "    </tr>\n",
       "    <tr>\n",
       "      <td>2</td>\n",
       "      <td>Rule-based taggers</td>\n",
       "      <td>0.309076</td>\n",
       "    </tr>\n",
       "    <tr>\n",
       "      <td>3</td>\n",
       "      <td>Unigram coupled with Rule-based</td>\n",
       "      <td>0.941823</td>\n",
       "    </tr>\n",
       "    <tr>\n",
       "      <td>4</td>\n",
       "      <td>Bigram coupled with Rule-based</td>\n",
       "      <td>0.909436</td>\n",
       "    </tr>\n",
       "    <tr>\n",
       "      <td>5</td>\n",
       "      <td>Viterbi_coupled_with_lexicon_taggers</td>\n",
       "      <td>0.946821</td>\n",
       "    </tr>\n",
       "    <tr>\n",
       "      <td>6</td>\n",
       "      <td>Viterbi_coupled_with_rule_based_taggers</td>\n",
       "      <td>0.946821</td>\n",
       "    </tr>\n",
       "  </tbody>\n",
       "</table>\n",
       "</div>"
      ],
      "text/plain": [
       "                                    Models  Accuracy\n",
       "0                          Vanilla viterbi  0.907037\n",
       "1          Viterbi_to_handle_Unknown_Words  0.944022\n",
       "2                       Rule-based taggers  0.309076\n",
       "3          Unigram coupled with Rule-based  0.941823\n",
       "4           Bigram coupled with Rule-based  0.909436\n",
       "5     Viterbi_coupled_with_lexicon_taggers  0.946821\n",
       "6  Viterbi_coupled_with_rule_based_taggers  0.946821"
      ]
     },
     "execution_count": 70,
     "metadata": {},
     "output_type": "execute_result"
    }
   ],
   "source": [
    "training_tagging_accuracy = pd.DataFrame({'Models':['Vanilla viterbi',\n",
    "                                                   'Viterbi_to_handle_Unknown_Words',\n",
    "                                                   'Rule-based taggers',\n",
    "                                                   'Unigram coupled with Rule-based',\n",
    "                                                   'Bigram coupled with Rule-based',\n",
    "                                                   'Viterbi_coupled_with_lexicon_taggers',\n",
    "                                                   'Viterbi_coupled_with_rule_based_taggers'],\n",
    "                                        'Accuracy':[vanilla_viterbi_accuracy,\n",
    "                                                    laplace_smoothing_accuracy,\n",
    "                                                    rule_based_accuracy,\n",
    "                                                    lexicon_unigram_accuracy,\n",
    "                                                    lexicon_bigram_acuuracy,\n",
    "                                                    viterbi_lexicon_accuracy,\n",
    "                                                    viterbi_rule_based_accuracy]})\n",
    "\n",
    "training_tagging_accuracy"
   ]
  },
  {
   "cell_type": "markdown",
   "metadata": {},
   "source": [
    "**Viterbi_coupled_with_rule_based_taggers or Viterbi_coupled_with_lexicon_taggers** gives us the highest accuracy of **94.6%**"
   ]
  },
  {
   "cell_type": "markdown",
   "metadata": {},
   "source": [
    "## Evaluating tagging accuracy on provided Sample test data (Test_sentences.txt)"
   ]
  },
  {
   "cell_type": "code",
   "execution_count": 71,
   "metadata": {},
   "outputs": [
    {
     "data": {
      "text/html": [
       "<div>\n",
       "<style scoped>\n",
       "    .dataframe tbody tr th:only-of-type {\n",
       "        vertical-align: middle;\n",
       "    }\n",
       "\n",
       "    .dataframe tbody tr th {\n",
       "        vertical-align: top;\n",
       "    }\n",
       "\n",
       "    .dataframe thead th {\n",
       "        text-align: right;\n",
       "    }\n",
       "</style>\n",
       "<table border=\"1\" class=\"dataframe\">\n",
       "  <thead>\n",
       "    <tr style=\"text-align: right;\">\n",
       "      <th></th>\n",
       "      <th>Android is a mobile operating system developed by Google.</th>\n",
       "    </tr>\n",
       "  </thead>\n",
       "  <tbody>\n",
       "    <tr>\n",
       "      <td>0</td>\n",
       "      <td>Android has been the best-selling OS worldwide...</td>\n",
       "    </tr>\n",
       "    <tr>\n",
       "      <td>1</td>\n",
       "      <td>Google and Twitter made a deal in 2015 that ga...</td>\n",
       "    </tr>\n",
       "    <tr>\n",
       "      <td>2</td>\n",
       "      <td>Twitter is an online news and social networkin...</td>\n",
       "    </tr>\n",
       "    <tr>\n",
       "      <td>3</td>\n",
       "      <td>Before entering politics, Donald Trump was a d...</td>\n",
       "    </tr>\n",
       "    <tr>\n",
       "      <td>4</td>\n",
       "      <td>The 2018 FIFA World Cup is the 21st FIFA World...</td>\n",
       "    </tr>\n",
       "  </tbody>\n",
       "</table>\n",
       "</div>"
      ],
      "text/plain": [
       "  Android is a mobile operating system developed by Google.\n",
       "0  Android has been the best-selling OS worldwide...       \n",
       "1  Google and Twitter made a deal in 2015 that ga...       \n",
       "2  Twitter is an online news and social networkin...       \n",
       "3  Before entering politics, Donald Trump was a d...       \n",
       "4  The 2018 FIFA World Cup is the 21st FIFA World...       "
      ]
     },
     "execution_count": 71,
     "metadata": {},
     "output_type": "execute_result"
    }
   ],
   "source": [
    "test_sentences = pd.read_csv('Test_sentences.txt', sep='\\n', encoding = 'ANSI')\n",
    "test_sentences.head()"
   ]
  },
  {
   "cell_type": "code",
   "execution_count": 72,
   "metadata": {},
   "outputs": [],
   "source": [
    "test_sentences_list = test_sentences.values.tolist()\n",
    "\n",
    "#flatenning the list\n",
    "test_sentences_list = [sent for sublist in test_sentences_list for sent in sublist]"
   ]
  },
  {
   "cell_type": "code",
   "execution_count": 73,
   "metadata": {},
   "outputs": [
    {
     "data": {
      "text/plain": [
       "['Android has been the best-selling OS worldwide on smartphones since 2011 and on tablets since 2013.',\n",
       " \"Google and Twitter made a deal in 2015 that gave Google access to Twitter's firehose.\",\n",
       " 'Twitter is an online news and social networking service on which users post and interact with messages known as tweets.',\n",
       " 'Before entering politics, Donald Trump was a domineering businessman and a television personality.',\n",
       " 'The 2018 FIFA World Cup is the 21st FIFA World Cup, an international football tournament contested once every four years.',\n",
       " 'This is the first World Cup to be held in Eastern Europe and the 11th time that it has been held in Europe.',\n",
       " 'Show me the cheapest round trips from Dallas to Atlanta',\n",
       " 'I would like to see flights from Denver to Philadelphia.',\n",
       " 'Show me the price of the flights leaving Atlanta at about 3 in the afternoon and arriving in San Francisco.',\n",
       " 'NASA invited social media users to experience the launch of ICESAT-2 Satellite.']"
      ]
     },
     "execution_count": 73,
     "metadata": {},
     "output_type": "execute_result"
    }
   ],
   "source": [
    "test_sentences_list"
   ]
  },
  {
   "cell_type": "code",
   "execution_count": 74,
   "metadata": {},
   "outputs": [
    {
     "data": {
      "text/plain": [
       "\"Google and Twitter made a deal in 2015 that gave Google access to Twitter's firehose.\""
      ]
     },
     "execution_count": 74,
     "metadata": {},
     "output_type": "execute_result"
    }
   ],
   "source": [
    "test_sentences_list[1]"
   ]
  },
  {
   "cell_type": "code",
   "execution_count": 75,
   "metadata": {},
   "outputs": [
    {
     "data": {
      "text/plain": [
       "[[('Android', 'NOUN'),\n",
       "  ('has', 'VERB'),\n",
       "  ('been', 'VERB'),\n",
       "  ('the', 'DET'),\n",
       "  ('best-selling', 'ADJ'),\n",
       "  ('OS', 'NOUN'),\n",
       "  ('worldwide', 'NOUN'),\n",
       "  ('on', 'ADP'),\n",
       "  ('smartphones', 'NOUN'),\n",
       "  ('since', 'ADP'),\n",
       "  ('2011', 'NUM'),\n",
       "  ('and', 'CONJ'),\n",
       "  ('on', 'ADP'),\n",
       "  ('tablets', 'NOUN'),\n",
       "  ('since', 'ADP'),\n",
       "  ('2013', 'NUM'),\n",
       "  ('.', '.')],\n",
       " [('Google', 'NOUN'),\n",
       "  ('and', 'CONJ'),\n",
       "  ('Twitter', 'NOUN'),\n",
       "  ('made', 'VERB'),\n",
       "  ('a', 'DET'),\n",
       "  ('deal', 'NOUN'),\n",
       "  ('in', 'ADP'),\n",
       "  ('2015', 'NUM'),\n",
       "  ('that', 'DET'),\n",
       "  ('gave', 'VERB'),\n",
       "  ('Google', 'NOUN'),\n",
       "  ('access', 'NOUN'),\n",
       "  ('to', 'PRT'),\n",
       "  ('Twitter', 'NOUN'),\n",
       "  (\"'s\", 'PRT'),\n",
       "  ('firehose', 'NOUN'),\n",
       "  ('.', '.')],\n",
       " [('Twitter', 'NOUN'),\n",
       "  ('is', 'VERB'),\n",
       "  ('an', 'DET'),\n",
       "  ('online', 'ADJ'),\n",
       "  ('news', 'NOUN'),\n",
       "  ('and', 'CONJ'),\n",
       "  ('social', 'ADJ'),\n",
       "  ('networking', 'NOUN'),\n",
       "  ('service', 'NOUN'),\n",
       "  ('on', 'ADP'),\n",
       "  ('which', 'DET'),\n",
       "  ('users', 'NOUN'),\n",
       "  ('post', 'NOUN'),\n",
       "  ('and', 'CONJ'),\n",
       "  ('interact', 'NOUN'),\n",
       "  ('with', 'ADP'),\n",
       "  ('messages', 'NOUN'),\n",
       "  ('known', 'VERB'),\n",
       "  ('as', 'ADP'),\n",
       "  ('tweets', 'NOUN'),\n",
       "  ('.', '.')],\n",
       " [('Before', 'ADP'),\n",
       "  ('entering', 'VERB'),\n",
       "  ('politics', 'NOUN'),\n",
       "  (',', '.'),\n",
       "  ('Donald', 'NOUN'),\n",
       "  ('Trump', 'NOUN'),\n",
       "  ('was', 'VERB'),\n",
       "  ('a', 'DET'),\n",
       "  ('domineering', 'ADJ'),\n",
       "  ('businessman', 'NOUN'),\n",
       "  ('and', 'CONJ'),\n",
       "  ('a', 'DET'),\n",
       "  ('television', 'NOUN'),\n",
       "  ('personality', 'NOUN'),\n",
       "  ('.', '.')],\n",
       " [('The', 'DET'),\n",
       "  ('2018', 'NUM'),\n",
       "  ('FIFA', 'NOUN'),\n",
       "  ('World', 'NOUN'),\n",
       "  ('Cup', 'NOUN'),\n",
       "  ('is', 'VERB'),\n",
       "  ('the', 'DET'),\n",
       "  ('21st', 'NUM'),\n",
       "  ('FIFA', 'NOUN'),\n",
       "  ('World', 'NOUN'),\n",
       "  ('Cup', 'NOUN'),\n",
       "  (',', '.'),\n",
       "  ('an', 'DET'),\n",
       "  ('international', 'ADJ'),\n",
       "  ('football', 'NOUN'),\n",
       "  ('tournament', 'NOUN'),\n",
       "  ('contested', 'VERB'),\n",
       "  ('once', 'ADV'),\n",
       "  ('every', 'DET'),\n",
       "  ('four', 'NUM'),\n",
       "  ('years', 'NOUN'),\n",
       "  ('.', '.')],\n",
       " [('This', 'DET'),\n",
       "  ('is', 'VERB'),\n",
       "  ('the', 'DET'),\n",
       "  ('first', 'ADJ'),\n",
       "  ('World', 'NOUN'),\n",
       "  ('Cup', 'NOUN'),\n",
       "  ('to', 'PRT'),\n",
       "  ('be', 'VERB'),\n",
       "  ('held', 'VERB'),\n",
       "  ('in', 'ADP'),\n",
       "  ('Eastern', 'NOUN'),\n",
       "  ('Europe', 'NOUN'),\n",
       "  ('and', 'CONJ'),\n",
       "  ('the', 'DET'),\n",
       "  ('11th', 'NUM'),\n",
       "  ('time', 'NOUN'),\n",
       "  ('that', 'ADP'),\n",
       "  ('it', 'PRON'),\n",
       "  ('has', 'VERB'),\n",
       "  ('been', 'VERB'),\n",
       "  ('held', 'VERB'),\n",
       "  ('in', 'ADP'),\n",
       "  ('Europe', 'NOUN'),\n",
       "  ('.', '.')],\n",
       " [('Show', 'VERB'),\n",
       "  ('me', 'PRON'),\n",
       "  ('the', 'DET'),\n",
       "  ('cheapest', 'ADJ'),\n",
       "  ('round', 'NOUN'),\n",
       "  ('trips', 'NOUN'),\n",
       "  ('from', 'ADP'),\n",
       "  ('Dallas', 'NOUN'),\n",
       "  ('to', 'PRT'),\n",
       "  ('Atlanta', 'VERB')],\n",
       " [('I', 'PRON'),\n",
       "  ('would', 'VERB'),\n",
       "  ('like', 'VERB'),\n",
       "  ('to', 'PRT'),\n",
       "  ('see', 'VERB'),\n",
       "  ('flights', 'NOUN'),\n",
       "  ('from', 'ADP'),\n",
       "  ('Denver', 'NOUN'),\n",
       "  ('to', 'PRT'),\n",
       "  ('Philadelphia', 'NOUN'),\n",
       "  ('.', '.')],\n",
       " [('Show', 'VERB'),\n",
       "  ('me', 'PRON'),\n",
       "  ('the', 'DET'),\n",
       "  ('price', 'NOUN'),\n",
       "  ('of', 'ADP'),\n",
       "  ('the', 'DET'),\n",
       "  ('flights', 'NOUN'),\n",
       "  ('leaving', 'VERB'),\n",
       "  ('Atlanta', 'NOUN'),\n",
       "  ('at', 'ADP'),\n",
       "  ('about', 'ADV'),\n",
       "  ('3', 'NUM'),\n",
       "  ('in', 'ADP'),\n",
       "  ('the', 'DET'),\n",
       "  ('afternoon', 'NOUN'),\n",
       "  ('and', 'CONJ'),\n",
       "  ('arriving', 'NOUN'),\n",
       "  ('in', 'ADP'),\n",
       "  ('San', 'NOUN'),\n",
       "  ('Francisco', 'NOUN'),\n",
       "  ('.', '.')],\n",
       " [('NASA', 'NOUN'),\n",
       "  ('invited', 'VERB'),\n",
       "  ('social', 'ADJ'),\n",
       "  ('media', 'NOUN'),\n",
       "  ('users', 'NOUN'),\n",
       "  ('to', 'PRT'),\n",
       "  ('experience', 'VERB'),\n",
       "  ('the', 'DET'),\n",
       "  ('launch', 'NOUN'),\n",
       "  ('of', 'ADP'),\n",
       "  ('ICESAT-2', 'NOUN'),\n",
       "  ('Satellite', 'NOUN'),\n",
       "  ('.', '.')]]"
      ]
     },
     "execution_count": 75,
     "metadata": {},
     "output_type": "execute_result"
    }
   ],
   "source": [
    "sample_test_tokenized_words = [word_tokenize(sent) for sent in test_sentences_list]\n",
    "sample_test_pos_tags = nltk.pos_tag_sents(sample_test_tokenized_words, tagset = 'universal')\n",
    "sample_test_pos_tags"
   ]
  },
  {
   "cell_type": "code",
   "execution_count": 76,
   "metadata": {},
   "outputs": [],
   "source": [
    "# list of words in the sample test data provided\n",
    "sample_test_tag_words_pair = [tup[0] for sent in sample_test_pos_tags for tup in sent]\n",
    "\n",
    "# list of tags in the sample test data provided\n",
    "sample_test_set_words = [tup for sent in sample_test_pos_tags for tup in sent]"
   ]
  },
  {
   "cell_type": "code",
   "execution_count": 77,
   "metadata": {},
   "outputs": [
    {
     "data": {
      "text/plain": [
       "['Android',\n",
       " 'has',\n",
       " 'been',\n",
       " 'the',\n",
       " 'best-selling',\n",
       " 'OS',\n",
       " 'worldwide',\n",
       " 'on',\n",
       " 'smartphones',\n",
       " 'since',\n",
       " '2011',\n",
       " 'and',\n",
       " 'on',\n",
       " 'tablets',\n",
       " 'since',\n",
       " '2013']"
      ]
     },
     "execution_count": 77,
     "metadata": {},
     "output_type": "execute_result"
    }
   ],
   "source": [
    "sample_test_tag_words_pair[:16]"
   ]
  },
  {
   "cell_type": "markdown",
   "metadata": {},
   "source": [
    "# Model-wise tagging accuracies on provided Sample Test Data"
   ]
  },
  {
   "cell_type": "markdown",
   "metadata": {},
   "source": [
    "## Vanilla_Viterbi"
   ]
  },
  {
   "cell_type": "markdown",
   "metadata": {},
   "source": [
    "Run the model on test sample data"
   ]
  },
  {
   "cell_type": "code",
   "execution_count": 78,
   "metadata": {},
   "outputs": [
    {
     "name": "stdout",
     "output_type": "stream",
     "text": [
      "Time taken for Vanilla_Viterbi on sample test data set =  23.436336755752563\n"
     ]
    }
   ],
   "source": [
    "start = time.time()\n",
    "\n",
    "#fetching the tag sequence\n",
    "sample_test_tagged_seq1 = Vanilla_Viterbi(sample_test_tag_words_pair)\n",
    "end = time.time()\n",
    "difference = end-start\n",
    "\n",
    "print(\"Time taken for Vanilla_Viterbi on sample test data set = \",difference)"
   ]
  },
  {
   "cell_type": "markdown",
   "metadata": {},
   "source": [
    "Checking the accuracy"
   ]
  },
  {
   "cell_type": "code",
   "execution_count": 79,
   "metadata": {},
   "outputs": [
    {
     "name": "stdout",
     "output_type": "stream",
     "text": [
      "The accuracy of the Vanilla_Viterbi on the sample test data is = 0.7485380116959064\n"
     ]
    }
   ],
   "source": [
    "sample_test_data_check1 = [i for i, j in zip(sample_test_tagged_seq1, sample_test_set_words) if i == j]\n",
    "accuracy1 = len(sample_test_data_check1)/len(sample_test_tagged_seq1)\n",
    "\n",
    "print(\"The accuracy of the Vanilla_Viterbi on the sample test data is =\", accuracy1)"
   ]
  },
  {
   "cell_type": "markdown",
   "metadata": {},
   "source": [
    "## Viterbi_to_handle_Unknown_Words\n",
    "\n",
    "Emission probabilities of unknown words was resulting in 0. \n",
    "\n",
    "So we had applied Laplace Smoothing on Emission probability, such that the entire state_probability doesn't become 0\n"
   ]
  },
  {
   "cell_type": "markdown",
   "metadata": {},
   "source": [
    "Run the model on test sample data"
   ]
  },
  {
   "cell_type": "code",
   "execution_count": 80,
   "metadata": {},
   "outputs": [
    {
     "name": "stdout",
     "output_type": "stream",
     "text": [
      "Time taken for Viterbi_to_handle_Unknown_Words on sample test data set =  24.45863628387451\n"
     ]
    }
   ],
   "source": [
    "start = time.time()\n",
    "\n",
    "#fetching the tag sequence\n",
    "sample_test_tagged_seq2 = Viterbi_to_handle_Unknown_Words(sample_test_tag_words_pair)\n",
    "end = time.time()\n",
    "difference = end-start\n",
    "\n",
    "print(\"Time taken for Viterbi_to_handle_Unknown_Words on sample test data set = \",difference)"
   ]
  },
  {
   "cell_type": "markdown",
   "metadata": {},
   "source": [
    "Checking the accuracy"
   ]
  },
  {
   "cell_type": "code",
   "execution_count": 81,
   "metadata": {},
   "outputs": [
    {
     "name": "stdout",
     "output_type": "stream",
     "text": [
      "The accuracy of the Viterbi_to_handle_Unknown_Words on the sample test data is = 0.8830409356725146\n"
     ]
    }
   ],
   "source": [
    "sample_test_data_check2 = [i for i, j in zip(sample_test_tagged_seq2, sample_test_set_words) if i == j]\n",
    "accuracy2 = len(sample_test_data_check2)/len(sample_test_tagged_seq2)\n",
    "\n",
    "print(\"The accuracy of the Viterbi_to_handle_Unknown_Words on the sample test data is =\", accuracy2)"
   ]
  },
  {
   "cell_type": "markdown",
   "metadata": {},
   "source": [
    "## Viterbi_coupled_with_lexicon_taggers"
   ]
  },
  {
   "cell_type": "markdown",
   "metadata": {},
   "source": [
    "Run the model on test sample data"
   ]
  },
  {
   "cell_type": "code",
   "execution_count": 82,
   "metadata": {},
   "outputs": [
    {
     "name": "stdout",
     "output_type": "stream",
     "text": [
      "Time taken for Viterbi_coupled_with_lexicon_taggers on sample test data set =  22.58561110496521\n"
     ]
    }
   ],
   "source": [
    "start = time.time()\n",
    "\n",
    "#fetching the tag sequence\n",
    "sample_test_tagged_seq3 = Viterbi_coupled_with_lexicon_taggers(sample_test_tag_words_pair)\n",
    "end = time.time()\n",
    "difference = end-start\n",
    "\n",
    "print(\"Time taken for Viterbi_coupled_with_lexicon_taggers on sample test data set = \",difference)"
   ]
  },
  {
   "cell_type": "markdown",
   "metadata": {},
   "source": [
    "Checking the accuracy"
   ]
  },
  {
   "cell_type": "code",
   "execution_count": 83,
   "metadata": {},
   "outputs": [
    {
     "name": "stdout",
     "output_type": "stream",
     "text": [
      "The accuracy of the Viterbi_coupled_with_lexicon_taggers on the sample test data is = 0.9239766081871345\n"
     ]
    }
   ],
   "source": [
    "sample_test_data_check3 = [i for i, j in zip(sample_test_tagged_seq3, sample_test_set_words) if i == j]\n",
    "accuracy3 = len(sample_test_data_check3)/len(sample_test_tagged_seq3)\n",
    "\n",
    "print(\"The accuracy of the Viterbi_coupled_with_lexicon_taggers on the sample test data is =\", accuracy3)"
   ]
  },
  {
   "cell_type": "markdown",
   "metadata": {},
   "source": [
    "## Viterbi_coupled_with_rule_based_taggers"
   ]
  },
  {
   "cell_type": "markdown",
   "metadata": {},
   "source": [
    "Run the model on test sample data"
   ]
  },
  {
   "cell_type": "code",
   "execution_count": 84,
   "metadata": {},
   "outputs": [
    {
     "name": "stdout",
     "output_type": "stream",
     "text": [
      "Time taken for Viterbi_coupled_with_rule_based_taggers on sample test data set =  22.699273109436035\n"
     ]
    }
   ],
   "source": [
    "start = time.time()\n",
    "\n",
    "#fetching the tag sequence\n",
    "sample_test_tagged_seq4 = Viterbi_coupled_with_rule_based_taggers(sample_test_tag_words_pair)\n",
    "end = time.time()\n",
    "difference = end-start\n",
    "\n",
    "print(\"Time taken for Viterbi_coupled_with_rule_based_taggers on sample test data set = \",difference)"
   ]
  },
  {
   "cell_type": "markdown",
   "metadata": {},
   "source": [
    "Checking the accuracy"
   ]
  },
  {
   "cell_type": "code",
   "execution_count": 85,
   "metadata": {},
   "outputs": [
    {
     "name": "stdout",
     "output_type": "stream",
     "text": [
      "The accuracy of the Viterbi_coupled_with_rule_based_taggers on the sample test data is = 0.9239766081871345\n"
     ]
    }
   ],
   "source": [
    "sample_test_data_check4 = [i for i, j in zip(sample_test_tagged_seq4, sample_test_set_words) if i == j]\n",
    "accuracy4 = len(sample_test_data_check4)/len(sample_test_tagged_seq4)\n",
    "\n",
    "print(\"The accuracy of the Viterbi_coupled_with_rule_based_taggers on the sample test data is =\", accuracy4)"
   ]
  },
  {
   "cell_type": "markdown",
   "metadata": {},
   "source": [
    "### Compare the tagging accuracies of the modifications with the vanilla Viterbi algorithm"
   ]
  },
  {
   "cell_type": "code",
   "execution_count": 86,
   "metadata": {},
   "outputs": [
    {
     "data": {
      "text/html": [
       "<div>\n",
       "<style scoped>\n",
       "    .dataframe tbody tr th:only-of-type {\n",
       "        vertical-align: middle;\n",
       "    }\n",
       "\n",
       "    .dataframe tbody tr th {\n",
       "        vertical-align: top;\n",
       "    }\n",
       "\n",
       "    .dataframe thead th {\n",
       "        text-align: right;\n",
       "    }\n",
       "</style>\n",
       "<table border=\"1\" class=\"dataframe\">\n",
       "  <thead>\n",
       "    <tr style=\"text-align: right;\">\n",
       "      <th></th>\n",
       "      <th>Models</th>\n",
       "      <th>Accuracy</th>\n",
       "    </tr>\n",
       "  </thead>\n",
       "  <tbody>\n",
       "    <tr>\n",
       "      <td>0</td>\n",
       "      <td>Vanilla viterbi</td>\n",
       "      <td>0.748538</td>\n",
       "    </tr>\n",
       "    <tr>\n",
       "      <td>1</td>\n",
       "      <td>Viterbi_to_handle_Unknown_Words</td>\n",
       "      <td>0.883041</td>\n",
       "    </tr>\n",
       "    <tr>\n",
       "      <td>2</td>\n",
       "      <td>Viterbi_coupled_with_lexicon_taggers</td>\n",
       "      <td>0.923977</td>\n",
       "    </tr>\n",
       "    <tr>\n",
       "      <td>3</td>\n",
       "      <td>Viterbi_coupled_with_rule_based_taggers</td>\n",
       "      <td>0.923977</td>\n",
       "    </tr>\n",
       "  </tbody>\n",
       "</table>\n",
       "</div>"
      ],
      "text/plain": [
       "                                    Models  Accuracy\n",
       "0                          Vanilla viterbi  0.748538\n",
       "1          Viterbi_to_handle_Unknown_Words  0.883041\n",
       "2     Viterbi_coupled_with_lexicon_taggers  0.923977\n",
       "3  Viterbi_coupled_with_rule_based_taggers  0.923977"
      ]
     },
     "execution_count": 86,
     "metadata": {},
     "output_type": "execute_result"
    }
   ],
   "source": [
    "testing_tagging_accuracy = pd.DataFrame({'Models':['Vanilla viterbi',\n",
    "                                                   'Viterbi_to_handle_Unknown_Words',\n",
    "                                                   'Viterbi_coupled_with_lexicon_taggers',\n",
    "                                                   'Viterbi_coupled_with_rule_based_taggers'],\n",
    "                                        'Accuracy':[accuracy1,\n",
    "                                                    accuracy2,\n",
    "                                                    accuracy3,\n",
    "                                                    accuracy4]})\n",
    "\n",
    "testing_tagging_accuracy"
   ]
  },
  {
   "cell_type": "markdown",
   "metadata": {},
   "source": [
    "#### Accuracies on sample test data\n",
    "\n",
    "- Vanilla Viterbi = **74.8%**\n",
    "- Modified Viterbi 1 (Viterbi_to_handle_Unknown_Words) = **88.3%**\n",
    "- Modified Viterbi 2 (Viterbi_coupled_with_lexicon_taggers) = **92.4%**\n",
    "- Modified Viterbi 2 (Viterbi_coupled_with_rule_based_taggers) = **92.4%**\n",
    "\n",
    "As the accuracies of Viterbi_coupled_with_lexicon_taggers and Viterbi_coupled_with_rule_based_taggers, we will use either of these two."
   ]
  },
  {
   "cell_type": "markdown",
   "metadata": {},
   "source": [
    "## List down cases which were incorrectly tagged by original POS tagger and got corrected by my modifications 1 and 2"
   ]
  },
  {
   "cell_type": "markdown",
   "metadata": {},
   "source": [
    "### Sequence of tags in Vanilla Viterbi"
   ]
  },
  {
   "cell_type": "code",
   "execution_count": 95,
   "metadata": {
    "scrolled": true
   },
   "outputs": [
    {
     "data": {
      "text/plain": [
       "[('Android', 'PRON'),\n",
       " ('has', 'VERB'),\n",
       " ('been', 'VERB'),\n",
       " ('the', 'DET'),\n",
       " ('best-selling', 'ADJ'),\n",
       " ('OS', 'PRON'),\n",
       " ('worldwide', 'PRON'),\n",
       " ('on', 'ADP'),\n",
       " ('smartphones', 'PRON'),\n",
       " ('since', 'ADP'),\n",
       " ('2011', 'PRON'),\n",
       " ('and', 'CONJ'),\n",
       " ('on', 'ADP'),\n",
       " ('tablets', 'NOUN'),\n",
       " ('since', 'ADP'),\n",
       " ('2013', 'PRON'),\n",
       " ('.', '.'),\n",
       " ('Google', 'PRON'),\n",
       " ('and', 'CONJ'),\n",
       " ('Twitter', 'PRON'),\n",
       " ('made', 'VERB'),\n",
       " ('a', 'DET'),\n",
       " ('deal', 'NOUN'),\n",
       " ('in', 'ADP'),\n",
       " ('2015', 'PRON'),\n",
       " ('that', 'ADP'),\n",
       " ('gave', 'VERB'),\n",
       " ('Google', 'PRON'),\n",
       " ('access', 'NOUN'),\n",
       " ('to', 'PRT'),\n",
       " ('Twitter', 'PRON'),\n",
       " (\"'s\", 'VERB'),\n",
       " ('firehose', 'PRON'),\n",
       " ('.', '.'),\n",
       " ('Twitter', 'PRON'),\n",
       " ('is', 'VERB'),\n",
       " ('an', 'DET'),\n",
       " ('online', 'PRON'),\n",
       " ('news', 'NOUN'),\n",
       " ('and', 'CONJ'),\n",
       " ('social', 'ADJ'),\n",
       " ('networking', 'NOUN'),\n",
       " ('service', 'NOUN'),\n",
       " ('on', 'ADP'),\n",
       " ('which', 'DET'),\n",
       " ('users', 'NOUN'),\n",
       " ('post', 'NOUN'),\n",
       " ('and', 'CONJ'),\n",
       " ('interact', 'PRON'),\n",
       " ('with', 'ADP'),\n",
       " ('messages', 'PRON'),\n",
       " ('known', 'VERB'),\n",
       " ('as', 'ADP'),\n",
       " ('tweets', 'PRON'),\n",
       " ('.', '.'),\n",
       " ('Before', 'ADP'),\n",
       " ('entering', 'VERB'),\n",
       " ('politics', 'NOUN'),\n",
       " (',', '.'),\n",
       " ('Donald', 'NOUN'),\n",
       " ('Trump', 'NOUN'),\n",
       " ('was', 'VERB'),\n",
       " ('a', 'DET'),\n",
       " ('domineering', 'PRON'),\n",
       " ('businessman', 'NOUN'),\n",
       " ('and', 'CONJ'),\n",
       " ('a', 'DET'),\n",
       " ('television', 'NOUN'),\n",
       " ('personality', 'PRON'),\n",
       " ('.', '.'),\n",
       " ('The', 'DET'),\n",
       " ('2018', 'PRON'),\n",
       " ('FIFA', 'PRON'),\n",
       " ('World', 'NOUN'),\n",
       " ('Cup', 'PRON'),\n",
       " ('is', 'VERB'),\n",
       " ('the', 'DET'),\n",
       " ('21st', 'PRON'),\n",
       " ('FIFA', 'PRON'),\n",
       " ('World', 'NOUN'),\n",
       " ('Cup', 'PRON'),\n",
       " (',', '.'),\n",
       " ('an', 'DET'),\n",
       " ('international', 'ADJ'),\n",
       " ('football', 'NOUN'),\n",
       " ('tournament', 'PRON'),\n",
       " ('contested', 'PRON'),\n",
       " ('once', 'ADV'),\n",
       " ('every', 'DET'),\n",
       " ('four', 'NUM'),\n",
       " ('years', 'NOUN'),\n",
       " ('.', '.'),\n",
       " ('This', 'DET'),\n",
       " ('is', 'VERB'),\n",
       " ('the', 'DET'),\n",
       " ('first', 'ADJ'),\n",
       " ('World', 'NOUN'),\n",
       " ('Cup', 'PRON'),\n",
       " ('to', 'PRT'),\n",
       " ('be', 'VERB'),\n",
       " ('held', 'VERB'),\n",
       " ('in', 'ADP'),\n",
       " ('Eastern', 'NOUN'),\n",
       " ('Europe', 'NOUN'),\n",
       " ('and', 'CONJ'),\n",
       " ('the', 'DET'),\n",
       " ('11th', 'ADJ'),\n",
       " ('time', 'NOUN'),\n",
       " ('that', 'ADP'),\n",
       " ('it', 'PRON'),\n",
       " ('has', 'VERB'),\n",
       " ('been', 'VERB'),\n",
       " ('held', 'VERB'),\n",
       " ('in', 'ADP'),\n",
       " ('Europe', 'NOUN'),\n",
       " ('.', '.'),\n",
       " ('Show', 'NOUN'),\n",
       " ('me', 'PRON'),\n",
       " ('the', 'DET'),\n",
       " ('cheapest', 'ADJ'),\n",
       " ('round', 'NOUN'),\n",
       " ('trips', 'PRON'),\n",
       " ('from', 'ADP'),\n",
       " ('Dallas', 'NOUN'),\n",
       " ('to', 'PRT'),\n",
       " ('Atlanta', 'NOUN'),\n",
       " ('I', 'PRON'),\n",
       " ('would', 'VERB'),\n",
       " ('like', 'ADP'),\n",
       " ('to', 'PRT'),\n",
       " ('see', 'VERB'),\n",
       " ('flights', 'NOUN'),\n",
       " ('from', 'ADP'),\n",
       " ('Denver', 'NOUN'),\n",
       " ('to', 'PRT'),\n",
       " ('Philadelphia', 'NOUN'),\n",
       " ('.', '.'),\n",
       " ('Show', 'NOUN'),\n",
       " ('me', 'PRON'),\n",
       " ('the', 'DET'),\n",
       " ('price', 'NOUN'),\n",
       " ('of', 'ADP'),\n",
       " ('the', 'DET'),\n",
       " ('flights', 'NOUN'),\n",
       " ('leaving', 'VERB'),\n",
       " ('Atlanta', 'NOUN'),\n",
       " ('at', 'ADP'),\n",
       " ('about', 'ADP'),\n",
       " ('3', 'NUM'),\n",
       " ('in', 'ADP'),\n",
       " ('the', 'DET'),\n",
       " ('afternoon', 'NOUN'),\n",
       " ('and', 'CONJ'),\n",
       " ('arriving', 'PRON'),\n",
       " ('in', 'ADP'),\n",
       " ('San', 'NOUN'),\n",
       " ('Francisco', 'NOUN'),\n",
       " ('.', '.'),\n",
       " ('NASA', 'PRON'),\n",
       " ('invited', 'PRON'),\n",
       " ('social', 'ADJ'),\n",
       " ('media', 'NOUN'),\n",
       " ('users', 'NOUN'),\n",
       " ('to', 'PRT'),\n",
       " ('experience', 'NOUN'),\n",
       " ('the', 'DET'),\n",
       " ('launch', 'NOUN'),\n",
       " ('of', 'ADP'),\n",
       " ('ICESAT-2', 'PRON'),\n",
       " ('Satellite', 'PRON'),\n",
       " ('.', '.')]"
      ]
     },
     "execution_count": 95,
     "metadata": {},
     "output_type": "execute_result"
    }
   ],
   "source": [
    "sample_test_tagged_seq1"
   ]
  },
  {
   "cell_type": "markdown",
   "metadata": {},
   "source": [
    "### Sequence of tags in Modified Viterbi 1 - Viterbi_to_handle_Unknown_Words"
   ]
  },
  {
   "cell_type": "code",
   "execution_count": 96,
   "metadata": {},
   "outputs": [
    {
     "data": {
      "text/plain": [
       "[('Android', 'NOUN'),\n",
       " ('has', 'VERB'),\n",
       " ('been', 'VERB'),\n",
       " ('the', 'DET'),\n",
       " ('best-selling', 'ADJ'),\n",
       " ('OS', 'NOUN'),\n",
       " ('worldwide', 'NOUN'),\n",
       " ('on', 'ADP'),\n",
       " ('smartphones', 'NOUN'),\n",
       " ('since', 'ADP'),\n",
       " ('2011', 'NOUN'),\n",
       " ('and', 'CONJ'),\n",
       " ('on', 'ADP'),\n",
       " ('tablets', 'NOUN'),\n",
       " ('since', 'ADP'),\n",
       " ('2013', 'NOUN'),\n",
       " ('.', '.'),\n",
       " ('Google', 'NOUN'),\n",
       " ('and', 'CONJ'),\n",
       " ('Twitter', 'NOUN'),\n",
       " ('made', 'VERB'),\n",
       " ('a', 'DET'),\n",
       " ('deal', 'NOUN'),\n",
       " ('in', 'ADP'),\n",
       " ('2015', 'NOUN'),\n",
       " ('that', 'ADP'),\n",
       " ('gave', 'VERB'),\n",
       " ('Google', 'X'),\n",
       " ('access', 'NOUN'),\n",
       " ('to', 'PRT'),\n",
       " ('Twitter', 'VERB'),\n",
       " (\"'s\", 'PRT'),\n",
       " ('firehose', 'VERB'),\n",
       " ('.', '.'),\n",
       " ('Twitter', 'NOUN'),\n",
       " ('is', 'VERB'),\n",
       " ('an', 'DET'),\n",
       " ('online', 'NOUN'),\n",
       " ('news', 'NOUN'),\n",
       " ('and', 'CONJ'),\n",
       " ('social', 'ADJ'),\n",
       " ('networking', 'NOUN'),\n",
       " ('service', 'NOUN'),\n",
       " ('on', 'ADP'),\n",
       " ('which', 'DET'),\n",
       " ('users', 'NOUN'),\n",
       " ('post', 'NOUN'),\n",
       " ('and', 'CONJ'),\n",
       " ('interact', 'NOUN'),\n",
       " ('with', 'ADP'),\n",
       " ('messages', 'NOUN'),\n",
       " ('known', 'VERB'),\n",
       " ('as', 'ADP'),\n",
       " ('tweets', 'NOUN'),\n",
       " ('.', '.'),\n",
       " ('Before', 'ADP'),\n",
       " ('entering', 'VERB'),\n",
       " ('politics', 'NOUN'),\n",
       " (',', '.'),\n",
       " ('Donald', 'NOUN'),\n",
       " ('Trump', 'NOUN'),\n",
       " ('was', 'VERB'),\n",
       " ('a', 'DET'),\n",
       " ('domineering', 'NOUN'),\n",
       " ('businessman', 'NOUN'),\n",
       " ('and', 'CONJ'),\n",
       " ('a', 'DET'),\n",
       " ('television', 'NOUN'),\n",
       " ('personality', 'NOUN'),\n",
       " ('.', '.'),\n",
       " ('The', 'DET'),\n",
       " ('2018', 'NOUN'),\n",
       " ('FIFA', 'NOUN'),\n",
       " ('World', 'NOUN'),\n",
       " ('Cup', 'NOUN'),\n",
       " ('is', 'VERB'),\n",
       " ('the', 'DET'),\n",
       " ('21st', 'NOUN'),\n",
       " ('FIFA', 'NOUN'),\n",
       " ('World', 'NOUN'),\n",
       " ('Cup', 'NOUN'),\n",
       " (',', '.'),\n",
       " ('an', 'DET'),\n",
       " ('international', 'ADJ'),\n",
       " ('football', 'NOUN'),\n",
       " ('tournament', 'NOUN'),\n",
       " ('contested', 'NOUN'),\n",
       " ('once', 'ADV'),\n",
       " ('every', 'DET'),\n",
       " ('four', 'NUM'),\n",
       " ('years', 'NOUN'),\n",
       " ('.', '.'),\n",
       " ('This', 'DET'),\n",
       " ('is', 'VERB'),\n",
       " ('the', 'DET'),\n",
       " ('first', 'ADJ'),\n",
       " ('World', 'NOUN'),\n",
       " ('Cup', 'NOUN'),\n",
       " ('to', 'PRT'),\n",
       " ('be', 'VERB'),\n",
       " ('held', 'VERB'),\n",
       " ('in', 'ADP'),\n",
       " ('Eastern', 'NOUN'),\n",
       " ('Europe', 'NOUN'),\n",
       " ('and', 'CONJ'),\n",
       " ('the', 'DET'),\n",
       " ('11th', 'ADJ'),\n",
       " ('time', 'NOUN'),\n",
       " ('that', 'ADP'),\n",
       " ('it', 'PRON'),\n",
       " ('has', 'VERB'),\n",
       " ('been', 'VERB'),\n",
       " ('held', 'VERB'),\n",
       " ('in', 'ADP'),\n",
       " ('Europe', 'NOUN'),\n",
       " ('.', '.'),\n",
       " ('Show', 'NOUN'),\n",
       " ('me', 'PRON'),\n",
       " ('the', 'DET'),\n",
       " ('cheapest', 'ADJ'),\n",
       " ('round', 'NOUN'),\n",
       " ('trips', 'NOUN'),\n",
       " ('from', 'ADP'),\n",
       " ('Dallas', 'NOUN'),\n",
       " ('to', 'PRT'),\n",
       " ('Atlanta', 'NOUN'),\n",
       " ('I', 'PRON'),\n",
       " ('would', 'VERB'),\n",
       " ('like', 'ADP'),\n",
       " ('to', 'PRT'),\n",
       " ('see', 'VERB'),\n",
       " ('flights', 'NOUN'),\n",
       " ('from', 'ADP'),\n",
       " ('Denver', 'NOUN'),\n",
       " ('to', 'PRT'),\n",
       " ('Philadelphia', 'NOUN'),\n",
       " ('.', '.'),\n",
       " ('Show', 'NOUN'),\n",
       " ('me', 'PRON'),\n",
       " ('the', 'DET'),\n",
       " ('price', 'NOUN'),\n",
       " ('of', 'ADP'),\n",
       " ('the', 'DET'),\n",
       " ('flights', 'NOUN'),\n",
       " ('leaving', 'VERB'),\n",
       " ('Atlanta', 'NOUN'),\n",
       " ('at', 'ADP'),\n",
       " ('about', 'ADP'),\n",
       " ('3', 'NUM'),\n",
       " ('in', 'ADP'),\n",
       " ('the', 'DET'),\n",
       " ('afternoon', 'NOUN'),\n",
       " ('and', 'CONJ'),\n",
       " ('arriving', 'NOUN'),\n",
       " ('in', 'ADP'),\n",
       " ('San', 'NOUN'),\n",
       " ('Francisco', 'NOUN'),\n",
       " ('.', '.'),\n",
       " ('NASA', 'NOUN'),\n",
       " ('invited', 'NOUN'),\n",
       " ('social', 'ADJ'),\n",
       " ('media', 'NOUN'),\n",
       " ('users', 'NOUN'),\n",
       " ('to', 'PRT'),\n",
       " ('experience', 'NOUN'),\n",
       " ('the', 'DET'),\n",
       " ('launch', 'NOUN'),\n",
       " ('of', 'ADP'),\n",
       " ('ICESAT-2', 'NOUN'),\n",
       " ('Satellite', 'NOUN'),\n",
       " ('.', '.')]"
      ]
     },
     "execution_count": 96,
     "metadata": {},
     "output_type": "execute_result"
    }
   ],
   "source": [
    "sample_test_tagged_seq2"
   ]
  },
  {
   "cell_type": "markdown",
   "metadata": {},
   "source": [
    "### Sequence of tags in Modified Viterbi 2 - Viterbi_coupled_with_lexicon_taggers"
   ]
  },
  {
   "cell_type": "code",
   "execution_count": 88,
   "metadata": {},
   "outputs": [
    {
     "data": {
      "text/plain": [
       "[('Android', 'NOUN'),\n",
       " ('has', 'VERB'),\n",
       " ('been', 'VERB'),\n",
       " ('the', 'DET'),\n",
       " ('best-selling', 'ADJ'),\n",
       " ('OS', 'NOUN'),\n",
       " ('worldwide', 'NOUN'),\n",
       " ('on', 'ADP'),\n",
       " ('smartphones', 'NOUN'),\n",
       " ('since', 'ADP'),\n",
       " ('2011', 'NUM'),\n",
       " ('and', 'CONJ'),\n",
       " ('on', 'ADP'),\n",
       " ('tablets', 'NOUN'),\n",
       " ('since', 'ADP'),\n",
       " ('2013', 'NUM'),\n",
       " ('.', '.'),\n",
       " ('Google', 'NOUN'),\n",
       " ('and', 'CONJ'),\n",
       " ('Twitter', 'NOUN'),\n",
       " ('made', 'VERB'),\n",
       " ('a', 'DET'),\n",
       " ('deal', 'NOUN'),\n",
       " ('in', 'ADP'),\n",
       " ('2015', 'NUM'),\n",
       " ('that', 'ADP'),\n",
       " ('gave', 'VERB'),\n",
       " ('Google', 'NOUN'),\n",
       " ('access', 'NOUN'),\n",
       " ('to', 'PRT'),\n",
       " ('Twitter', 'NOUN'),\n",
       " (\"'s\", 'PRT'),\n",
       " ('firehose', 'NOUN'),\n",
       " ('.', '.'),\n",
       " ('Twitter', 'NOUN'),\n",
       " ('is', 'VERB'),\n",
       " ('an', 'DET'),\n",
       " ('online', 'NOUN'),\n",
       " ('news', 'NOUN'),\n",
       " ('and', 'CONJ'),\n",
       " ('social', 'ADJ'),\n",
       " ('networking', 'NOUN'),\n",
       " ('service', 'NOUN'),\n",
       " ('on', 'ADP'),\n",
       " ('which', 'DET'),\n",
       " ('users', 'NOUN'),\n",
       " ('post', 'NOUN'),\n",
       " ('and', 'CONJ'),\n",
       " ('interact', 'NOUN'),\n",
       " ('with', 'ADP'),\n",
       " ('messages', 'NOUN'),\n",
       " ('known', 'VERB'),\n",
       " ('as', 'ADP'),\n",
       " ('tweets', 'NOUN'),\n",
       " ('.', '.'),\n",
       " ('Before', 'ADP'),\n",
       " ('entering', 'VERB'),\n",
       " ('politics', 'NOUN'),\n",
       " (',', '.'),\n",
       " ('Donald', 'NOUN'),\n",
       " ('Trump', 'NOUN'),\n",
       " ('was', 'VERB'),\n",
       " ('a', 'DET'),\n",
       " ('domineering', 'NOUN'),\n",
       " ('businessman', 'NOUN'),\n",
       " ('and', 'CONJ'),\n",
       " ('a', 'DET'),\n",
       " ('television', 'NOUN'),\n",
       " ('personality', 'NOUN'),\n",
       " ('.', '.'),\n",
       " ('The', 'DET'),\n",
       " ('2018', 'NUM'),\n",
       " ('FIFA', 'NOUN'),\n",
       " ('World', 'NOUN'),\n",
       " ('Cup', 'NOUN'),\n",
       " ('is', 'VERB'),\n",
       " ('the', 'DET'),\n",
       " ('21st', 'NOUN'),\n",
       " ('FIFA', 'NOUN'),\n",
       " ('World', 'NOUN'),\n",
       " ('Cup', 'NOUN'),\n",
       " (',', '.'),\n",
       " ('an', 'DET'),\n",
       " ('international', 'ADJ'),\n",
       " ('football', 'NOUN'),\n",
       " ('tournament', 'NOUN'),\n",
       " ('contested', 'NOUN'),\n",
       " ('once', 'ADV'),\n",
       " ('every', 'DET'),\n",
       " ('four', 'NUM'),\n",
       " ('years', 'NOUN'),\n",
       " ('.', '.'),\n",
       " ('This', 'DET'),\n",
       " ('is', 'VERB'),\n",
       " ('the', 'DET'),\n",
       " ('first', 'ADJ'),\n",
       " ('World', 'NOUN'),\n",
       " ('Cup', 'NOUN'),\n",
       " ('to', 'PRT'),\n",
       " ('be', 'VERB'),\n",
       " ('held', 'VERB'),\n",
       " ('in', 'ADP'),\n",
       " ('Eastern', 'NOUN'),\n",
       " ('Europe', 'NOUN'),\n",
       " ('and', 'CONJ'),\n",
       " ('the', 'DET'),\n",
       " ('11th', 'ADJ'),\n",
       " ('time', 'NOUN'),\n",
       " ('that', 'ADP'),\n",
       " ('it', 'PRON'),\n",
       " ('has', 'VERB'),\n",
       " ('been', 'VERB'),\n",
       " ('held', 'VERB'),\n",
       " ('in', 'ADP'),\n",
       " ('Europe', 'NOUN'),\n",
       " ('.', '.'),\n",
       " ('Show', 'NOUN'),\n",
       " ('me', 'PRON'),\n",
       " ('the', 'DET'),\n",
       " ('cheapest', 'ADJ'),\n",
       " ('round', 'NOUN'),\n",
       " ('trips', 'NOUN'),\n",
       " ('from', 'ADP'),\n",
       " ('Dallas', 'NOUN'),\n",
       " ('to', 'PRT'),\n",
       " ('Atlanta', 'NOUN'),\n",
       " ('I', 'PRON'),\n",
       " ('would', 'VERB'),\n",
       " ('like', 'ADP'),\n",
       " ('to', 'PRT'),\n",
       " ('see', 'VERB'),\n",
       " ('flights', 'NOUN'),\n",
       " ('from', 'ADP'),\n",
       " ('Denver', 'NOUN'),\n",
       " ('to', 'PRT'),\n",
       " ('Philadelphia', 'NOUN'),\n",
       " ('.', '.'),\n",
       " ('Show', 'NOUN'),\n",
       " ('me', 'PRON'),\n",
       " ('the', 'DET'),\n",
       " ('price', 'NOUN'),\n",
       " ('of', 'ADP'),\n",
       " ('the', 'DET'),\n",
       " ('flights', 'NOUN'),\n",
       " ('leaving', 'VERB'),\n",
       " ('Atlanta', 'NOUN'),\n",
       " ('at', 'ADP'),\n",
       " ('about', 'ADP'),\n",
       " ('3', 'NUM'),\n",
       " ('in', 'ADP'),\n",
       " ('the', 'DET'),\n",
       " ('afternoon', 'NOUN'),\n",
       " ('and', 'CONJ'),\n",
       " ('arriving', 'NOUN'),\n",
       " ('in', 'ADP'),\n",
       " ('San', 'NOUN'),\n",
       " ('Francisco', 'NOUN'),\n",
       " ('.', '.'),\n",
       " ('NASA', 'NOUN'),\n",
       " ('invited', 'NOUN'),\n",
       " ('social', 'ADJ'),\n",
       " ('media', 'NOUN'),\n",
       " ('users', 'NOUN'),\n",
       " ('to', 'PRT'),\n",
       " ('experience', 'NOUN'),\n",
       " ('the', 'DET'),\n",
       " ('launch', 'NOUN'),\n",
       " ('of', 'ADP'),\n",
       " ('ICESAT-2', 'NOUN'),\n",
       " ('Satellite', 'NOUN'),\n",
       " ('.', '.')]"
      ]
     },
     "execution_count": 88,
     "metadata": {},
     "output_type": "execute_result"
    }
   ],
   "source": [
    "sample_test_tagged_seq3"
   ]
  },
  {
   "cell_type": "markdown",
   "metadata": {},
   "source": [
    "#### Few examples where words were incorrectly tagged in Vanilla Viterbi while correctly tagged in Modified Viterbi 1 and 2"
   ]
  },
  {
   "cell_type": "code",
   "execution_count": 89,
   "metadata": {
    "scrolled": true
   },
   "outputs": [
    {
     "data": {
      "text/plain": [
       "('Android', 'PRON')"
      ]
     },
     "execution_count": 89,
     "metadata": {},
     "output_type": "execute_result"
    }
   ],
   "source": [
    "# incorrectly tagged in Vanilla Viterbi\n",
    "sample_test_tagged_seq1[0]"
   ]
  },
  {
   "cell_type": "code",
   "execution_count": 97,
   "metadata": {},
   "outputs": [
    {
     "data": {
      "text/plain": [
       "('Android', 'NOUN')"
      ]
     },
     "execution_count": 97,
     "metadata": {},
     "output_type": "execute_result"
    }
   ],
   "source": [
    "# Correctly tagged in Modified Viterbi 1\n",
    "sample_test_tagged_seq2[0]"
   ]
  },
  {
   "cell_type": "code",
   "execution_count": 90,
   "metadata": {
    "scrolled": true
   },
   "outputs": [
    {
     "data": {
      "text/plain": [
       "('Android', 'NOUN')"
      ]
     },
     "execution_count": 90,
     "metadata": {},
     "output_type": "execute_result"
    }
   ],
   "source": [
    "# Correctly tagged in Modified Viterbi 2\n",
    "sample_test_tagged_seq3[0]"
   ]
  },
  {
   "cell_type": "markdown",
   "metadata": {},
   "source": [
    "**'Android' is wrongly predicted as PRON in Vanilla Viterbi, while it is correctly predicted in modifications 1 and 2**"
   ]
  },
  {
   "cell_type": "markdown",
   "metadata": {},
   "source": [
    "### Let's now see the whole list of words which were misclassified in Vanilla Viterbi but are correctly classified after Modification of Viterbi"
   ]
  },
  {
   "cell_type": "code",
   "execution_count": 99,
   "metadata": {
    "scrolled": true
   },
   "outputs": [
    {
     "name": "stdout",
     "output_type": "stream",
     "text": [
      "(Vanilla Viterbi),   (Modified Viterbi 1), (Modified Viterbi 2)\n",
      "______________________________________________________________________\n"
     ]
    },
    {
     "data": {
      "text/plain": [
       "[(('Android', 'PRON'), ('Android', 'NOUN'), ('Android', 'NOUN')),\n",
       " (('OS', 'PRON'), ('OS', 'NOUN'), ('OS', 'NOUN')),\n",
       " (('worldwide', 'PRON'), ('worldwide', 'NOUN'), ('worldwide', 'NOUN')),\n",
       " (('smartphones', 'PRON'), ('smartphones', 'NOUN'), ('smartphones', 'NOUN')),\n",
       " (('2011', 'PRON'), ('2011', 'NOUN'), ('2011', 'NUM')),\n",
       " (('2013', 'PRON'), ('2013', 'NOUN'), ('2013', 'NUM')),\n",
       " (('Google', 'PRON'), ('Google', 'NOUN'), ('Google', 'NOUN')),\n",
       " (('Twitter', 'PRON'), ('Twitter', 'NOUN'), ('Twitter', 'NOUN')),\n",
       " (('2015', 'PRON'), ('2015', 'NOUN'), ('2015', 'NUM')),\n",
       " (('Google', 'PRON'), ('Google', 'X'), ('Google', 'NOUN'))]"
      ]
     },
     "execution_count": 99,
     "metadata": {},
     "output_type": "execute_result"
    }
   ],
   "source": [
    "incorrect_tagged_cases_in_vanilla_viterbi = [j for i, j in enumerate(zip(sample_test_tagged_seq1,sample_test_tagged_seq2, sample_test_tagged_seq3)) if j[0]!=j[1]]\n",
    "\n",
    "print(\"(Vanilla Viterbi),   (Modified Viterbi 1), (Modified Viterbi 2)\")\n",
    "print(\"_\"*70)\n",
    "#first ten incorrectly tagged words by Vanilla Viterbi\n",
    "incorrect_tagged_cases_in_vanilla_viterbi[:10]"
   ]
  },
  {
   "cell_type": "code",
   "execution_count": 100,
   "metadata": {},
   "outputs": [],
   "source": [
    "vanilla_viterbi_misclassified = [i[0] for i in incorrect_tagged_cases_in_vanilla_viterbi]\n",
    "viterbi_modified_1_classified = [i[1] for i in incorrect_tagged_cases_in_vanilla_viterbi]\n",
    "viterbi_modified_2_classified = [i[2] for i in incorrect_tagged_cases_in_vanilla_viterbi]"
   ]
  },
  {
   "cell_type": "code",
   "execution_count": 103,
   "metadata": {},
   "outputs": [],
   "source": [
    "Vanilla_Vs_Mod1_Vs_Mod2 = pd.DataFrame(list(zip(vanilla_viterbi_misclassified, viterbi_modified_1_classified,viterbi_modified_2_classified)), \n",
    "                                                   columns =['Vanilla Viterbi', 'Modified Viterbi 1- to handle Unknown Words', \n",
    "                                                            'Modified Viterbi 2 - Coupled with lexicon taggers']) "
   ]
  },
  {
   "cell_type": "code",
   "execution_count": 104,
   "metadata": {},
   "outputs": [
    {
     "data": {
      "text/html": [
       "<div>\n",
       "<style scoped>\n",
       "    .dataframe tbody tr th:only-of-type {\n",
       "        vertical-align: middle;\n",
       "    }\n",
       "\n",
       "    .dataframe tbody tr th {\n",
       "        vertical-align: top;\n",
       "    }\n",
       "\n",
       "    .dataframe thead th {\n",
       "        text-align: right;\n",
       "    }\n",
       "</style>\n",
       "<table border=\"1\" class=\"dataframe\">\n",
       "  <thead>\n",
       "    <tr style=\"text-align: right;\">\n",
       "      <th></th>\n",
       "      <th>Vanilla Viterbi</th>\n",
       "      <th>Modified Viterbi 1- to handle Unknown Words</th>\n",
       "      <th>Modified Viterbi 2 - Coupled with lexicon taggers</th>\n",
       "    </tr>\n",
       "  </thead>\n",
       "  <tbody>\n",
       "    <tr>\n",
       "      <td>0</td>\n",
       "      <td>(Android, PRON)</td>\n",
       "      <td>(Android, NOUN)</td>\n",
       "      <td>(Android, NOUN)</td>\n",
       "    </tr>\n",
       "    <tr>\n",
       "      <td>1</td>\n",
       "      <td>(OS, PRON)</td>\n",
       "      <td>(OS, NOUN)</td>\n",
       "      <td>(OS, NOUN)</td>\n",
       "    </tr>\n",
       "    <tr>\n",
       "      <td>2</td>\n",
       "      <td>(worldwide, PRON)</td>\n",
       "      <td>(worldwide, NOUN)</td>\n",
       "      <td>(worldwide, NOUN)</td>\n",
       "    </tr>\n",
       "    <tr>\n",
       "      <td>3</td>\n",
       "      <td>(smartphones, PRON)</td>\n",
       "      <td>(smartphones, NOUN)</td>\n",
       "      <td>(smartphones, NOUN)</td>\n",
       "    </tr>\n",
       "    <tr>\n",
       "      <td>4</td>\n",
       "      <td>(2011, PRON)</td>\n",
       "      <td>(2011, NOUN)</td>\n",
       "      <td>(2011, NUM)</td>\n",
       "    </tr>\n",
       "    <tr>\n",
       "      <td>5</td>\n",
       "      <td>(2013, PRON)</td>\n",
       "      <td>(2013, NOUN)</td>\n",
       "      <td>(2013, NUM)</td>\n",
       "    </tr>\n",
       "    <tr>\n",
       "      <td>6</td>\n",
       "      <td>(Google, PRON)</td>\n",
       "      <td>(Google, NOUN)</td>\n",
       "      <td>(Google, NOUN)</td>\n",
       "    </tr>\n",
       "    <tr>\n",
       "      <td>7</td>\n",
       "      <td>(Twitter, PRON)</td>\n",
       "      <td>(Twitter, NOUN)</td>\n",
       "      <td>(Twitter, NOUN)</td>\n",
       "    </tr>\n",
       "    <tr>\n",
       "      <td>8</td>\n",
       "      <td>(2015, PRON)</td>\n",
       "      <td>(2015, NOUN)</td>\n",
       "      <td>(2015, NUM)</td>\n",
       "    </tr>\n",
       "    <tr>\n",
       "      <td>9</td>\n",
       "      <td>(Google, PRON)</td>\n",
       "      <td>(Google, X)</td>\n",
       "      <td>(Google, NOUN)</td>\n",
       "    </tr>\n",
       "    <tr>\n",
       "      <td>10</td>\n",
       "      <td>(Twitter, PRON)</td>\n",
       "      <td>(Twitter, VERB)</td>\n",
       "      <td>(Twitter, NOUN)</td>\n",
       "    </tr>\n",
       "    <tr>\n",
       "      <td>11</td>\n",
       "      <td>('s, VERB)</td>\n",
       "      <td>('s, PRT)</td>\n",
       "      <td>('s, PRT)</td>\n",
       "    </tr>\n",
       "    <tr>\n",
       "      <td>12</td>\n",
       "      <td>(firehose, PRON)</td>\n",
       "      <td>(firehose, VERB)</td>\n",
       "      <td>(firehose, NOUN)</td>\n",
       "    </tr>\n",
       "    <tr>\n",
       "      <td>13</td>\n",
       "      <td>(Twitter, PRON)</td>\n",
       "      <td>(Twitter, NOUN)</td>\n",
       "      <td>(Twitter, NOUN)</td>\n",
       "    </tr>\n",
       "    <tr>\n",
       "      <td>14</td>\n",
       "      <td>(online, PRON)</td>\n",
       "      <td>(online, NOUN)</td>\n",
       "      <td>(online, NOUN)</td>\n",
       "    </tr>\n",
       "    <tr>\n",
       "      <td>15</td>\n",
       "      <td>(interact, PRON)</td>\n",
       "      <td>(interact, NOUN)</td>\n",
       "      <td>(interact, NOUN)</td>\n",
       "    </tr>\n",
       "    <tr>\n",
       "      <td>16</td>\n",
       "      <td>(messages, PRON)</td>\n",
       "      <td>(messages, NOUN)</td>\n",
       "      <td>(messages, NOUN)</td>\n",
       "    </tr>\n",
       "    <tr>\n",
       "      <td>17</td>\n",
       "      <td>(tweets, PRON)</td>\n",
       "      <td>(tweets, NOUN)</td>\n",
       "      <td>(tweets, NOUN)</td>\n",
       "    </tr>\n",
       "    <tr>\n",
       "      <td>18</td>\n",
       "      <td>(domineering, PRON)</td>\n",
       "      <td>(domineering, NOUN)</td>\n",
       "      <td>(domineering, NOUN)</td>\n",
       "    </tr>\n",
       "    <tr>\n",
       "      <td>19</td>\n",
       "      <td>(personality, PRON)</td>\n",
       "      <td>(personality, NOUN)</td>\n",
       "      <td>(personality, NOUN)</td>\n",
       "    </tr>\n",
       "    <tr>\n",
       "      <td>20</td>\n",
       "      <td>(2018, PRON)</td>\n",
       "      <td>(2018, NOUN)</td>\n",
       "      <td>(2018, NUM)</td>\n",
       "    </tr>\n",
       "    <tr>\n",
       "      <td>21</td>\n",
       "      <td>(FIFA, PRON)</td>\n",
       "      <td>(FIFA, NOUN)</td>\n",
       "      <td>(FIFA, NOUN)</td>\n",
       "    </tr>\n",
       "    <tr>\n",
       "      <td>22</td>\n",
       "      <td>(Cup, PRON)</td>\n",
       "      <td>(Cup, NOUN)</td>\n",
       "      <td>(Cup, NOUN)</td>\n",
       "    </tr>\n",
       "    <tr>\n",
       "      <td>23</td>\n",
       "      <td>(21st, PRON)</td>\n",
       "      <td>(21st, NOUN)</td>\n",
       "      <td>(21st, NOUN)</td>\n",
       "    </tr>\n",
       "    <tr>\n",
       "      <td>24</td>\n",
       "      <td>(FIFA, PRON)</td>\n",
       "      <td>(FIFA, NOUN)</td>\n",
       "      <td>(FIFA, NOUN)</td>\n",
       "    </tr>\n",
       "    <tr>\n",
       "      <td>25</td>\n",
       "      <td>(Cup, PRON)</td>\n",
       "      <td>(Cup, NOUN)</td>\n",
       "      <td>(Cup, NOUN)</td>\n",
       "    </tr>\n",
       "    <tr>\n",
       "      <td>26</td>\n",
       "      <td>(tournament, PRON)</td>\n",
       "      <td>(tournament, NOUN)</td>\n",
       "      <td>(tournament, NOUN)</td>\n",
       "    </tr>\n",
       "    <tr>\n",
       "      <td>27</td>\n",
       "      <td>(contested, PRON)</td>\n",
       "      <td>(contested, NOUN)</td>\n",
       "      <td>(contested, NOUN)</td>\n",
       "    </tr>\n",
       "    <tr>\n",
       "      <td>28</td>\n",
       "      <td>(Cup, PRON)</td>\n",
       "      <td>(Cup, NOUN)</td>\n",
       "      <td>(Cup, NOUN)</td>\n",
       "    </tr>\n",
       "    <tr>\n",
       "      <td>29</td>\n",
       "      <td>(trips, PRON)</td>\n",
       "      <td>(trips, NOUN)</td>\n",
       "      <td>(trips, NOUN)</td>\n",
       "    </tr>\n",
       "    <tr>\n",
       "      <td>30</td>\n",
       "      <td>(arriving, PRON)</td>\n",
       "      <td>(arriving, NOUN)</td>\n",
       "      <td>(arriving, NOUN)</td>\n",
       "    </tr>\n",
       "    <tr>\n",
       "      <td>31</td>\n",
       "      <td>(NASA, PRON)</td>\n",
       "      <td>(NASA, NOUN)</td>\n",
       "      <td>(NASA, NOUN)</td>\n",
       "    </tr>\n",
       "    <tr>\n",
       "      <td>32</td>\n",
       "      <td>(invited, PRON)</td>\n",
       "      <td>(invited, NOUN)</td>\n",
       "      <td>(invited, NOUN)</td>\n",
       "    </tr>\n",
       "    <tr>\n",
       "      <td>33</td>\n",
       "      <td>(ICESAT-2, PRON)</td>\n",
       "      <td>(ICESAT-2, NOUN)</td>\n",
       "      <td>(ICESAT-2, NOUN)</td>\n",
       "    </tr>\n",
       "    <tr>\n",
       "      <td>34</td>\n",
       "      <td>(Satellite, PRON)</td>\n",
       "      <td>(Satellite, NOUN)</td>\n",
       "      <td>(Satellite, NOUN)</td>\n",
       "    </tr>\n",
       "  </tbody>\n",
       "</table>\n",
       "</div>"
      ],
      "text/plain": [
       "        Vanilla Viterbi Modified Viterbi 1- to handle Unknown Words  \\\n",
       "0       (Android, PRON)                             (Android, NOUN)   \n",
       "1            (OS, PRON)                                  (OS, NOUN)   \n",
       "2     (worldwide, PRON)                           (worldwide, NOUN)   \n",
       "3   (smartphones, PRON)                         (smartphones, NOUN)   \n",
       "4          (2011, PRON)                                (2011, NOUN)   \n",
       "5          (2013, PRON)                                (2013, NOUN)   \n",
       "6        (Google, PRON)                              (Google, NOUN)   \n",
       "7       (Twitter, PRON)                             (Twitter, NOUN)   \n",
       "8          (2015, PRON)                                (2015, NOUN)   \n",
       "9        (Google, PRON)                                 (Google, X)   \n",
       "10      (Twitter, PRON)                             (Twitter, VERB)   \n",
       "11           ('s, VERB)                                   ('s, PRT)   \n",
       "12     (firehose, PRON)                            (firehose, VERB)   \n",
       "13      (Twitter, PRON)                             (Twitter, NOUN)   \n",
       "14       (online, PRON)                              (online, NOUN)   \n",
       "15     (interact, PRON)                            (interact, NOUN)   \n",
       "16     (messages, PRON)                            (messages, NOUN)   \n",
       "17       (tweets, PRON)                              (tweets, NOUN)   \n",
       "18  (domineering, PRON)                         (domineering, NOUN)   \n",
       "19  (personality, PRON)                         (personality, NOUN)   \n",
       "20         (2018, PRON)                                (2018, NOUN)   \n",
       "21         (FIFA, PRON)                                (FIFA, NOUN)   \n",
       "22          (Cup, PRON)                                 (Cup, NOUN)   \n",
       "23         (21st, PRON)                                (21st, NOUN)   \n",
       "24         (FIFA, PRON)                                (FIFA, NOUN)   \n",
       "25          (Cup, PRON)                                 (Cup, NOUN)   \n",
       "26   (tournament, PRON)                          (tournament, NOUN)   \n",
       "27    (contested, PRON)                           (contested, NOUN)   \n",
       "28          (Cup, PRON)                                 (Cup, NOUN)   \n",
       "29        (trips, PRON)                               (trips, NOUN)   \n",
       "30     (arriving, PRON)                            (arriving, NOUN)   \n",
       "31         (NASA, PRON)                                (NASA, NOUN)   \n",
       "32      (invited, PRON)                             (invited, NOUN)   \n",
       "33     (ICESAT-2, PRON)                            (ICESAT-2, NOUN)   \n",
       "34    (Satellite, PRON)                           (Satellite, NOUN)   \n",
       "\n",
       "   Modified Viterbi 2 - Coupled with lexicon taggers  \n",
       "0                                    (Android, NOUN)  \n",
       "1                                         (OS, NOUN)  \n",
       "2                                  (worldwide, NOUN)  \n",
       "3                                (smartphones, NOUN)  \n",
       "4                                        (2011, NUM)  \n",
       "5                                        (2013, NUM)  \n",
       "6                                     (Google, NOUN)  \n",
       "7                                    (Twitter, NOUN)  \n",
       "8                                        (2015, NUM)  \n",
       "9                                     (Google, NOUN)  \n",
       "10                                   (Twitter, NOUN)  \n",
       "11                                         ('s, PRT)  \n",
       "12                                  (firehose, NOUN)  \n",
       "13                                   (Twitter, NOUN)  \n",
       "14                                    (online, NOUN)  \n",
       "15                                  (interact, NOUN)  \n",
       "16                                  (messages, NOUN)  \n",
       "17                                    (tweets, NOUN)  \n",
       "18                               (domineering, NOUN)  \n",
       "19                               (personality, NOUN)  \n",
       "20                                       (2018, NUM)  \n",
       "21                                      (FIFA, NOUN)  \n",
       "22                                       (Cup, NOUN)  \n",
       "23                                      (21st, NOUN)  \n",
       "24                                      (FIFA, NOUN)  \n",
       "25                                       (Cup, NOUN)  \n",
       "26                                (tournament, NOUN)  \n",
       "27                                 (contested, NOUN)  \n",
       "28                                       (Cup, NOUN)  \n",
       "29                                     (trips, NOUN)  \n",
       "30                                  (arriving, NOUN)  \n",
       "31                                      (NASA, NOUN)  \n",
       "32                                   (invited, NOUN)  \n",
       "33                                  (ICESAT-2, NOUN)  \n",
       "34                                 (Satellite, NOUN)  "
      ]
     },
     "execution_count": 104,
     "metadata": {},
     "output_type": "execute_result"
    }
   ],
   "source": [
    "Vanilla_Vs_Mod1_Vs_Mod2"
   ]
  },
  {
   "cell_type": "markdown",
   "metadata": {},
   "source": [
    "**Vanilla Viterbi Vs Modified Viterbi 1 and Mofidied Viterbi 2**\n",
    "\n",
    "As we can see there are multiple words whose tags are misclassified by Vanilla Viterbi but are correctly classified by modified Viterbi methods 1 and 2.\n",
    "\n",
    "Example:\n",
    "- **Android** was misclassified as **PRON** by Vanilla Viterbi but correctly classified as **NOUN** by modified Viterbi\n",
    "- **OS** was misclassified as **PRON** by Vanilla Viterbi but correctly classified as **NOUN** by modified Viterbi\n",
    "- **worldwide** was misclassified as **PRON** by Vanilla Viterbi but correctly classified as **NOUN** by modified Viterbi\n",
    "- **smartphones** was misclassified as **PRON** by Vanilla Viterbi but correctly classified as **NOUN** by modified Viterbi\n",
    "- **FIFA** was misclassified as **PRON** by Vanilla Viterbi but correctly classified as **NOUN** by modified Viterbi\n",
    "- **Twitter** was misclassified as **PRON** by Vanilla Viterbi but correctly classified as **NOUN** by modified Viterbi\n",
    "- **NASA** was misclassified as **PRON** by Vanilla Viterbi but correctly classified as **NOUN** by modified Viterbi\n",
    "\n",
    "- etc.\n",
    "\n",
    "**Comparision of Modified Viterbi 1 and Mofidied Viterbi 2**\n",
    "\n",
    "As we can see, Modified Viterbi 2, i.e., the one coupled with Lexicon taggers outperforms Modified Viterbi 1\n",
    "\n",
    "Example:\n",
    "\n",
    "- **Google** was misclassified as **PRON** by Vanilla Viterbi and **X** by Modified Viterbi 1 but correctly classified as **NOUN** by modified Viterbi 2\n",
    "- **2013** was misclassified as **PRON** by Vanilla Viterbi and **NOUN** by Modified Viterbi 1 but correctly classified as **NUM** by modified Viterbi 2\n",
    "- **2011** was misclassified as **PRON** by Vanilla Viterbi and **NOUN** by Modified Viterbi 1 but correctly classified as **NUM** by modified Viterbi 2\n",
    "- **2015** was misclassified as **PRON** by Vanilla Viterbi and **NOUN** by Modified Viterbi 1 but correctly classified as **NUM** by modified Viterbi 2"
   ]
  },
  {
   "cell_type": "markdown",
   "metadata": {},
   "source": [
    "## So considering all the above cases of tag classifiers, it comes out that the Modified Viterb with Lexicon/Rule-based Taggers is the most robust of all three taggers."
   ]
  }
 ],
 "metadata": {
  "kernelspec": {
   "display_name": "Python 3",
   "language": "python",
   "name": "python3"
  },
  "language_info": {
   "codemirror_mode": {
    "name": "ipython",
    "version": 3
   },
   "file_extension": ".py",
   "mimetype": "text/x-python",
   "name": "python",
   "nbconvert_exporter": "python",
   "pygments_lexer": "ipython3",
   "version": "3.7.4"
  }
 },
 "nbformat": 4,
 "nbformat_minor": 2
}
